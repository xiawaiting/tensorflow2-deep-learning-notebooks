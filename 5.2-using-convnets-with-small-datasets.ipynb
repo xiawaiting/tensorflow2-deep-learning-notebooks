{
 "cells": [
  {
   "cell_type": "code",
   "execution_count": 1,
   "metadata": {},
   "outputs": [
    {
     "name": "stdout",
     "output_type": "stream",
     "text": [
      "Tensorflow :  2.0.0\n",
      " |-> Keras :  2.2.4-tf\n"
     ]
    }
   ],
   "source": [
    "import tensorflow as tf\n",
    "from tensorflow import keras\n",
    "print( 'Tensorflow : ',tf.__version__)\n",
    "print( ' |-> Keras : ',keras.__version__)"
   ]
  },
  {
   "cell_type": "markdown",
   "metadata": {},
   "source": [
    "# 5.2 - Using convnets with small datasets\n",
    "\n",
    "This notebook contains the code sample found in Chapter 5, Section 2 of [Deep Learning with Python](https://www.manning.com/books/deep-learning-with-python?a_aid=keras&a_bid=76564dff). Note that the original text features far more content, in particular further explanations and figures: in this notebook, you will only find source code and related comments.\n",
    "\n",
    "## Training a convnet from scratch on a small dataset\n",
    "\n",
    "Having to train an image classification model using only very little data is a common situation, which you likely encounter yourself in \n",
    "practice if you ever do computer vision in a professional context.\n",
    "\n",
    "Having \"few\" samples can mean anywhere from a few hundreds to a few tens of thousands of images. As a practical example, we will focus on \n",
    "classifying images as \"dogs\" or \"cats\", in a dataset containing 4000 pictures of cats and dogs (2000 cats, 2000 dogs). We will use 2000 \n",
    "pictures for training, 1000 for validation, and finally 1000 for testing.\n",
    "\n",
    "In this section, we will review one basic strategy to tackle this problem: training a new model from scratch on what little data we have. We \n",
    "will start by naively training a small convnet on our 2000 training samples, without any regularization, to set a baseline for what can be \n",
    "achieved. This will get us to a classification accuracy of 71%. At that point, our main issue will be overfitting. Then we will introduce \n",
    "*data augmentation*, a powerful technique for mitigating overfitting in computer vision. By leveraging data augmentation, we will improve \n",
    "our network to reach an accuracy of 82%.\n",
    "\n",
    "In the next section, we will review two more essential techniques for applying deep learning to small datasets: *doing feature extraction \n",
    "with a pre-trained network* (this will get us to an accuracy of 90% to 93%), and *fine-tuning a pre-trained network* (this will get us to \n",
    "our final accuracy of 95%). Together, these three strategies -- training a small model from scratch, doing feature extracting using a \n",
    "pre-trained model, and fine-tuning a pre-trained model -- will constitute your future toolbox for tackling the problem of doing computer \n",
    "vision with small datasets."
   ]
  },
  {
   "cell_type": "markdown",
   "metadata": {},
   "source": [
    "## The relevance of deep learning for small-data problems\n",
    "\n",
    "You will sometimes hear that deep learning only works when lots of data is available. This is in part a valid point: one fundamental \n",
    "characteristic of deep learning is that it is able to find interesting features in the training data on its own, without any need for manual \n",
    "feature engineering, and this can only be achieved when lots of training examples are available. This is especially true for problems where \n",
    "the input samples are very high-dimensional, like images.\n",
    "\n",
    "However, what constitutes \"lots\" of samples is relative -- relative to the size and depth of the network you are trying to train, for \n",
    "starters. It isn't possible to train a convnet to solve a complex problem with just a few tens of samples, but a few hundreds can \n",
    "potentially suffice if the model is small and well-regularized and if the task is simple. \n",
    "Because convnets learn local, translation-invariant features, they are very \n",
    "data-efficient on perceptual problems. Training a convnet from scratch on a very small image dataset will still yield reasonable results \n",
    "despite a relative lack of data, without the need for any custom feature engineering. You will see this in action in this section.\n",
    "\n",
    "But what's more, deep learning models are by nature highly repurposable: you can take, say, an image classification or speech-to-text model \n",
    "trained on a large-scale dataset then reuse it on a significantly different problem with only minor changes. Specifically, in the case of \n",
    "computer vision, many pre-trained models (usually trained on the ImageNet dataset) are now publicly available for download and can be used \n",
    "to bootstrap powerful vision models out of very little data. That's what we will do in the next section.\n",
    "\n",
    "For now, let's get started by getting our hands on the data."
   ]
  },
  {
   "cell_type": "markdown",
   "metadata": {},
   "source": [
    "## Downloading the data\n",
    "\n",
    "The cats vs. dogs dataset that we will use isn't packaged with Keras. It was made available by Kaggle.com as part of a computer vision \n",
    "competition in late 2013, back when convnets weren't quite mainstream. You can download the original dataset at: \n",
    "`https://www.kaggle.com/c/dogs-vs-cats/data` (you will need to create a Kaggle account if you don't already have one -- don't worry, the \n",
    "process is painless).\n",
    "\n",
    "The pictures are medium-resolution color JPEGs. They look like this:\n",
    "\n",
    "![cats_vs_dogs_samples](https://s3.amazonaws.com/book.keras.io/img/ch5/cats_vs_dogs_samples.jpg)"
   ]
  },
  {
   "cell_type": "markdown",
   "metadata": {},
   "source": [
    "Unsurprisingly, the cats vs. dogs Kaggle competition in 2013 was won by entrants who used convnets. The best entries could achieve up to \n",
    "95% accuracy. In our own example, we will get fairly close to this accuracy (in the next section), even though we will be training our \n",
    "models on less than 10% of the data that was available to the competitors.\n",
    "This original dataset contains 25,000 images of dogs and cats (12,500 from each class) and is 543MB large (compressed). After downloading \n",
    "and uncompressing it, we will create a new dataset containing three subsets: a training set with 1000 samples of each class, a validation \n",
    "set with 500 samples of each class, and finally a test set with 500 samples of each class.\n",
    "\n",
    "Here are a few lines of code to do this:"
   ]
  },
  {
   "cell_type": "code",
   "execution_count": 2,
   "metadata": {},
   "outputs": [],
   "source": [
    "import os, shutil"
   ]
  },
  {
   "cell_type": "code",
   "execution_count": 4,
   "metadata": {},
   "outputs": [],
   "source": [
    "# The path to the directory where the original\n",
    "# dataset was uncompressed\n",
    "original_dataset_dir = 'data/kaggle_original_data'\n",
    "\n",
    "# The directory where we will\n",
    "# store our smaller dataset\n",
    "base_dir = 'data/cats_and_dogs_small'\n",
    "os.mkdir(base_dir)\n",
    "\n",
    "# Directories for our training,\n",
    "# validation and test splits\n",
    "train_dir = os.path.join(base_dir, 'train')\n",
    "os.mkdir(train_dir)\n",
    "validation_dir = os.path.join(base_dir, 'validation')\n",
    "os.mkdir(validation_dir)\n",
    "test_dir = os.path.join(base_dir, 'test')\n",
    "os.mkdir(test_dir)\n",
    "\n",
    "# Directory with our training cat pictures\n",
    "train_cats_dir = os.path.join(train_dir, 'cats')\n",
    "os.mkdir(train_cats_dir)\n",
    "\n",
    "# Directory with our training dog pictures\n",
    "train_dogs_dir = os.path.join(train_dir, 'dogs')\n",
    "os.mkdir(train_dogs_dir)\n",
    "\n",
    "# Directory with our validation cat pictures\n",
    "validation_cats_dir = os.path.join(validation_dir, 'cats')\n",
    "os.mkdir(validation_cats_dir)\n",
    "\n",
    "# Directory with our validation dog pictures\n",
    "validation_dogs_dir = os.path.join(validation_dir, 'dogs')\n",
    "os.mkdir(validation_dogs_dir)\n",
    "\n",
    "# Directory with our validation cat pictures\n",
    "test_cats_dir = os.path.join(test_dir, 'cats')\n",
    "os.mkdir(test_cats_dir)\n",
    "\n",
    "# Directory with our validation dog pictures\n",
    "test_dogs_dir = os.path.join(test_dir, 'dogs')\n",
    "os.mkdir(test_dogs_dir)\n",
    "\n",
    "# Copy first 1000 cat images to train_cats_dir\n",
    "fnames = ['cat.{}.jpg'.format(i) for i in range(1000)]\n",
    "for fname in fnames:\n",
    "    src = os.path.join(original_dataset_dir, fname)\n",
    "    dst = os.path.join(train_cats_dir, fname)\n",
    "    shutil.copyfile(src, dst)\n",
    "\n",
    "# Copy next 500 cat images to validation_cats_dir\n",
    "fnames = ['cat.{}.jpg'.format(i) for i in range(1000, 1500)]\n",
    "for fname in fnames:\n",
    "    src = os.path.join(original_dataset_dir, fname)\n",
    "    dst = os.path.join(validation_cats_dir, fname)\n",
    "    shutil.copyfile(src, dst)\n",
    "    \n",
    "# Copy next 500 cat images to test_cats_dir\n",
    "fnames = ['cat.{}.jpg'.format(i) for i in range(1500, 2000)]\n",
    "for fname in fnames:\n",
    "    src = os.path.join(original_dataset_dir, fname)\n",
    "    dst = os.path.join(test_cats_dir, fname)\n",
    "    shutil.copyfile(src, dst)\n",
    "    \n",
    "# Copy first 1000 dog images to train_dogs_dir\n",
    "fnames = ['dog.{}.jpg'.format(i) for i in range(1000)]\n",
    "for fname in fnames:\n",
    "    src = os.path.join(original_dataset_dir, fname)\n",
    "    dst = os.path.join(train_dogs_dir, fname)\n",
    "    shutil.copyfile(src, dst)\n",
    "    \n",
    "# Copy next 500 dog images to validation_dogs_dir\n",
    "fnames = ['dog.{}.jpg'.format(i) for i in range(1000, 1500)]\n",
    "for fname in fnames:\n",
    "    src = os.path.join(original_dataset_dir, fname)\n",
    "    dst = os.path.join(validation_dogs_dir, fname)\n",
    "    shutil.copyfile(src, dst)\n",
    "    \n",
    "# Copy next 500 dog images to test_dogs_dir\n",
    "fnames = ['dog.{}.jpg'.format(i) for i in range(1500, 2000)]\n",
    "for fname in fnames:\n",
    "    src = os.path.join(original_dataset_dir, fname)\n",
    "    dst = os.path.join(test_dogs_dir, fname)\n",
    "    shutil.copyfile(src, dst)"
   ]
  },
  {
   "cell_type": "markdown",
   "metadata": {},
   "source": [
    "As a sanity check, let's count how many pictures we have in each training split (train/validation/test):"
   ]
  },
  {
   "cell_type": "code",
   "execution_count": 5,
   "metadata": {},
   "outputs": [
    {
     "name": "stdout",
     "output_type": "stream",
     "text": [
      "total training cat images: 1000\n"
     ]
    }
   ],
   "source": [
    "print('total training cat images:', len(os.listdir(train_cats_dir)))"
   ]
  },
  {
   "cell_type": "code",
   "execution_count": 6,
   "metadata": {},
   "outputs": [
    {
     "name": "stdout",
     "output_type": "stream",
     "text": [
      "total training dog images: 1000\n"
     ]
    }
   ],
   "source": [
    "print('total training dog images:', len(os.listdir(train_dogs_dir)))"
   ]
  },
  {
   "cell_type": "code",
   "execution_count": 7,
   "metadata": {},
   "outputs": [
    {
     "name": "stdout",
     "output_type": "stream",
     "text": [
      "total validation cat images: 500\n"
     ]
    }
   ],
   "source": [
    "print('total validation cat images:', len(os.listdir(validation_cats_dir)))"
   ]
  },
  {
   "cell_type": "code",
   "execution_count": 8,
   "metadata": {},
   "outputs": [
    {
     "name": "stdout",
     "output_type": "stream",
     "text": [
      "total validation dog images: 500\n"
     ]
    }
   ],
   "source": [
    "print('total validation dog images:', len(os.listdir(validation_dogs_dir)))"
   ]
  },
  {
   "cell_type": "code",
   "execution_count": 9,
   "metadata": {},
   "outputs": [
    {
     "name": "stdout",
     "output_type": "stream",
     "text": [
      "total test cat images: 500\n"
     ]
    }
   ],
   "source": [
    "print('total test cat images:', len(os.listdir(test_cats_dir)))"
   ]
  },
  {
   "cell_type": "code",
   "execution_count": 10,
   "metadata": {},
   "outputs": [
    {
     "name": "stdout",
     "output_type": "stream",
     "text": [
      "total test dog images: 500\n"
     ]
    }
   ],
   "source": [
    "print('total test dog images:', len(os.listdir(test_dogs_dir)))"
   ]
  },
  {
   "cell_type": "markdown",
   "metadata": {},
   "source": [
    "\n",
    "So we have indeed 2000 training images, and then 1000 validation images and 1000 test images. In each split, there is the same number of \n",
    "samples from each class: this is a balanced binary classification problem, which means that classification accuracy will be an appropriate \n",
    "measure of success."
   ]
  },
  {
   "cell_type": "markdown",
   "metadata": {},
   "source": [
    "## Building our network\n",
    "\n",
    "We've already built a small convnet for MNIST in the previous example, so you should be familiar with them. We will reuse the same \n",
    "general structure: our convnet will be a stack of alternated `Conv2D` (with `relu` activation) and `MaxPooling2D` layers.\n",
    "\n",
    "However, since we are dealing with bigger images and a more complex problem, we will make our network accordingly larger: it will have one \n",
    "more `Conv2D` + `MaxPooling2D` stage. This serves both to augment the capacity of the network, and to further reduce the size of the \n",
    "feature maps, so that they aren't overly large when we reach the `Flatten` layer. Here, since we start from inputs of size 150x150 (a \n",
    "somewhat arbitrary choice), we end up with feature maps of size 7x7 right before the `Flatten` layer.\n",
    "\n",
    "Note that the depth of the feature maps is progressively increasing in the network (from 32 to 128), while the size of the feature maps is \n",
    "decreasing (from 148x148 to 7x7). This is a pattern that you will see in almost all convnets.\n",
    "\n",
    "Since we are attacking a binary classification problem, we are ending the network with a single unit (a `Dense` layer of size 1) and a \n",
    "`sigmoid` activation. This unit will encode the probability that the network is looking at one class or the other."
   ]
  },
  {
   "cell_type": "code",
   "execution_count": 11,
   "metadata": {},
   "outputs": [
    {
     "name": "stderr",
     "output_type": "stream",
     "text": [
      "Using TensorFlow backend.\n"
     ]
    }
   ],
   "source": [
    "from keras import layers\n",
    "from keras import models\n",
    "\n",
    "model = models.Sequential()\n",
    "model.add(layers.Conv2D(32, (3, 3), activation='relu',\n",
    "                        input_shape=(150, 150, 3)))\n",
    "model.add(layers.MaxPooling2D((2, 2)))\n",
    "model.add(layers.Conv2D(64, (3, 3), activation='relu'))\n",
    "model.add(layers.MaxPooling2D((2, 2)))\n",
    "model.add(layers.Conv2D(128, (3, 3), activation='relu'))\n",
    "model.add(layers.MaxPooling2D((2, 2)))\n",
    "model.add(layers.Conv2D(128, (3, 3), activation='relu'))\n",
    "model.add(layers.MaxPooling2D((2, 2)))\n",
    "model.add(layers.Flatten())\n",
    "model.add(layers.Dense(512, activation='relu'))\n",
    "model.add(layers.Dense(1, activation='sigmoid'))"
   ]
  },
  {
   "cell_type": "markdown",
   "metadata": {},
   "source": [
    "Let's take a look at how the dimensions of the feature maps change with every successive layer:"
   ]
  },
  {
   "cell_type": "code",
   "execution_count": 12,
   "metadata": {},
   "outputs": [
    {
     "name": "stdout",
     "output_type": "stream",
     "text": [
      "Model: \"sequential_1\"\n",
      "_________________________________________________________________\n",
      "Layer (type)                 Output Shape              Param #   \n",
      "=================================================================\n",
      "conv2d_1 (Conv2D)            (None, 148, 148, 32)      896       \n",
      "_________________________________________________________________\n",
      "max_pooling2d_1 (MaxPooling2 (None, 74, 74, 32)        0         \n",
      "_________________________________________________________________\n",
      "conv2d_2 (Conv2D)            (None, 72, 72, 64)        18496     \n",
      "_________________________________________________________________\n",
      "max_pooling2d_2 (MaxPooling2 (None, 36, 36, 64)        0         \n",
      "_________________________________________________________________\n",
      "conv2d_3 (Conv2D)            (None, 34, 34, 128)       73856     \n",
      "_________________________________________________________________\n",
      "max_pooling2d_3 (MaxPooling2 (None, 17, 17, 128)       0         \n",
      "_________________________________________________________________\n",
      "conv2d_4 (Conv2D)            (None, 15, 15, 128)       147584    \n",
      "_________________________________________________________________\n",
      "max_pooling2d_4 (MaxPooling2 (None, 7, 7, 128)         0         \n",
      "_________________________________________________________________\n",
      "flatten_1 (Flatten)          (None, 6272)              0         \n",
      "_________________________________________________________________\n",
      "dense_1 (Dense)              (None, 512)               3211776   \n",
      "_________________________________________________________________\n",
      "dense_2 (Dense)              (None, 1)                 513       \n",
      "=================================================================\n",
      "Total params: 3,453,121\n",
      "Trainable params: 3,453,121\n",
      "Non-trainable params: 0\n",
      "_________________________________________________________________\n"
     ]
    }
   ],
   "source": [
    "model.summary()"
   ]
  },
  {
   "cell_type": "markdown",
   "metadata": {},
   "source": [
    "For our compilation step, we'll go with the `RMSprop` optimizer as usual. Since we ended our network with a single sigmoid unit, we will \n",
    "use binary crossentropy as our loss (as a reminder, check out the table in Chapter 4, section 5 for a cheatsheet on what loss function to \n",
    "use in various situations)."
   ]
  },
  {
   "cell_type": "code",
   "execution_count": 13,
   "metadata": {},
   "outputs": [],
   "source": [
    "from keras import optimizers\n",
    "\n",
    "model.compile(loss='binary_crossentropy',\n",
    "              optimizer=optimizers.RMSprop(lr=1e-4),\n",
    "              metrics=['acc'])"
   ]
  },
  {
   "cell_type": "markdown",
   "metadata": {},
   "source": [
    "## Data preprocessing\n",
    "\n",
    "As you already know by now, data should be formatted into appropriately pre-processed floating point tensors before being fed into our \n",
    "network. Currently, our data sits on a drive as JPEG files, so the steps for getting it into our network are roughly:\n",
    "\n",
    "* Read the picture files.\n",
    "* Decode the JPEG content to RBG grids of pixels.\n",
    "* Convert these into floating point tensors.\n",
    "* Rescale the pixel values (between 0 and 255) to the [0, 1] interval (as you know, neural networks prefer to deal with small input values).\n",
    "\n",
    "It may seem a bit daunting, but thankfully Keras has utilities to take care of these steps automatically. Keras has a module with image \n",
    "processing helper tools, located at `keras.preprocessing.image`. In particular, it contains the class `ImageDataGenerator` which allows to \n",
    "quickly set up Python generators that can automatically turn image files on disk into batches of pre-processed tensors. This is what we \n",
    "will use here."
   ]
  },
  {
   "cell_type": "code",
   "execution_count": 14,
   "metadata": {},
   "outputs": [
    {
     "name": "stdout",
     "output_type": "stream",
     "text": [
      "Found 2000 images belonging to 2 classes.\n",
      "Found 1000 images belonging to 2 classes.\n"
     ]
    }
   ],
   "source": [
    "from keras.preprocessing.image import ImageDataGenerator\n",
    "\n",
    "# All images will be rescaled by 1./255\n",
    "train_datagen = ImageDataGenerator(rescale=1./255)\n",
    "test_datagen = ImageDataGenerator(rescale=1./255)\n",
    "\n",
    "train_generator = train_datagen.flow_from_directory(\n",
    "        # This is the target directory\n",
    "        train_dir,\n",
    "        # All images will be resized to 150x150\n",
    "        target_size=(150, 150),\n",
    "        batch_size=20,\n",
    "        # Since we use binary_crossentropy loss, we need binary labels\n",
    "        class_mode='binary')\n",
    "\n",
    "validation_generator = test_datagen.flow_from_directory(\n",
    "        validation_dir,\n",
    "        target_size=(150, 150),\n",
    "        batch_size=20,\n",
    "        class_mode='binary')"
   ]
  },
  {
   "cell_type": "markdown",
   "metadata": {},
   "source": [
    "Let's take a look at the output of one of these generators: it yields batches of 150x150 RGB images (shape `(20, 150, 150, 3)`) and binary \n",
    "labels (shape `(20,)`). 20 is the number of samples in each batch (the batch size). Note that the generator yields these batches \n",
    "indefinitely: it just loops endlessly over the images present in the target folder. For this reason, we need to `break` the iteration loop \n",
    "at some point."
   ]
  },
  {
   "cell_type": "code",
   "execution_count": 15,
   "metadata": {},
   "outputs": [
    {
     "name": "stdout",
     "output_type": "stream",
     "text": [
      "data batch shape: (20, 150, 150, 3)\n",
      "labels batch shape: (20,)\n"
     ]
    }
   ],
   "source": [
    "for data_batch, labels_batch in train_generator:\n",
    "    print('data batch shape:', data_batch.shape)\n",
    "    print('labels batch shape:', labels_batch.shape)\n",
    "    break"
   ]
  },
  {
   "cell_type": "markdown",
   "metadata": {},
   "source": [
    "Let's fit our model to the data using the generator. We do it using the `fit_generator` method, the equivalent of `fit` for data generators \n",
    "like ours. It expects as first argument a Python generator that will yield batches of inputs and targets indefinitely, like ours does. \n",
    "Because the data is being generated endlessly, the generator needs to know example how many samples to draw from the generator before \n",
    "declaring an epoch over. This is the role of the `steps_per_epoch` argument: after having drawn `steps_per_epoch` batches from the \n",
    "generator, i.e. after having run for `steps_per_epoch` gradient descent steps, the fitting process will go to the next epoch. In our case, \n",
    "batches are 20-sample large, so it will take 100 batches until we see our target of 2000 samples.\n",
    "\n",
    "When using `fit_generator`, one may pass a `validation_data` argument, much like with the `fit` method. Importantly, this argument is \n",
    "allowed to be a data generator itself, but it could be a tuple of Numpy arrays as well. If you pass a generator as `validation_data`, then \n",
    "this generator is expected to yield batches of validation data endlessly, and thus you should also specify the `validation_steps` argument, \n",
    "which tells the process how many batches to draw from the validation generator for evaluation."
   ]
  },
  {
   "cell_type": "code",
   "execution_count": 16,
   "metadata": {},
   "outputs": [
    {
     "name": "stdout",
     "output_type": "stream",
     "text": [
      "Epoch 1/30\n",
      "100/100 [==============================] - 16s 160ms/step - loss: 0.6883 - acc: 0.5350 - val_loss: 0.6507 - val_acc: 0.6160\n",
      "Epoch 2/30\n",
      "100/100 [==============================] - 7s 66ms/step - loss: 0.6614 - acc: 0.5975 - val_loss: 0.6387 - val_acc: 0.6360\n",
      "Epoch 3/30\n",
      "100/100 [==============================] - 6s 59ms/step - loss: 0.6170 - acc: 0.6695 - val_loss: 0.6385 - val_acc: 0.6390\n",
      "Epoch 4/30\n",
      "100/100 [==============================] - 6s 59ms/step - loss: 0.5708 - acc: 0.6945 - val_loss: 0.5122 - val_acc: 0.6600\n",
      "Epoch 5/30\n",
      "100/100 [==============================] - 6s 58ms/step - loss: 0.5459 - acc: 0.7255 - val_loss: 0.6449 - val_acc: 0.6870\n",
      "Epoch 6/30\n",
      "100/100 [==============================] - 6s 61ms/step - loss: 0.5138 - acc: 0.7455 - val_loss: 0.6958 - val_acc: 0.6520\n",
      "Epoch 7/30\n",
      "100/100 [==============================] - 6s 59ms/step - loss: 0.4840 - acc: 0.7680 - val_loss: 0.7725 - val_acc: 0.6730\n",
      "Epoch 8/30\n",
      "100/100 [==============================] - 6s 61ms/step - loss: 0.4582 - acc: 0.7885 - val_loss: 0.7184 - val_acc: 0.6980\n",
      "Epoch 9/30\n",
      "100/100 [==============================] - 6s 60ms/step - loss: 0.4381 - acc: 0.7910 - val_loss: 0.2850 - val_acc: 0.7060\n",
      "Epoch 10/30\n",
      "100/100 [==============================] - 6s 60ms/step - loss: 0.4141 - acc: 0.8060 - val_loss: 0.5091 - val_acc: 0.7190\n",
      "Epoch 11/30\n",
      "100/100 [==============================] - 6s 62ms/step - loss: 0.3840 - acc: 0.8280 - val_loss: 0.4502 - val_acc: 0.7250\n",
      "Epoch 12/30\n",
      "100/100 [==============================] - 6s 60ms/step - loss: 0.3645 - acc: 0.8445 - val_loss: 0.5559 - val_acc: 0.7030\n",
      "Epoch 13/30\n",
      "100/100 [==============================] - 6s 64ms/step - loss: 0.3477 - acc: 0.8505 - val_loss: 0.4062 - val_acc: 0.7430\n",
      "Epoch 14/30\n",
      "100/100 [==============================] - 7s 66ms/step - loss: 0.3218 - acc: 0.8625 - val_loss: 0.3673 - val_acc: 0.7410\n",
      "Epoch 15/30\n",
      "100/100 [==============================] - 7s 66ms/step - loss: 0.2933 - acc: 0.8780 - val_loss: 0.5468 - val_acc: 0.7180\n",
      "Epoch 16/30\n",
      "100/100 [==============================] - 6s 62ms/step - loss: 0.2741 - acc: 0.8925 - val_loss: 0.3643 - val_acc: 0.7190\n",
      "Epoch 17/30\n",
      "100/100 [==============================] - 6s 60ms/step - loss: 0.2577 - acc: 0.8940 - val_loss: 0.3223 - val_acc: 0.7430\n",
      "Epoch 18/30\n",
      "100/100 [==============================] - 6s 62ms/step - loss: 0.2245 - acc: 0.9130 - val_loss: 0.5020 - val_acc: 0.7430\n",
      "Epoch 19/30\n",
      "100/100 [==============================] - 6s 63ms/step - loss: 0.2130 - acc: 0.9250 - val_loss: 0.7094 - val_acc: 0.7310\n",
      "Epoch 20/30\n",
      "100/100 [==============================] - 6s 61ms/step - loss: 0.1867 - acc: 0.9355 - val_loss: 0.2765 - val_acc: 0.7340\n",
      "Epoch 21/30\n",
      "100/100 [==============================] - 6s 65ms/step - loss: 0.1707 - acc: 0.9375 - val_loss: 0.4897 - val_acc: 0.7170\n",
      "Epoch 22/30\n",
      "100/100 [==============================] - 7s 67ms/step - loss: 0.1571 - acc: 0.9475 - val_loss: 1.8003 - val_acc: 0.6920\n",
      "Epoch 23/30\n",
      "100/100 [==============================] - 6s 63ms/step - loss: 0.1358 - acc: 0.9540 - val_loss: 1.1045 - val_acc: 0.7190\n",
      "Epoch 24/30\n",
      "100/100 [==============================] - 6s 62ms/step - loss: 0.1259 - acc: 0.9540 - val_loss: 0.7211 - val_acc: 0.7530\n",
      "Epoch 25/30\n",
      "100/100 [==============================] - 6s 61ms/step - loss: 0.1009 - acc: 0.9695 - val_loss: 0.7685 - val_acc: 0.7350\n",
      "Epoch 26/30\n",
      "100/100 [==============================] - 6s 62ms/step - loss: 0.0889 - acc: 0.9720 - val_loss: 0.9937 - val_acc: 0.7420\n",
      "Epoch 27/30\n",
      "100/100 [==============================] - 6s 61ms/step - loss: 0.0803 - acc: 0.9735 - val_loss: 0.7229 - val_acc: 0.7320\n",
      "Epoch 28/30\n",
      "100/100 [==============================] - 7s 66ms/step - loss: 0.0681 - acc: 0.9785 - val_loss: 0.4406 - val_acc: 0.7400\n",
      "Epoch 29/30\n",
      "100/100 [==============================] - 6s 60ms/step - loss: 0.0576 - acc: 0.9860 - val_loss: 0.7890 - val_acc: 0.7250\n",
      "Epoch 30/30\n",
      "100/100 [==============================] - 6s 60ms/step - loss: 0.0549 - acc: 0.9840 - val_loss: 0.6788 - val_acc: 0.7360\n"
     ]
    }
   ],
   "source": [
    "history = model.fit_generator(\n",
    "      train_generator,\n",
    "      steps_per_epoch=100,\n",
    "      epochs=30,\n",
    "      validation_data=validation_generator,\n",
    "      validation_steps=50)"
   ]
  },
  {
   "cell_type": "markdown",
   "metadata": {
    "collapsed": true
   },
   "source": [
    "It is good practice to always save your models after training:"
   ]
  },
  {
   "cell_type": "code",
   "execution_count": 17,
   "metadata": {},
   "outputs": [],
   "source": [
    "model.save('saved_models/cats_and_dogs_small_1.h5')"
   ]
  },
  {
   "cell_type": "markdown",
   "metadata": {},
   "source": [
    "Let's plot the loss and accuracy of the model over the training and validation data during training:"
   ]
  },
  {
   "cell_type": "code",
   "execution_count": 18,
   "metadata": {},
   "outputs": [
    {
     "data": {
      "image/png": "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\n",
      "text/plain": [
       "<Figure size 432x288 with 1 Axes>"
      ]
     },
     "metadata": {
      "needs_background": "light"
     },
     "output_type": "display_data"
    },
    {
     "data": {
      "image/png": "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