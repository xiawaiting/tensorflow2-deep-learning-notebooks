{
 "cells": [
  {
   "cell_type": "code",
   "execution_count": 1,
   "metadata": {},
   "outputs": [
    {
     "name": "stdout",
     "output_type": "stream",
     "text": [
      "Tensorflow :  2.0.0\n",
      " |-> Keras :  2.2.4-tf\n"
     ]
    }
   ],
   "source": [
    "import tensorflow as tf\n",
    "from tensorflow import keras\n",
    "print( 'Tensorflow : ',tf.__version__)\n",
    "print( ' |-> Keras : ',keras.__version__)"
   ]
  },
  {
   "cell_type": "markdown",
   "metadata": {},
   "source": [
    "# 5.2 - Using convnets with small datasets\n",
    "\n",
    "This notebook contains the code sample found in Chapter 5, Section 2 of [Deep Learning with Python](https://www.manning.com/books/deep-learning-with-python?a_aid=keras&a_bid=76564dff). Note that the original text features far more content, in particular further explanations and figures: in this notebook, you will only find source code and related comments.\n",
    "\n",
    "## Training a convnet from scratch on a small dataset\n",
    "\n",
    "Having to train an image classification model using only very little data is a common situation, which you likely encounter yourself in \n",
    "practice if you ever do computer vision in a professional context.\n",
    "\n",
    "Having \"few\" samples can mean anywhere from a few hundreds to a few tens of thousands of images. As a practical example, we will focus on \n",
    "classifying images as \"dogs\" or \"cats\", in a dataset containing 4000 pictures of cats and dogs (2000 cats, 2000 dogs). We will use 2000 \n",
    "pictures for training, 1000 for validation, and finally 1000 for testing.\n",
    "\n",
    "In this section, we will review one basic strategy to tackle this problem: training a new model from scratch on what little data we have. We \n",
    "will start by naively training a small convnet on our 2000 training samples, without any regularization, to set a baseline for what can be \n",
    "achieved. This will get us to a classification accuracy of 71%. At that point, our main issue will be overfitting. Then we will introduce \n",
    "*data augmentation*, a powerful technique for mitigating overfitting in computer vision. By leveraging data augmentation, we will improve \n",
    "our network to reach an accuracy of 82%.\n",
    "\n",
    "In the next section, we will review two more essential techniques for applying deep learning to small datasets: *doing feature extraction \n",
    "with a pre-trained network* (this will get us to an accuracy of 90% to 93%), and *fine-tuning a pre-trained network* (this will get us to \n",
    "our final accuracy of 95%). Together, these three strategies -- training a small model from scratch, doing feature extracting using a \n",
    "pre-trained model, and fine-tuning a pre-trained model -- will constitute your future toolbox for tackling the problem of doing computer \n",
    "vision with small datasets."
   ]
  },
  {
   "cell_type": "markdown",
   "metadata": {},
   "source": [
    "## The relevance of deep learning for small-data problems\n",
    "\n",
    "You will sometimes hear that deep learning only works when lots of data is available. This is in part a valid point: one fundamental \n",
    "characteristic of deep learning is that it is able to find interesting features in the training data on its own, without any need for manual \n",
    "feature engineering, and this can only be achieved when lots of training examples are available. This is especially true for problems where \n",
    "the input samples are very high-dimensional, like images.\n",
    "\n",
    "However, what constitutes \"lots\" of samples is relative -- relative to the size and depth of the network you are trying to train, for \n",
    "starters. It isn't possible to train a convnet to solve a complex problem with just a few tens of samples, but a few hundreds can \n",
    "potentially suffice if the model is small and well-regularized and if the task is simple. \n",
    "Because convnets learn local, translation-invariant features, they are very \n",
    "data-efficient on perceptual problems. Training a convnet from scratch on a very small image dataset will still yield reasonable results \n",
    "despite a relative lack of data, without the need for any custom feature engineering. You will see this in action in this section.\n",
    "\n",
    "But what's more, deep learning models are by nature highly repurposable: you can take, say, an image classification or speech-to-text model \n",
    "trained on a large-scale dataset then reuse it on a significantly different problem with only minor changes. Specifically, in the case of \n",
    "computer vision, many pre-trained models (usually trained on the ImageNet dataset) are now publicly available for download and can be used \n",
    "to bootstrap powerful vision models out of very little data. That's what we will do in the next section.\n",
    "\n",
    "For now, let's get started by getting our hands on the data."
   ]
  },
  {
   "cell_type": "markdown",
   "metadata": {},
   "source": [
    "## Downloading the data\n",
    "\n",
    "The cats vs. dogs dataset that we will use isn't packaged with Keras. It was made available by Kaggle.com as part of a computer vision \n",
    "competition in late 2013, back when convnets weren't quite mainstream. You can download the original dataset at: \n",
    "`https://www.kaggle.com/c/dogs-vs-cats/data` (you will need to create a Kaggle account if you don't already have one -- don't worry, the \n",
    "process is painless).\n",
    "\n",
    "The pictures are medium-resolution color JPEGs. They look like this:\n",
    "\n",
    "![cats_vs_dogs_samples](https://s3.amazonaws.com/book.keras.io/img/ch5/cats_vs_dogs_samples.jpg)"
   ]
  },
  {
   "cell_type": "markdown",
   "metadata": {},
   "source": [
    "Unsurprisingly, the cats vs. dogs Kaggle competition in 2013 was won by entrants who used convnets. The best entries could achieve up to \n",
    "95% accuracy. In our own example, we will get fairly close to this accuracy (in the next section), even though we will be training our \n",
    "models on less than 10% of the data that was available to the competitors.\n",
    "This original dataset contains 25,000 images of dogs and cats (12,500 from each class) and is 543MB large (compressed). After downloading \n",
    "and uncompressing it, we will create a new dataset containing three subsets: a training set with 1000 samples of each class, a validation \n",
    "set with 500 samples of each class, and finally a test set with 500 samples of each class.\n",
    "\n",
    "Here are a few lines of code to do this:"
   ]
  },
  {
   "cell_type": "code",
   "execution_count": 2,
   "metadata": {},
   "outputs": [],
   "source": [
    "import os, shutil"
   ]
  },
  {
   "cell_type": "code",
   "execution_count": 4,
   "metadata": {},
   "outputs": [],
   "source": [
    "# The path to the directory where the original\n",
    "# dataset was uncompressed\n",
    "original_dataset_dir = 'data/kaggle_original_data'\n",
    "\n",
    "# The directory where we will\n",
    "# store our smaller dataset\n",
    "base_dir = 'data/cats_and_dogs_small'\n",
    "os.mkdir(base_dir)\n",
    "\n",
    "# Directories for our training,\n",
    "# validation and test splits\n",
    "train_dir = os.path.join(base_dir, 'train')\n",
    "os.mkdir(train_dir)\n",
    "validation_dir = os.path.join(base_dir, 'validation')\n",
    "os.mkdir(validation_dir)\n",
    "test_dir = os.path.join(base_dir, 'test')\n",
    "os.mkdir(test_dir)\n",
    "\n",
    "# Directory with our training cat pictures\n",
    "train_cats_dir = os.path.join(train_dir, 'cats')\n",
    "os.mkdir(train_cats_dir)\n",
    "\n",
    "# Directory with our training dog pictures\n",
    "train_dogs_dir = os.path.join(train_dir, 'dogs')\n",
    "os.mkdir(train_dogs_dir)\n",
    "\n",
    "# Directory with our validation cat pictures\n",
    "validation_cats_dir = os.path.join(validation_dir, 'cats')\n",
    "os.mkdir(validation_cats_dir)\n",
    "\n",
    "# Directory with our validation dog pictures\n",
    "validation_dogs_dir = os.path.join(validation_dir, 'dogs')\n",
    "os.mkdir(validation_dogs_dir)\n",
    "\n",
    "# Directory with our validation cat pictures\n",
    "test_cats_dir = os.path.join(test_dir, 'cats')\n",
    "os.mkdir(test_cats_dir)\n",
    "\n",
    "# Directory with our validation dog pictures\n",
    "test_dogs_dir = os.path.join(test_dir, 'dogs')\n",
    "os.mkdir(test_dogs_dir)\n",
    "\n",
    "# Copy first 1000 cat images to train_cats_dir\n",
    "fnames = ['cat.{}.jpg'.format(i) for i in range(1000)]\n",
    "for fname in fnames:\n",
    "    src = os.path.join(original_dataset_dir, fname)\n",
    "    dst = os.path.join(train_cats_dir, fname)\n",
    "    shutil.copyfile(src, dst)\n",
    "\n",
    "# Copy next 500 cat images to validation_cats_dir\n",
    "fnames = ['cat.{}.jpg'.format(i) for i in range(1000, 1500)]\n",
    "for fname in fnames:\n",
    "    src = os.path.join(original_dataset_dir, fname)\n",
    "    dst = os.path.join(validation_cats_dir, fname)\n",
    "    shutil.copyfile(src, dst)\n",
    "    \n",
    "# Copy next 500 cat images to test_cats_dir\n",
    "fnames = ['cat.{}.jpg'.format(i) for i in range(1500, 2000)]\n",
    "for fname in fnames:\n",
    "    src = os.path.join(original_dataset_dir, fname)\n",
    "    dst = os.path.join(test_cats_dir, fname)\n",
    "    shutil.copyfile(src, dst)\n",
    "    \n",
    "# Copy first 1000 dog images to train_dogs_dir\n",
    "fnames = ['dog.{}.jpg'.format(i) for i in range(1000)]\n",
    "for fname in fnames:\n",
    "    src = os.path.join(original_dataset_dir, fname)\n",
    "    dst = os.path.join(train_dogs_dir, fname)\n",
    "    shutil.copyfile(src, dst)\n",
    "    \n",
    "# Copy next 500 dog images to validation_dogs_dir\n",
    "fnames = ['dog.{}.jpg'.format(i) for i in range(1000, 1500)]\n",
    "for fname in fnames:\n",
    "    src = os.path.join(original_dataset_dir, fname)\n",
    "    dst = os.path.join(validation_dogs_dir, fname)\n",
    "    shutil.copyfile(src, dst)\n",
    "    \n",
    "# Copy next 500 dog images to test_dogs_dir\n",
    "fnames = ['dog.{}.jpg'.format(i) for i in range(1500, 2000)]\n",
    "for fname in fnames:\n",
    "    src = os.path.join(original_dataset_dir, fname)\n",
    "    dst = os.path.join(test_dogs_dir, fname)\n",
    "    shutil.copyfile(src, dst)"
   ]
  },
  {
   "cell_type": "markdown",
   "metadata": {},
   "source": [
    "As a sanity check, let's count how many pictures we have in each training split (train/validation/test):"
   ]
  },
  {
   "cell_type": "code",
   "execution_count": 5,
   "metadata": {},
   "outputs": [
    {
     "name": "stdout",
     "output_type": "stream",
     "text": [
      "total training cat images: 1000\n"
     ]
    }
   ],
   "source": [
    "print('total training cat images:', len(os.listdir(train_cats_dir)))"
   ]
  },
  {
   "cell_type": "code",
   "execution_count": 6,
   "metadata": {},
   "outputs": [
    {
     "name": "stdout",
     "output_type": "stream",
     "text": [
      "total training dog images: 1000\n"
     ]
    }
   ],
   "source": [
    "print('total training dog images:', len(os.listdir(train_dogs_dir)))"
   ]
  },
  {
   "cell_type": "code",
   "execution_count": 7,
   "metadata": {},
   "outputs": [
    {
     "name": "stdout",
     "output_type": "stream",
     "text": [
      "total validation cat images: 500\n"
     ]
    }
   ],
   "source": [
    "print('total validation cat images:', len(os.listdir(validation_cats_dir)))"
   ]
  },
  {
   "cell_type": "code",
   "execution_count": 8,
   "metadata": {},
   "outputs": [
    {
     "name": "stdout",
     "output_type": "stream",
     "text": [
      "total validation dog images: 500\n"
     ]
    }
   ],
   "source": [
    "print('total validation dog images:', len(os.listdir(validation_dogs_dir)))"
   ]
  },
  {
   "cell_type": "code",
   "execution_count": 9,
   "metadata": {},
   "outputs": [
    {
     "name": "stdout",
     "output_type": "stream",
     "text": [
      "total test cat images: 500\n"
     ]
    }
   ],
   "source": [
    "print('total test cat images:', len(os.listdir(test_cats_dir)))"
   ]
  },
  {
   "cell_type": "code",
   "execution_count": 10,
   "metadata": {},
   "outputs": [
    {
     "name": "stdout",
     "output_type": "stream",
     "text": [
      "total test dog images: 500\n"
     ]
    }
   ],
   "source": [
    "print('total test dog images:', len(os.listdir(test_dogs_dir)))"
   ]
  },
  {
   "cell_type": "markdown",
   "metadata": {},
   "source": [
    "\n",
    "So we have indeed 2000 training images, and then 1000 validation images and 1000 test images. In each split, there is the same number of \n",
    "samples from each class: this is a balanced binary classification problem, which means that classification accuracy will be an appropriate \n",
    "measure of success."
   ]
  },
  {
   "cell_type": "markdown",
   "metadata": {},
   "source": [
    "## Building our network\n",
    "\n",
    "We've already built a small convnet for MNIST in the previous example, so you should be familiar with them. We will reuse the same \n",
    "general structure: our convnet will be a stack of alternated `Conv2D` (with `relu` activation) and `MaxPooling2D` layers.\n",
    "\n",
    "However, since we are dealing with bigger images and a more complex problem, we will make our network accordingly larger: it will have one \n",
    "more `Conv2D` + `MaxPooling2D` stage. This serves both to augment the capacity of the network, and to further reduce the size of the \n",
    "feature maps, so that they aren't overly large when we reach the `Flatten` layer. Here, since we start from inputs of size 150x150 (a \n",
    "somewhat arbitrary choice), we end up with feature maps of size 7x7 right before the `Flatten` layer.\n",
    "\n",
    "Note that the depth of the feature maps is progressively increasing in the network (from 32 to 128), while the size of the feature maps is \n",
    "decreasing (from 148x148 to 7x7). This is a pattern that you will see in almost all convnets.\n",
    "\n",
    "Since we are attacking a binary classification problem, we are ending the network with a single unit (a `Dense` layer of size 1) and a \n",
    "`sigmoid` activation. This unit will encode the probability that the network is looking at one class or the other."
   ]
  },
  {
   "cell_type": "code",
   "execution_count": 11,
   "metadata": {},
   "outputs": [
    {
     "name": "stderr",
     "output_type": "stream",
     "text": [
      "Using TensorFlow backend.\n"
     ]
    }
   ],
   "source": [
    "from keras import layers\n",
    "from keras import models\n",
    "\n",
    "model = models.Sequential()\n",
    "model.add(layers.Conv2D(32, (3, 3), activation='relu',\n",
    "                        input_shape=(150, 150, 3)))\n",
    "model.add(layers.MaxPooling2D((2, 2)))\n",
    "model.add(layers.Conv2D(64, (3, 3), activation='relu'))\n",
    "model.add(layers.MaxPooling2D((2, 2)))\n",
    "model.add(layers.Conv2D(128, (3, 3), activation='relu'))\n",
    "model.add(layers.MaxPooling2D((2, 2)))\n",
    "model.add(layers.Conv2D(128, (3, 3), activation='relu'))\n",
    "model.add(layers.MaxPooling2D((2, 2)))\n",
    "model.add(layers.Flatten())\n",
    "model.add(layers.Dense(512, activation='relu'))\n",
    "model.add(layers.Dense(1, activation='sigmoid'))"
   ]
  },
  {
   "cell_type": "markdown",
   "metadata": {},
   "source": [
    "Let's take a look at how the dimensions of the feature maps change with every successive layer:"
   ]
  },
  {
   "cell_type": "code",
   "execution_count": 12,
   "metadata": {},
   "outputs": [
    {
     "name": "stdout",
     "output_type": "stream",
     "text": [
      "Model: \"sequential_1\"\n",
      "_________________________________________________________________\n",
      "Layer (type)                 Output Shape              Param #   \n",
      "=================================================================\n",
      "conv2d_1 (Conv2D)            (None, 148, 148, 32)      896       \n",
      "_________________________________________________________________\n",
      "max_pooling2d_1 (MaxPooling2 (None, 74, 74, 32)        0         \n",
      "_________________________________________________________________\n",
      "conv2d_2 (Conv2D)            (None, 72, 72, 64)        18496     \n",
      "_________________________________________________________________\n",
      "max_pooling2d_2 (MaxPooling2 (None, 36, 36, 64)        0         \n",
      "_________________________________________________________________\n",
      "conv2d_3 (Conv2D)            (None, 34, 34, 128)       73856     \n",
      "_________________________________________________________________\n",
      "max_pooling2d_3 (MaxPooling2 (None, 17, 17, 128)       0         \n",
      "_________________________________________________________________\n",
      "conv2d_4 (Conv2D)            (None, 15, 15, 128)       147584    \n",
      "_________________________________________________________________\n",
      "max_pooling2d_4 (MaxPooling2 (None, 7, 7, 128)         0         \n",
      "_________________________________________________________________\n",
      "flatten_1 (Flatten)          (None, 6272)              0         \n",
      "_________________________________________________________________\n",
      "dense_1 (Dense)              (None, 512)               3211776   \n",
      "_________________________________________________________________\n",
      "dense_2 (Dense)              (None, 1)                 513       \n",
      "=================================================================\n",
      "Total params: 3,453,121\n",
      "Trainable params: 3,453,121\n",
      "Non-trainable params: 0\n",
      "_________________________________________________________________\n"
     ]
    }
   ],
   "source": [
    "model.summary()"
   ]
  },
  {
   "cell_type": "markdown",
   "metadata": {},
   "source": [
    "For our compilation step, we'll go with the `RMSprop` optimizer as usual. Since we ended our network with a single sigmoid unit, we will \n",
    "use binary crossentropy as our loss (as a reminder, check out the table in Chapter 4, section 5 for a cheatsheet on what loss function to \n",
    "use in various situations)."
   ]
  },
  {
   "cell_type": "code",
   "execution_count": 13,
   "metadata": {},
   "outputs": [],
   "source": [
    "from keras import optimizers\n",
    "\n",
    "model.compile(loss='binary_crossentropy',\n",
    "              optimizer=optimizers.RMSprop(lr=1e-4),\n",
    "              metrics=['acc'])"
   ]
  },
  {
   "cell_type": "markdown",
   "metadata": {},
   "source": [
    "## Data preprocessing\n",
    "\n",
    "As you already know by now, data should be formatted into appropriately pre-processed floating point tensors before being fed into our \n",
    "network. Currently, our data sits on a drive as JPEG files, so the steps for getting it into our network are roughly:\n",
    "\n",
    "* Read the picture files.\n",
    "* Decode the JPEG content to RBG grids of pixels.\n",
    "* Convert these into floating point tensors.\n",
    "* Rescale the pixel values (between 0 and 255) to the [0, 1] interval (as you know, neural networks prefer to deal with small input values).\n",
    "\n",
    "It may seem a bit daunting, but thankfully Keras has utilities to take care of these steps automatically. Keras has a module with image \n",
    "processing helper tools, located at `keras.preprocessing.image`. In particular, it contains the class `ImageDataGenerator` which allows to \n",
    "quickly set up Python generators that can automatically turn image files on disk into batches of pre-processed tensors. This is what we \n",
    "will use here."
   ]
  },
  {
   "cell_type": "code",
   "execution_count": 14,
   "metadata": {},
   "outputs": [
    {
     "name": "stdout",
     "output_type": "stream",
     "text": [
      "Found 2000 images belonging to 2 classes.\n",
      "Found 1000 images belonging to 2 classes.\n"
     ]
    }
   ],
   "source": [
    "from keras.preprocessing.image import ImageDataGenerator\n",
    "\n",
    "# All images will be rescaled by 1./255\n",
    "train_datagen = ImageDataGenerator(rescale=1./255)\n",
    "test_datagen = ImageDataGenerator(rescale=1./255)\n",
    "\n",
    "train_generator = train_datagen.flow_from_directory(\n",
    "        # This is the target directory\n",
    "        train_dir,\n",
    "        # All images will be resized to 150x150\n",
    "        target_size=(150, 150),\n",
    "        batch_size=20,\n",
    "        # Since we use binary_crossentropy loss, we need binary labels\n",
    "        class_mode='binary')\n",
    "\n",
    "validation_generator = test_datagen.flow_from_directory(\n",
    "        validation_dir,\n",
    "        target_size=(150, 150),\n",
    "        batch_size=20,\n",
    "        class_mode='binary')"
   ]
  },
  {
   "cell_type": "markdown",
   "metadata": {},
   "source": [
    "Let's take a look at the output of one of these generators: it yields batches of 150x150 RGB images (shape `(20, 150, 150, 3)`) and binary \n",
    "labels (shape `(20,)`). 20 is the number of samples in each batch (the batch size). Note that the generator yields these batches \n",
    "indefinitely: it just loops endlessly over the images present in the target folder. For this reason, we need to `break` the iteration loop \n",
    "at some point."
   ]
  },
  {
   "cell_type": "code",
   "execution_count": 15,
   "metadata": {},
   "outputs": [
    {
     "name": "stdout",
     "output_type": "stream",
     "text": [
      "data batch shape: (20, 150, 150, 3)\n",
      "labels batch shape: (20,)\n"
     ]
    }
   ],
   "source": [
    "for data_batch, labels_batch in train_generator:\n",
    "    print('data batch shape:', data_batch.shape)\n",
    "    print('labels batch shape:', labels_batch.shape)\n",
    "    break"
   ]
  },
  {
   "cell_type": "markdown",
   "metadata": {},
   "source": [
    "Let's fit our model to the data using the generator. We do it using the `fit_generator` method, the equivalent of `fit` for data generators \n",
    "like ours. It expects as first argument a Python generator that will yield batches of inputs and targets indefinitely, like ours does. \n",
    "Because the data is being generated endlessly, the generator needs to know example how many samples to draw from the generator before \n",
    "declaring an epoch over. This is the role of the `steps_per_epoch` argument: after having drawn `steps_per_epoch` batches from the \n",
    "generator, i.e. after having run for `steps_per_epoch` gradient descent steps, the fitting process will go to the next epoch. In our case, \n",
    "batches are 20-sample large, so it will take 100 batches until we see our target of 2000 samples.\n",
    "\n",
    "When using `fit_generator`, one may pass a `validation_data` argument, much like with the `fit` method. Importantly, this argument is \n",
    "allowed to be a data generator itself, but it could be a tuple of Numpy arrays as well. If you pass a generator as `validation_data`, then \n",
    "this generator is expected to yield batches of validation data endlessly, and thus you should also specify the `validation_steps` argument, \n",
    "which tells the process how many batches to draw from the validation generator for evaluation."
   ]
  },
  {
   "cell_type": "code",
   "execution_count": 16,
   "metadata": {},
   "outputs": [
    {
     "name": "stdout",
     "output_type": "stream",
     "text": [
      "Epoch 1/30\n",
      "100/100 [==============================] - 16s 160ms/step - loss: 0.6883 - acc: 0.5350 - val_loss: 0.6507 - val_acc: 0.6160\n",
      "Epoch 2/30\n",
      "100/100 [==============================] - 7s 66ms/step - loss: 0.6614 - acc: 0.5975 - val_loss: 0.6387 - val_acc: 0.6360\n",
      "Epoch 3/30\n",
      "100/100 [==============================] - 6s 59ms/step - loss: 0.6170 - acc: 0.6695 - val_loss: 0.6385 - val_acc: 0.6390\n",
      "Epoch 4/30\n",
      "100/100 [==============================] - 6s 59ms/step - loss: 0.5708 - acc: 0.6945 - val_loss: 0.5122 - val_acc: 0.6600\n",
      "Epoch 5/30\n",
      "100/100 [==============================] - 6s 58ms/step - loss: 0.5459 - acc: 0.7255 - val_loss: 0.6449 - val_acc: 0.6870\n",
      "Epoch 6/30\n",
      "100/100 [==============================] - 6s 61ms/step - loss: 0.5138 - acc: 0.7455 - val_loss: 0.6958 - val_acc: 0.6520\n",
      "Epoch 7/30\n",
      "100/100 [==============================] - 6s 59ms/step - loss: 0.4840 - acc: 0.7680 - val_loss: 0.7725 - val_acc: 0.6730\n",
      "Epoch 8/30\n",
      "100/100 [==============================] - 6s 61ms/step - loss: 0.4582 - acc: 0.7885 - val_loss: 0.7184 - val_acc: 0.6980\n",
      "Epoch 9/30\n",
      "100/100 [==============================] - 6s 60ms/step - loss: 0.4381 - acc: 0.7910 - val_loss: 0.2850 - val_acc: 0.7060\n",
      "Epoch 10/30\n",
      "100/100 [==============================] - 6s 60ms/step - loss: 0.4141 - acc: 0.8060 - val_loss: 0.5091 - val_acc: 0.7190\n",
      "Epoch 11/30\n",
      "100/100 [==============================] - 6s 62ms/step - loss: 0.3840 - acc: 0.8280 - val_loss: 0.4502 - val_acc: 0.7250\n",
      "Epoch 12/30\n",
      "100/100 [==============================] - 6s 60ms/step - loss: 0.3645 - acc: 0.8445 - val_loss: 0.5559 - val_acc: 0.7030\n",
      "Epoch 13/30\n",
      "100/100 [==============================] - 6s 64ms/step - loss: 0.3477 - acc: 0.8505 - val_loss: 0.4062 - val_acc: 0.7430\n",
      "Epoch 14/30\n",
      "100/100 [==============================] - 7s 66ms/step - loss: 0.3218 - acc: 0.8625 - val_loss: 0.3673 - val_acc: 0.7410\n",
      "Epoch 15/30\n",
      "100/100 [==============================] - 7s 66ms/step - loss: 0.2933 - acc: 0.8780 - val_loss: 0.5468 - val_acc: 0.7180\n",
      "Epoch 16/30\n",
      "100/100 [==============================] - 6s 62ms/step - loss: 0.2741 - acc: 0.8925 - val_loss: 0.3643 - val_acc: 0.7190\n",
      "Epoch 17/30\n",
      "100/100 [==============================] - 6s 60ms/step - loss: 0.2577 - acc: 0.8940 - val_loss: 0.3223 - val_acc: 0.7430\n",
      "Epoch 18/30\n",
      "100/100 [==============================] - 6s 62ms/step - loss: 0.2245 - acc: 0.9130 - val_loss: 0.5020 - val_acc: 0.7430\n",
      "Epoch 19/30\n",
      "100/100 [==============================] - 6s 63ms/step - loss: 0.2130 - acc: 0.9250 - val_loss: 0.7094 - val_acc: 0.7310\n",
      "Epoch 20/30\n",
      "100/100 [==============================] - 6s 61ms/step - loss: 0.1867 - acc: 0.9355 - val_loss: 0.2765 - val_acc: 0.7340\n",
      "Epoch 21/30\n",
      "100/100 [==============================] - 6s 65ms/step - loss: 0.1707 - acc: 0.9375 - val_loss: 0.4897 - val_acc: 0.7170\n",
      "Epoch 22/30\n",
      "100/100 [==============================] - 7s 67ms/step - loss: 0.1571 - acc: 0.9475 - val_loss: 1.8003 - val_acc: 0.6920\n",
      "Epoch 23/30\n",
      "100/100 [==============================] - 6s 63ms/step - loss: 0.1358 - acc: 0.9540 - val_loss: 1.1045 - val_acc: 0.7190\n",
      "Epoch 24/30\n",
      "100/100 [==============================] - 6s 62ms/step - loss: 0.1259 - acc: 0.9540 - val_loss: 0.7211 - val_acc: 0.7530\n",
      "Epoch 25/30\n",
      "100/100 [==============================] - 6s 61ms/step - loss: 0.1009 - acc: 0.9695 - val_loss: 0.7685 - val_acc: 0.7350\n",
      "Epoch 26/30\n",
      "100/100 [==============================] - 6s 62ms/step - loss: 0.0889 - acc: 0.9720 - val_loss: 0.9937 - val_acc: 0.7420\n",
      "Epoch 27/30\n",
      "100/100 [==============================] - 6s 61ms/step - loss: 0.0803 - acc: 0.9735 - val_loss: 0.7229 - val_acc: 0.7320\n",
      "Epoch 28/30\n",
      "100/100 [==============================] - 7s 66ms/step - loss: 0.0681 - acc: 0.9785 - val_loss: 0.4406 - val_acc: 0.7400\n",
      "Epoch 29/30\n",
      "100/100 [==============================] - 6s 60ms/step - loss: 0.0576 - acc: 0.9860 - val_loss: 0.7890 - val_acc: 0.7250\n",
      "Epoch 30/30\n",
      "100/100 [==============================] - 6s 60ms/step - loss: 0.0549 - acc: 0.9840 - val_loss: 0.6788 - val_acc: 0.7360\n"
     ]
    }
   ],
   "source": [
    "history = model.fit_generator(\n",
    "      train_generator,\n",
    "      steps_per_epoch=100,\n",
    "      epochs=30,\n",
    "      validation_data=validation_generator,\n",
    "      validation_steps=50)"
   ]
  },
  {
   "cell_type": "markdown",
   "metadata": {
    "collapsed": true
   },
   "source": [
    "It is good practice to always save your models after training:"
   ]
  },
  {
   "cell_type": "code",
   "execution_count": 17,
   "metadata": {},
   "outputs": [],
   "source": [
    "model.save('saved_models/cats_and_dogs_small_1.h5')"
   ]
  },
  {
   "cell_type": "markdown",
   "metadata": {},
   "source": [
    "Let's plot the loss and accuracy of the model over the training and validation data during training:"
   ]
  },
  {
   "cell_type": "code",
   "execution_count": 18,
   "metadata": {},
   "outputs": [
    {
     "data": {
      "image/png": "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\n",
      "text/plain": [
       "<Figure size 432x288 with 1 Axes>"
      ]
     },
     "metadata": {
      "needs_background": "light"
     },
     "output_type": "display_data"
    },
    {
     "data": {
      "image/png": "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\n",
      "text/plain": [
       "<Figure size 432x288 with 1 Axes>"
      ]
     },
     "metadata": {
      "needs_background": "light"
     },
     "output_type": "display_data"
    }
   ],
   "source": [
    "import matplotlib.pyplot as plt\n",
    "\n",
    "acc = history.history['acc']\n",
    "val_acc = history.history['val_acc']\n",
    "loss = history.history['loss']\n",
    "val_loss = history.history['val_loss']\n",
    "\n",
    "epochs = range(len(acc))\n",
    "\n",
    "plt.plot(epochs, acc, 'bo', label='Training acc')\n",
    "plt.plot(epochs, val_acc, 'b', label='Validation acc')\n",
    "plt.title('Training and validation accuracy')\n",
    "plt.legend()\n",
    "\n",
    "plt.figure()\n",
    "\n",
    "plt.plot(epochs, loss, 'bo', label='Training loss')\n",
    "plt.plot(epochs, val_loss, 'b', label='Validation loss')\n",
    "plt.title('Training and validation loss')\n",
    "plt.legend()\n",
    "\n",
    "plt.show()"
   ]
  },
  {
   "cell_type": "markdown",
   "metadata": {},
   "source": [
    "These plots are characteristic of overfitting. Our training accuracy increases linearly over time, until it reaches nearly 100%, while our \n",
    "validation accuracy stalls at 70-72%. Our validation loss reaches its minimum after only five epochs then stalls, while the training loss \n",
    "keeps decreasing linearly until it reaches nearly 0.\n",
    "\n",
    "Because we only have relatively few training samples (2000), overfitting is going to be our number one concern. You already know about a \n",
    "number of techniques that can help mitigate overfitting, such as dropout and weight decay (L2 regularization). We are now going to \n",
    "introduce a new one, specific to computer vision, and used almost universally when processing images with deep learning models: *data \n",
    "augmentation*."
   ]
  },
  {
   "cell_type": "markdown",
   "metadata": {},
   "source": [
    "## Using data augmentation\n",
    "\n",
    "Overfitting is caused by having too few samples to learn from, rendering us unable to train a model able to generalize to new data. \n",
    "Given infinite data, our model would be exposed to every possible aspect of the data distribution at hand: we would never overfit. Data \n",
    "augmentation takes the approach of generating more training data from existing training samples, by \"augmenting\" the samples via a number \n",
    "of random transformations that yield believable-looking images. The goal is that at training time, our model would never see the exact same \n",
    "picture twice. This helps the model get exposed to more aspects of the data and generalize better.\n",
    "\n",
    "In Keras, this can be done by configuring a number of random transformations to be performed on the images read by our `ImageDataGenerator` \n",
    "instance. Let's get started with an example:"
   ]
  },
  {
   "cell_type": "code",
   "execution_count": 19,
   "metadata": {},
   "outputs": [],
   "source": [
    "datagen = ImageDataGenerator(\n",
    "      rotation_range=40,\n",
    "      width_shift_range=0.2,\n",
    "      height_shift_range=0.2,\n",
    "      shear_range=0.2,\n",
    "      zoom_range=0.2,\n",
    "      horizontal_flip=True,\n",
    "      fill_mode='nearest')"
   ]
  },
  {
   "cell_type": "markdown",
   "metadata": {},
   "source": [
    "These are just a few of the options available (for more, see the Keras documentation). Let's quickly go over what we just wrote:\n",
    "\n",
    "* `rotation_range` is a value in degrees (0-180), a range within which to randomly rotate pictures.\n",
    "* `width_shift` and `height_shift` are ranges (as a fraction of total width or height) within which to randomly translate pictures \n",
    "vertically or horizontally.\n",
    "* `shear_range` is for randomly applying shearing transformations.\n",
    "* `zoom_range` is for randomly zooming inside pictures.\n",
    "* `horizontal_flip` is for randomly flipping half of the images horizontally -- relevant when there are no assumptions of horizontal \n",
    "asymmetry (e.g. real-world pictures).\n",
    "* `fill_mode` is the strategy used for filling in newly created pixels, which can appear after a rotation or a width/height shift.\n",
    "\n",
    "Let's take a look at our augmented images:"
   ]
  },
  {
   "cell_type": "code",
   "execution_count": 20,
   "metadata": {},
   "outputs": [
    {
     "data": {
      "image/png": "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\n",
      "text/plain": [
       "<Figure size 432x288 with 1 Axes>"
      ]
     },
     "metadata": {
      "needs_background": "light"
     },
     "output_type": "display_data"
    },
    {
     "data": {
      "image/png": "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