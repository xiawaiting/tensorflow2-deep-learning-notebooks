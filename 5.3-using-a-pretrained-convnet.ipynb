{
 "cells": [
  {
   "cell_type": "code",
   "execution_count": 1,
   "metadata": {},
   "outputs": [
    {
     "name": "stdout",
     "output_type": "stream",
     "text": [
      "Tensorflow :  2.0.0\n",
      " |-> Keras :  2.2.4-tf\n"
     ]
    }
   ],
   "source": [
    "import tensorflow as tf\n",
    "from tensorflow import keras\n",
    "print( 'Tensorflow : ',tf.__version__)\n",
    "print( ' |-> Keras : ',keras.__version__)"
   ]
  },
  {
   "cell_type": "markdown",
   "metadata": {},
   "source": [
    "# Using a pre-trained convnet\n",
    "\n",
    "This notebook contains the code sample found in Chapter 5, Section 3 of [Deep Learning with Python](https://www.manning.com/books/deep-learning-with-python?a_aid=keras&a_bid=76564dff). Note that the original text features far more content, in particular further explanations and figures: in this notebook, you will only find source code and related comments.\n",
    "\n",
    "----\n",
    "\n",
    "A common and highly effective approach to deep learning on small image datasets is to leverage a pre-trained network. A pre-trained network \n",
    "is simply a saved network previously trained on a large dataset, typically on a large-scale image classification task. If this original \n",
    "dataset is large enough and general enough, then the spatial feature hierarchy learned by the pre-trained network can effectively act as a \n",
    "generic model of our visual world, and hence its features can prove useful for many different computer vision problems, even though these \n",
    "new problems might involve completely different classes from those of the original task. For instance, one might train a network on \n",
    "ImageNet (where classes are mostly animals and everyday objects) and then re-purpose this trained network for something as remote as \n",
    "identifying furniture items in images. Such portability of learned features across different problems is a key advantage of deep learning \n",
    "compared to many older shallow learning approaches, and it makes deep learning very effective for small-data problems.\n",
    "\n",
    "In our case, we will consider a large convnet trained on the ImageNet dataset (1.4 million labeled images and 1000 different classes). \n",
    "ImageNet contains many animal classes, including different species of cats and dogs, and we can thus expect to perform very well on our cat \n",
    "vs. dog classification problem.\n",
    "\n",
    "We will use the VGG16 architecture, developed by Karen Simonyan and Andrew Zisserman in 2014, a simple and widely used convnet architecture \n",
    "for ImageNet. Although it is a bit of an older model, far from the current state of the art and somewhat heavier than many other recent \n",
    "models, we chose it because its architecture is similar to what you are already familiar with, and easy to understand without introducing \n",
    "any new concepts. This may be your first encounter with one of these cutesie model names -- VGG, ResNet, Inception, Inception-ResNet, \n",
    "Xception... you will get used to them, as they will come up frequently if you keep doing deep learning for computer vision.\n",
    "\n",
    "There are two ways to leverage a pre-trained network: *feature extraction* and *fine-tuning*. We will cover both of them. Let's start with \n",
    "feature extraction."
   ]
  },
  {
   "cell_type": "markdown",
   "metadata": {},
   "source": [
    "## Feature extraction\n",
    "\n",
    "Feature extraction consists of using the representations learned by a previous network to extract interesting features from new samples. \n",
    "These features are then run through a new classifier, which is trained from scratch.\n",
    "\n",
    "As we saw previously, convnets used for image classification comprise two parts: they start with a series of pooling and convolution \n",
    "layers, and they end with a densely-connected classifier. The first part is called the \"convolutional base\" of the model. In the case of \n",
    "convnets, \"feature extraction\" will simply consist of taking the convolutional base of a previously-trained network, running the new data \n",
    "through it, and training a new classifier on top of the output.\n",
    "\n",
    "![swapping FC classifiers](https://s3.amazonaws.com/book.keras.io/img/ch5/swapping_fc_classifier.png)\n",
    "\n",
    "Why only reuse the convolutional base? Could we reuse the densely-connected classifier as well? In general, it should be avoided. The \n",
    "reason is simply that the representations learned by the convolutional base are likely to be more generic and therefore more reusable: the \n",
    "feature maps of a convnet are presence maps of generic concepts over a picture, which is likely to be useful regardless of the computer \n",
    "vision problem at hand. On the other end, the representations learned by the classifier will necessarily be very specific to the set of \n",
    "classes that the model was trained on -- they will only contain information about the presence probability of this or that class in the \n",
    "entire picture. Additionally, representations found in densely-connected layers no longer contain any information about _where_ objects are \n",
    "located in the input image: these layers get rid of the notion of space, whereas the object location is still described by convolutional \n",
    "feature maps. For problems where object location matters, densely-connected features would be largely useless.\n",
    "\n",
    "Note that the level of generality (and therefore reusability) of the representations extracted by specific convolution layers depends on \n",
    "the depth of the layer in the model. Layers that come earlier in the model extract local, highly generic feature maps (such as visual \n",
    "edges, colors, and textures), while layers higher-up extract more abstract concepts (such as \"cat ear\" or \"dog eye\"). So if your new \n",
    "dataset differs a lot from the dataset that the original model was trained on, you may be better off using only the first few layers of the \n",
    "model to do feature extraction, rather than using the entire convolutional base.\n",
    "\n",
    "In our case, since the ImageNet class set did contain multiple dog and cat classes, it is likely that it would be beneficial to reuse the \n",
    "information contained in the densely-connected layers of the original model. However, we will chose not to, in order to cover the more \n",
    "general case where the class set of the new problem does not overlap with the class set of the original model."
   ]
  },
  {
   "cell_type": "markdown",
   "metadata": {},
   "source": [
    "Let's put this in practice by using the convolutional base of the VGG16 network, trained on ImageNet, to extract interesting features from \n",
    "our cat and dog images, and then training a cat vs. dog classifier on top of these features.\n",
    "\n",
    "The VGG16 model, among others, comes pre-packaged with Keras. You can import it from the `keras.applications` module. Here's the list of \n",
    "image classification models (all pre-trained on the ImageNet dataset) that are available as part of `keras.applications`:\n",
    "\n",
    "* Xception\n",
    "* InceptionV3\n",
    "* ResNet50\n",
    "* VGG16\n",
    "* VGG19\n",
    "* MobileNet\n",
    "\n",
    "Let's instantiate the VGG16 model:"
   ]
  },
  {
   "cell_type": "code",
   "execution_count": 2,
   "metadata": {},
   "outputs": [
    {
     "name": "stderr",
     "output_type": "stream",
     "text": [
      "Using TensorFlow backend.\n"
     ]
    }
   ],
   "source": [
    "from keras.applications import VGG16\n",
    "\n",
    "conv_base = VGG16(weights='imagenet',\n",
    "                  include_top=False,\n",
    "                  input_shape=(150, 150, 3))"
   ]
  },
  {
   "cell_type": "markdown",
   "metadata": {},
   "source": [
    "We passed three arguments to the constructor:\n",
    "\n",
    "* `weights`, to specify which weight checkpoint to initialize the model from\n",
    "* `include_top`, which refers to including or not the densely-connected classifier on top of the network. By default, this \n",
    "densely-connected classifier would correspond to the 1000 classes from ImageNet. Since we intend to use our own densely-connected \n",
    "classifier (with only two classes, cat and dog), we don't need to include it.\n",
    "* `input_shape`, the shape of the image tensors that we will feed to the network. This argument is purely optional: if we don't pass it, \n",
    "then the network will be able to process inputs of any size.\n",
    "\n",
    "Here's the detail of the architecture of the VGG16 convolutional base: it's very similar to the simple convnets that you are already \n",
    "familiar with."
   ]
  },
  {
   "cell_type": "code",
   "execution_count": 3,
   "metadata": {},
   "outputs": [
    {
     "name": "stdout",
     "output_type": "stream",
     "text": [
      "Model: \"vgg16\"\n",
      "_________________________________________________________________\n",
      "Layer (type)                 Output Shape              Param #   \n",
      "=================================================================\n",
      "input_1 (InputLayer)         (None, 150, 150, 3)       0         \n",
      "_________________________________________________________________\n",
      "block1_conv1 (Conv2D)        (None, 150, 150, 64)      1792      \n",
      "_________________________________________________________________\n",
      "block1_conv2 (Conv2D)        (None, 150, 150, 64)      36928     \n",
      "_________________________________________________________________\n",
      "block1_pool (MaxPooling2D)   (None, 75, 75, 64)        0         \n",
      "_________________________________________________________________\n",
      "block2_conv1 (Conv2D)        (None, 75, 75, 128)       73856     \n",
      "_________________________________________________________________\n",
      "block2_conv2 (Conv2D)        (None, 75, 75, 128)       147584    \n",
      "_________________________________________________________________\n",
      "block2_pool (MaxPooling2D)   (None, 37, 37, 128)       0         \n",
      "_________________________________________________________________\n",
      "block3_conv1 (Conv2D)        (None, 37, 37, 256)       295168    \n",
      "_________________________________________________________________\n",
      "block3_conv2 (Conv2D)        (None, 37, 37, 256)       590080    \n",
      "_________________________________________________________________\n",
      "block3_conv3 (Conv2D)        (None, 37, 37, 256)       590080    \n",
      "_________________________________________________________________\n",
      "block3_pool (MaxPooling2D)   (None, 18, 18, 256)       0         \n",
      "_________________________________________________________________\n",
      "block4_conv1 (Conv2D)        (None, 18, 18, 512)       1180160   \n",
      "_________________________________________________________________\n",
      "block4_conv2 (Conv2D)        (None, 18, 18, 512)       2359808   \n",
      "_________________________________________________________________\n",
      "block4_conv3 (Conv2D)        (None, 18, 18, 512)       2359808   \n",
      "_________________________________________________________________\n",
      "block4_pool (MaxPooling2D)   (None, 9, 9, 512)         0         \n",
      "_________________________________________________________________\n",
      "block5_conv1 (Conv2D)        (None, 9, 9, 512)         2359808   \n",
      "_________________________________________________________________\n",
      "block5_conv2 (Conv2D)        (None, 9, 9, 512)         2359808   \n",
      "_________________________________________________________________\n",
      "block5_conv3 (Conv2D)        (None, 9, 9, 512)         2359808   \n",
      "_________________________________________________________________\n",
      "block5_pool (MaxPooling2D)   (None, 4, 4, 512)         0         \n",
      "=================================================================\n",
      "Total params: 14,714,688\n",
      "Trainable params: 14,714,688\n",
      "Non-trainable params: 0\n",
      "_________________________________________________________________\n"
     ]
    }
   ],
   "source": [
    "conv_base.summary()"
   ]
  },
  {
   "cell_type": "markdown",
   "metadata": {},
   "source": [
    "The final feature map has shape `(4, 4, 512)`. That's the feature on top of which we will stick a densely-connected classifier.\n",
    "\n",
    "At this point, there are two ways we could proceed: \n",
    "\n",
    "* Running the convolutional base over our dataset, recording its output to a Numpy array on disk, then using this data as input to a \n",
    "standalone densely-connected classifier similar to those you have seen in the first chapters of this book. This solution is very fast and \n",
    "cheap to run, because it only requires running the convolutional base once for every input image, and the convolutional base is by far the \n",
    "most expensive part of the pipeline. However, for the exact same reason, this technique would not allow us to leverage data augmentation at \n",
    "all.\n",
    "* Extending the model we have (`conv_base`) by adding `Dense` layers on top, and running the whole thing end-to-end on the input data. This \n",
    "allows us to use data augmentation, because every input image is going through the convolutional base every time it is seen by the model. \n",
    "However, for this same reason, this technique is far more expensive than the first one.\n",
    "\n",
    "We will cover both techniques. Let's walk through the code required to set-up the first one: recording the output of `conv_base` on our \n",
    "data and using these outputs as inputs to a new model.\n",
    "\n",
    "We will start by simply running instances of the previously-introduced `ImageDataGenerator` to extract images as Numpy arrays as well as \n",
    "their labels. We will extract features from these images simply by calling the `predict` method of the `conv_base` model."
   ]
  },
  {
   "cell_type": "code",
   "execution_count": 4,
   "metadata": {},
   "outputs": [
    {
     "name": "stdout",
     "output_type": "stream",
     "text": [
      "Found 2000 images belonging to 2 classes.\n",
      "Found 1000 images belonging to 2 classes.\n",
      "Found 1000 images belonging to 2 classes.\n"
     ]
    }
   ],
   "source": [
    "import os\n",
    "import numpy as np\n",
    "from keras.preprocessing.image import ImageDataGenerator\n",
    "\n",
    "base_dir = 'data/cats_and_dogs_small'\n",
    "\n",
    "train_dir = os.path.join(base_dir, 'train')\n",
    "validation_dir = os.path.join(base_dir, 'validation')\n",
    "test_dir = os.path.join(base_dir, 'test')\n",
    "\n",
    "datagen = ImageDataGenerator(rescale=1./255)\n",
    "batch_size = 20\n",
    "\n",
    "def extract_features(directory, sample_count):\n",
    "    features = np.zeros(shape=(sample_count, 4, 4, 512))\n",
    "    labels = np.zeros(shape=(sample_count))\n",
    "    generator = datagen.flow_from_directory(\n",
    "        directory,\n",
    "        target_size=(150, 150),\n",
    "        batch_size=batch_size,\n",
    "        class_mode='binary')\n",
    "    i = 0\n",
    "    for inputs_batch, labels_batch in generator:\n",
    "        features_batch = conv_base.predict(inputs_batch)\n",
    "        features[i * batch_size : (i + 1) * batch_size] = features_batch\n",
    "        labels[i * batch_size : (i + 1) * batch_size] = labels_batch\n",
    "        i += 1\n",
    "        if i * batch_size >= sample_count:\n",
    "            # Note that since generators yield data indefinitely in a loop,\n",
    "            # we must `break` after every image has been seen once.\n",
    "            break\n",
    "    return features, labels\n",
    "\n",
    "train_features, train_labels = extract_features(train_dir, 2000)\n",
    "validation_features, validation_labels = extract_features(validation_dir, 1000)\n",
    "test_features, test_labels = extract_features(test_dir, 1000)"
   ]
  },
  {
   "cell_type": "markdown",
   "metadata": {},
   "source": [
    "The extracted features are currently of shape `(samples, 4, 4, 512)`. We will feed them to a densely-connected classifier, so first we must \n",
    "flatten them to `(samples, 8192)`:"
   ]
  },
  {
   "cell_type": "code",
   "execution_count": 5,
   "metadata": {},
   "outputs": [],
   "source": [
    "train_features = np.reshape(train_features, (2000, 4 * 4 * 512))\n",
    "validation_features = np.reshape(validation_features, (1000, 4 * 4 * 512))\n",
    "test_features = np.reshape(test_features, (1000, 4 * 4 * 512))"
   ]
  },
  {
   "cell_type": "markdown",
   "metadata": {},
   "source": [
    "At this point, we can define our densely-connected classifier (note the use of dropout for regularization), and train it on the data and \n",
    "labels that we just recorded:"
   ]
  },
  {
   "cell_type": "code",
   "execution_count": 6,
   "metadata": {},
   "outputs": [
    {
     "name": "stdout",
     "output_type": "stream",
     "text": [
      "Train on 2000 samples, validate on 1000 samples\n",
      "Epoch 1/30\n",
      "2000/2000 [==============================] - 2s 1ms/step - loss: 0.6002 - acc: 0.6675 - val_loss: 0.4399 - val_acc: 0.8460\n",
      "Epoch 2/30\n",
      "2000/2000 [==============================] - 1s 681us/step - loss: 0.4250 - acc: 0.8010 - val_loss: 0.3688 - val_acc: 0.8520\n",
      "Epoch 3/30\n",
      "2000/2000 [==============================] - 1s 693us/step - loss: 0.3672 - acc: 0.8395 - val_loss: 0.3238 - val_acc: 0.8710\n",
      "Epoch 4/30\n",
      "2000/2000 [==============================] - 1s 690us/step - loss: 0.3192 - acc: 0.8685 - val_loss: 0.2965 - val_acc: 0.8930\n",
      "Epoch 5/30\n",
      "2000/2000 [==============================] - 1s 694us/step - loss: 0.2951 - acc: 0.8840 - val_loss: 0.2820 - val_acc: 0.8920\n",
      "Epoch 6/30\n",
      "2000/2000 [==============================] - 1s 691us/step - loss: 0.2619 - acc: 0.8875 - val_loss: 0.2697 - val_acc: 0.8950\n",
      "Epoch 7/30\n",
      "2000/2000 [==============================] - 1s 696us/step - loss: 0.2468 - acc: 0.8970 - val_loss: 0.2603 - val_acc: 0.8950\n",
      "Epoch 8/30\n",
      "2000/2000 [==============================] - 1s 704us/step - loss: 0.2379 - acc: 0.9105 - val_loss: 0.2562 - val_acc: 0.9000\n",
      "Epoch 9/30\n",
      "2000/2000 [==============================] - 1s 696us/step - loss: 0.2207 - acc: 0.9160 - val_loss: 0.2536 - val_acc: 0.8990\n",
      "Epoch 10/30\n",
      "2000/2000 [==============================] - 1s 689us/step - loss: 0.2112 - acc: 0.9200 - val_loss: 0.2480 - val_acc: 0.9010\n",
      "Epoch 11/30\n",
      "2000/2000 [==============================] - 1s 687us/step - loss: 0.2000 - acc: 0.9215 - val_loss: 0.2417 - val_acc: 0.9060\n",
      "Epoch 12/30\n",
      "2000/2000 [==============================] - 1s 684us/step - loss: 0.1871 - acc: 0.9345 - val_loss: 0.2514 - val_acc: 0.8920\n",
      "Epoch 13/30\n",
      "2000/2000 [==============================] - 1s 708us/step - loss: 0.1773 - acc: 0.9385 - val_loss: 0.2375 - val_acc: 0.9050\n",
      "Epoch 14/30\n",
      "2000/2000 [==============================] - 1s 697us/step - loss: 0.1614 - acc: 0.9400 - val_loss: 0.2357 - val_acc: 0.9090\n",
      "Epoch 15/30\n",
      "2000/2000 [==============================] - 1s 686us/step - loss: 0.1617 - acc: 0.9445 - val_loss: 0.2420 - val_acc: 0.8960\n",
      "Epoch 16/30\n",
      "2000/2000 [==============================] - 1s 698us/step - loss: 0.1582 - acc: 0.9430 - val_loss: 0.2385 - val_acc: 0.8980\n",
      "Epoch 17/30\n",
      "2000/2000 [==============================] - 1s 690us/step - loss: 0.1509 - acc: 0.9460 - val_loss: 0.2390 - val_acc: 0.8980\n",
      "Epoch 18/30\n",
      "2000/2000 [==============================] - 1s 687us/step - loss: 0.1435 - acc: 0.9545 - val_loss: 0.2349 - val_acc: 0.9020\n",
      "Epoch 19/30\n",
      "2000/2000 [==============================] - 1s 698us/step - loss: 0.1366 - acc: 0.9510 - val_loss: 0.2471 - val_acc: 0.8940\n",
      "Epoch 20/30\n",
      "2000/2000 [==============================] - 1s 696us/step - loss: 0.1376 - acc: 0.9505 - val_loss: 0.2303 - val_acc: 0.9090\n",
      "Epoch 21/30\n",
      "2000/2000 [==============================] - 1s 691us/step - loss: 0.1266 - acc: 0.9565 - val_loss: 0.2347 - val_acc: 0.9030\n",
      "Epoch 22/30\n",
      "2000/2000 [==============================] - 1s 702us/step - loss: 0.1241 - acc: 0.9550 - val_loss: 0.2330 - val_acc: 0.9050\n",
      "Epoch 23/30\n",
      "2000/2000 [==============================] - 1s 687us/step - loss: 0.1179 - acc: 0.9590 - val_loss: 0.2307 - val_acc: 0.9110\n",
      "Epoch 24/30\n",
      "2000/2000 [==============================] - 1s 703us/step - loss: 0.1153 - acc: 0.9630 - val_loss: 0.2449 - val_acc: 0.8990\n",
      "Epoch 25/30\n",
      "2000/2000 [==============================] - 1s 690us/step - loss: 0.1103 - acc: 0.9620 - val_loss: 0.2334 - val_acc: 0.9060\n",
      "Epoch 26/30\n",
      "2000/2000 [==============================] - 1s 706us/step - loss: 0.1052 - acc: 0.9680 - val_loss: 0.2467 - val_acc: 0.8990\n",
      "Epoch 27/30\n",
      "2000/2000 [==============================] - 1s 702us/step - loss: 0.1026 - acc: 0.9675 - val_loss: 0.2373 - val_acc: 0.9040\n",
      "Epoch 28/30\n",
      "2000/2000 [==============================] - 1s 697us/step - loss: 0.0993 - acc: 0.9650 - val_loss: 0.2320 - val_acc: 0.9070\n",
      "Epoch 29/30\n",
      "2000/2000 [==============================] - 1s 700us/step - loss: 0.0920 - acc: 0.9735 - val_loss: 0.2335 - val_acc: 0.9060\n",
      "Epoch 30/30\n",
      "2000/2000 [==============================] - 1s 688us/step - loss: 0.0895 - acc: 0.9750 - val_loss: 0.2384 - val_acc: 0.9050\n"
     ]
    }
   ],
   "source": [
    "from keras import models\n",
    "from keras import layers\n",
    "from keras import optimizers\n",
    "\n",
    "model = models.Sequential()\n",
    "model.add(layers.Dense(256, activation='relu', input_dim=4 * 4 * 512))\n",
    "model.add(layers.Dropout(0.5))\n",
    "model.add(layers.Dense(1, activation='sigmoid'))\n",
    "\n",
    "model.compile(optimizer=optimizers.RMSprop(lr=2e-5),\n",
    "              loss='binary_crossentropy',\n",
    "              metrics=['acc'])\n",
    "\n",
    "history = model.fit(train_features, train_labels,\n",
    "                    epochs=30,\n",
    "                    batch_size=20,\n",
    "                    validation_data=(validation_features, validation_labels))"
   ]
  },
  {
   "cell_type": "markdown",
   "metadata": {},
   "source": [
    "Training is very fast, since we only have to deal with two `Dense` layers -- an epoch takes less than one second even on CPU.\n",
    "\n",
    "Let's take a look at the loss and accuracy curves during training:"
   ]
  },
  {
   "cell_type": "code",
   "execution_count": 7,
   "metadata": {},
   "outputs": [
    {
     "data": {
      "image/png": "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\n",
      "text/plain": [
       "<Figure size 432x288 with 1 Axes>"
      ]
     },
     "metadata": {
      "needs_background": "light"
     },
     "output_type": "display_data"
    },
    {
     "data": {
      "image/png": "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\n",
      "text/plain": [
       "<Figure size 432x288 with 1 Axes>"
      ]
     },
     "metadata": {
      "needs_background": "light"
     },
     "output_type": "display_data"
    }
   ],
   "source": [
    "import matplotlib.pyplot as plt\n",
    "\n",
    "acc = history.history['acc']\n",
    "val_acc = history.history['val_acc']\n",
    "loss = history.history['loss']\n",
    "val_loss = history.history['val_loss']\n",
    "\n",
    "epochs = range(len(acc))\n",
    "\n",
    "plt.plot(epochs, acc, 'bo', label='Training acc')\n",
    "plt.plot(epochs, val_acc, 'b', label='Validation acc')\n",
    "plt.title('Training and validation accuracy')\n",
    "plt.legend()\n",
    "\n",
    "plt.figure()\n",
    "\n",
    "plt.plot(epochs, loss, 'bo', label='Training loss')\n",
    "plt.plot(epochs, val_loss, 'b', label='Validation loss')\n",
    "plt.title('Training and validation loss')\n",
    "plt.legend()\n",
    "\n",
    "plt.show()"
   ]
  },
  {
   "cell_type": "markdown",
   "metadata": {},
   "source": [
    "\n",
    "We reach a validation accuracy of about 90%, much better than what we could achieve in the previous section with our small model trained from \n",
    "scratch. However, our plots also indicate that we are overfitting almost from the start -- despite using dropout with a fairly large rate. \n",
    "This is because this technique does not leverage data augmentation, which is essential to preventing overfitting with small image datasets.\n",
    "\n",
    "Now, let's review the second technique we mentioned for doing feature extraction, which is much slower and more expensive, but which allows \n",
    "us to leverage data augmentation during training: extending the `conv_base` model and running it end-to-end on the inputs. Note that this \n",
    "technique is in fact so expensive that you should only attempt it if you have access to a GPU: it is absolutely intractable on CPU. If you \n",
    "cannot run your code on GPU, then the previous technique is the way to go.\n",
    "\n",
    "Because models behave just like layers, you can add a model (like our `conv_base`) to a `Sequential` model just like you would add a layer. \n",
    "So you can do the following:"
   ]
  },
  {
   "cell_type": "code",
   "execution_count": 8,
   "metadata": {},
   "outputs": [],
   "source": [
    "from keras import models\n",
    "from keras import layers\n",
    "\n",
    "model = models.Sequential()\n",
    "model.add(conv_base)\n",
    "model.add(layers.Flatten())\n",
    "model.add(layers.Dense(256, activation='relu'))\n",
    "model.add(layers.Dense(1, activation='sigmoid'))"
   ]
  },
  {
   "cell_type": "markdown",
   "metadata": {},
   "source": [
    "This is what our model looks like now:"
   ]
  },
  {
   "cell_type": "code",
   "execution_count": 9,
   "metadata": {},
   "outputs": [
    {
     "name": "stdout",
     "output_type": "stream",
     "text": [
      "Model: \"sequential_2\"\n",
      "_________________________________________________________________\n",
      "Layer (type)                 Output Shape              Param #   \n",
      "=================================================================\n",
      "vgg16 (Model)                (None, 4, 4, 512)         14714688  \n",
      "_________________________________________________________________\n",
      "flatten_1 (Flatten)          (None, 8192)              0         \n",
      "_________________________________________________________________\n",
      "dense_3 (Dense)              (None, 256)               2097408   \n",
      "_________________________________________________________________\n",
      "dense_4 (Dense)              (None, 1)                 257       \n",
      "=================================================================\n",
      "Total params: 16,812,353\n",
      "Trainable params: 16,812,353\n",
      "Non-trainable params: 0\n",
      "_________________________________________________________________\n"
     ]
    }
   ],
   "source": [
    "model.summary()"
   ]
  },
  {
   "cell_type": "markdown",
   "metadata": {},
   "source": [
    "As you can see, the convolutional base of VGG16 has 14,714,688 parameters, which is very large. The classifier we are adding on top has 2 \n",
    "million parameters.\n",
    "\n",
    "Before we compile and train our model, a very important thing to do is to freeze the convolutional base. \"Freezing\" a layer or set of \n",
    "layers means preventing their weights from getting updated during training. If we don't do this, then the representations that were \n",
    "previously learned by the convolutional base would get modified during training. Since the `Dense` layers on top are randomly initialized, \n",
    "very large weight updates would be propagated through the network, effectively destroying the representations previously learned.\n",
    "\n",
    "In Keras, freezing a network is done by setting its `trainable` attribute to `False`:"
   ]
  },
  {
   "cell_type": "code",
   "execution_count": 10,
   "metadata": {},
   "outputs": [
    {
     "name": "stdout",
     "output_type": "stream",
     "text": [
      "This is the number of trainable weights before freezing the conv base: 30\n"
     ]
    }
   ],
   "source": [
    "print('This is the number of trainable weights '\n",
    "      'before freezing the conv base:', len(model.trainable_weights))"
   ]
  },
  {
   "cell_type": "code",
   "execution_count": 11,
   "metadata": {},
   "outputs": [],
   "source": [
    "conv_base.trainable = False"
   ]
  },
  {
   "cell_type": "code",
   "execution_count": 12,
   "metadata": {},
   "outputs": [
    {
     "name": "stdout",
     "output_type": "stream",
     "text": [
      "This is the number of trainable weights after freezing the conv base: 4\n"
     ]
    }
   ],
   "source": [
    "print('This is the number of trainable weights '\n",
    "      'after freezing the conv base:', len(model.trainable_weights))"
   ]
  },
  {
   "cell_type": "markdown",
   "metadata": {},
   "source": [
    "With this setup, only the weights from the two `Dense` layers that we added will be trained. That's a total of four weight tensors: two per \n",
    "layer (the main weight matrix and the bias vector). Note that in order for these changes to take effect, we must first compile the model. \n",
    "If you ever modify weight trainability after compilation, you should then re-compile the model, or these changes would be ignored.\n",
    "\n",
    "Now we can start training our model, with the same data augmentation configuration that we used in our previous example:"
   ]
  },
  {
   "cell_type": "code",
   "execution_count": 13,
   "metadata": {},
   "outputs": [
    {
     "name": "stdout",
     "output_type": "stream",
     "text": [
      "Found 2000 images belonging to 2 classes.\n",
      "Found 1000 images belonging to 2 classes.\n",
      "Epoch 1/30\n",
      " - 38s - loss: 0.6050 - acc: 0.6625 - val_loss: 0.3078 - val_acc: 0.8310\n",
      "Epoch 2/30\n",
      " - 34s - loss: 0.4955 - acc: 0.7740 - val_loss: 0.3246 - val_acc: 0.8460\n",
      "Epoch 3/30\n",
      " - 34s - loss: 0.4287 - acc: 0.8185 - val_loss: 0.2102 - val_acc: 0.8770\n",
      "Epoch 4/30\n",
      " - 34