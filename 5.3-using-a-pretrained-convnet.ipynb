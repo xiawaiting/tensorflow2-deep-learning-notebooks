{
 "cells": [
  {
   "cell_type": "code",
   "execution_count": 1,
   "metadata": {},
   "outputs": [
    {
     "name": "stdout",
     "output_type": "stream",
     "text": [
      "Tensorflow :  2.0.0\n",
      " |-> Keras :  2.2.4-tf\n"
     ]
    }
   ],
   "source": [
    "import tensorflow as tf\n",
    "from tensorflow import keras\n",
    "print( 'Tensorflow : ',tf.__version__)\n",
    "print( ' |-> Keras : ',keras.__version__)"
   ]
  },
  {
   "cell_type": "markdown",
   "metadata": {},
   "source": [
    "# Using a pre-trained convnet\n",
    "\n",
    "This notebook contains the code sample found in Chapter 5, Section 3 of [Deep Learning with Python](https://www.manning.com/books/deep-learning-with-python?a_aid=keras&a_bid=76564dff). Note that the original text features far more content, in particular further explanations and figures: in this notebook, you will only find source code and related comments.\n",
    "\n",
    "----\n",
    "\n",
    "A common and highly effective approach to deep learning on small image datasets is to leverage a pre-trained network. A pre-trained network \n",
    "is simply a saved network previously trained on a large dataset, typically on a large-scale image classification task. If this original \n",
    "dataset is large enough and general enough, then the spatial feature hierarchy learned by the pre-trained network can effectively act as a \n",
    "generic model of our visual world, and hence its features can prove useful for many different computer vision problems, even though these \n",
    "new problems might involve completely different classes from those of the original task. For instance, one might train a network on \n",
    "ImageNet (where classes are mostly animals and everyday objects) and then re-purpose this trained network for something as remote as \n",
    "identifying furniture items in images. Such portability of learned features across different problems is a key advantage of deep learning \n",
    "compared to many older shallow learning approaches, and it makes deep learning very effective for small-data problems.\n",
    "\n",
    "In our case, we will consider a large convnet trained on the ImageNet dataset (1.4 million labeled images and 1000 different classes). \n",
    "ImageNet contains many animal classes, including different species of cats and dogs, and we can thus expect to perform very well on our cat \n",
    "vs. dog classification problem.\n",
    "\n",
    "We will use the VGG16 architecture, developed by Karen Simonyan and Andrew Zisserman in 2014, a simple and widely used convnet architecture \n",
    "for ImageNet. Although it is a bit of an older model, far from the current state of the art and somewhat heavier than many other recent \n",
    "models, we chose it because its architecture is similar to what you are already familiar with, and easy to understand without introducing \n",
    "any new concepts. This may be your first encounter with one of these cutesie model names -- VGG, ResNet, Inception, Inception-ResNet, \n",
    "Xception... you will get used to them, as they will come up frequently if you keep doing deep learning for computer vision.\n",
    "\n",
    "There are two ways to leverage a pre-trained network: *feature extraction* and *fine-tuning*. We will cover both of them. Let's start with \n",
    "feature extraction."
   ]
  },
  {
   "cell_type": "markdown",
   "metadata": {},
   "source": [
    "## Feature extraction\n",
    "\n",
    "Feature extraction consists of using the representations learned by a previous network to extract interesting features from new samples. \n",
    "These features are then run through a new classifier, which is trained from scratch.\n",
    "\n",
    "As we saw previously, convnets used for image classification comprise two parts: they start with a series of pooling and convolution \n",
    "layers, and they end with a densely-connected classifier. The first part is called the \"convolutional base\" of the model. In the case of \n",
    "convnets, \"feature extraction\" will simply consist of taking the convolutional base of a previously-trained network, running the new data \n",
    "through it, and training a new classifier on top of the output.\n",
    "\n",
    "![swapping FC classifiers](https://s3.amazonaws.com/book.keras.io/img/ch5/swapping_fc_classifier.png)\n",
    "\n",
    "Why only reuse the convolutional base? Could we reuse the densely-connected classifier as well? In general, it should be avoided. The \n",
    "reason is simply that the representations learned by the convolutional base are likely to be more generic and therefore more reusable: the \n",
    "feature maps of a convnet are presence maps of generic concepts over a picture, which is likely to be useful regardless of the computer \n",
    "vision problem at hand. On the other end, the representations learned by the classifier will necessarily be very specific to the set of \n",
    "classes that the model was trained on -- they will only contain information about the presence probability of this or that class in the \n",
    "entire picture. Additionally, representations found in densely-connected layers no longer contain any information about _where_ objects are \n",
    "located in the input image: these layers get rid of the notion of space, whereas the object location is still described by convolutional \n",
    "feature maps. For problems where object location matters, densely-connected features would be largely useless.\n",
    "\n",
    "Note that the level of generality (and therefore reusability) of the representations extracted by specific convolution layers depends on \n",
    "the depth of the layer in the model. Layers that come earlier in the model extract local, highly generic feature maps (such as visual \n",
    "edges, colors, and textures), while layers higher-up extract more abstract concepts (such as \"cat ear\" or \"dog eye\"). So if your new \n",
    "dataset differs a lot from the dataset that the original model was trained on, you may be better off using only the first few layers of the \n",
    "model to do feature extraction, rather than using the entire convolutional base.\n",
    "\n",
    "In our case, since the ImageNet class set did contain multiple dog and cat classes, it is likely that it would be beneficial to reuse the \n",
    "information contained in the densely-connected layers of the original model. However, we will chose not to, in order to cover the more \n",
    "general case where the class set of the new problem does not overlap with the class set of the original model."
   ]
  },
  {
   "cell_type": "markdown",
   "metadata": {},
   "source": [
    "Let's put this in practice by using the convolutional base of the VGG16 network, trained on ImageNet, to extract interesting features from \n",
    "our cat and dog images, and then training a cat vs. dog classifier on top of these features.\n",
    "\n",
    "The VGG16 model, among others, comes pre-packaged with Keras. You can import it from the `keras.applications` module. Here's the list of \n",
    "image classification models (all pre-trained on the ImageNet dataset) that are available as part of `keras.applications`:\n",
    "\n",
    "* Xception\n",
    "* InceptionV3\n",
    "* ResNet50\n",
    "* VGG16\n",
    "* VGG19\n",
    "* MobileNet\n",
    "\n",
    "Let's instantiate the VGG16 model:"
   ]
  },
  {
   "cell_type": "code",
   "execution_count": 2,
   "metadata": {},
   "outputs": [
    {
     "name": "stderr",
     "output_type": "stream",
     "text": [
      "Using TensorFlow backend.\n"
     ]
    }
   ],
   "source": [
    "from keras.applications import VGG16\n",
    "\n",
    "conv_base = VGG16(weights='imagenet',\n",
    "                  include_top=False,\n",
    "                  input_shape=(150, 150, 3))"
   ]
  },
  {
   "cell_type": "markdown",
   "metadata": {},
   "source": [
    "We passed three arguments to the constructor:\n",
    "\n",
    "* `weights`, to specify which weight checkpoint to initialize the model from\n",
    "* `include_top`, which refers to including or not the densely-connected classifier on top of the network. By default, this \n",
    "densely-connected classifier would correspond to the 1000 classes from ImageNet. Since we intend to use our own densely-connected \n",
    "classifier (with only two classes, cat and dog), we don't need to include it.\n",
    "* `input_shape`, the shape of the image tensors that we will feed to the network. This argument is purely optional: if we don't pass it, \n",
    "then the network will be able to process inputs of any size.\n",
    "\n",
    "Here's the detail of the architecture of the VGG16 convolutional base: it's very similar to the simple convnets that you are already \n",
    "familiar with."
   ]
  },
  {
   "cell_type": "code",
   "execution_count": 3,
   "metadata": {},
   "outputs": [
    {
     "name": "stdout",
     "output_type": "stream",
     "text": [
      "Model: \"vgg16\"\n",
      "_________________________________________________________________\n",
      "Layer (type)                 Output Shape              Param #   \n",
      "=================================================================\n",
      "input_1 (InputLayer)         (None, 150, 150, 3)       0         \n",
      "_________________________________________________________________\n",
      "block1_conv1 (Conv2D)        (None, 150, 150, 64)      1792      \n",
      "_________________________________________________________________\n",
      "block1_conv2 (Conv2D)        (None, 150, 150, 64)      36928     \n",
      "_________________________________________________________________\n",
      "block1_pool (MaxPooling2D)   (None, 75, 75, 64)        0         \n",
      "_________________________________________________________________\n",
      "block2_conv1 (Conv2D)        (None, 75, 75, 128)       73856     \n",
      "_________________________________________________________________\n",
      "block2_conv2 (Conv2D)        (None, 75, 75, 128)       147584    \n",
      "_________________________________________________________________\n",
      "block2_pool (MaxPooling2D)   (None, 37, 37, 128)       0         \n",
      "_________________________________________________________________\n",
      "block3_conv1 (Conv2D)        (None, 37, 37, 256)       295168    \n",
      "_________________________________________________________________\n",
      "block3_conv2 (Conv2D)        (None, 37, 37, 256)       590080    \n",
      "_________________________________________________________________\n",
      "block3_conv3 (Conv2D)        (None, 37, 37, 256)       590080    \n",
      "_________________________________________________________________\n",
      "block3_pool (MaxPooling2D)   (None, 18, 18, 256)       0         \n",
      "_________________________________________________________________\n",
      "block4_conv1 (Conv2D)        (None, 18, 18, 512)       1180160   \n",
      "_________________________________________________________________\n",
      "block4_conv2 (Conv2D)        (None, 18, 18, 512)       2359808   \n",
      "_________________________________________________________________\n",
      "block4_conv3 (Conv2D)        (None, 18, 18, 512)       2359808   \n",
      "_________________________________________________________________\n",
      "block4_pool (MaxPooling2D)   (None, 9, 9, 512)         0         \n",
      "_________________________________________________________________\n",
      "block5_conv1 (Conv2D)        (None, 9, 9, 512)         2359808   \n",
      "_________________________________________________________________\n",
      "block5_conv2 (Conv2D)        (None, 9, 9, 512)         2359808   \n",
      "_________________________________________________________________\n",
      "block5_conv3 (Conv2D)        (None, 9, 9, 512)         2359808   \n",
      "_________________________________________________________________\n",
      "block5_pool (MaxPooling2D)   (None, 4, 4, 512)         0         \n",
      "=================================================================\n",
      "Total params: 14,714,688\n",
      "Trainable params: 14,714,688\n",
      "Non-trainable params: 0\n",
      "_________________________________________________________________\n"
     ]
    }
   ],
   "source": [
    "conv_base.summary()"
   ]
  },
  {
   "cell_type": "markdown",
   "metadata": {},
   "source": [
    "The final feature map has shape `(4, 4, 512)`. That's the feature on top of which we will stick a densely-connected classifier.\n",
    "\n",
    "At this point, there are two ways we could proceed: \n",
    "\n",
    "* Running the convolutional base over our dataset, recording its output to a Numpy array on disk, then using this data as input to a \n",
    "standalone densely-connected classifier similar to those you have seen in the first chapters of this book. This solution is very fast and \n",
    "cheap to run, because it only requires running the convolutional base once for every input image, and the convolutional base is by far the \n",
    "most expensive part of the pipeline. However, for the exact same reason, this technique would not allow us to leverage data augmentation at \n",
    "all.\n",
    "* Extending the model we have (`conv_base`) by adding `Dense` layers on top, and running the whole thing end-to-end on the input data. This \n",
    "allows us to use data augmentation, because every input image is going through the convolutional base every time it is seen by the model. \n",
    "However, for this same reason, this technique is far more expensive than the first one.\n",
    "\n",
    "We will cover both techniques. Let's walk through the code required to set-up the first one: recording the output of `conv_base` on our \n",
    "data and using these outputs as inputs to a new model.\n",
    "\n",
    "We will start by simply running instances of the previously-introduced `ImageDataGenerator` to extract images as Numpy arrays as well as \n",
    "their labels. We will extract features from these images simply by calling the `predict` method of the `conv_base` model."
   ]
  },
  {
   "cell_type": "code",
   "execution_count": 4,
   "metadata": {},
   "outputs": [
    {
     "name": "stdout",
     "output_type": "stream",
     "text": [
      "Found 2000 images belonging to 2 classes.\n",
      "Found 1000 images belonging to 2 classes.\n",
      "Found 1000 images belonging to 2 classes.\n"
     ]
    }
   ],
   "source": [
    "import os\n",
    "import numpy as np\n",
    "from keras.preprocessing.image import ImageDataGenerator\n",
    "\n",
    "base_dir = 'data/cats_and_dogs_small'\n",
    "\n",
    "train_dir = os.path.join(base_dir, 'train')\n",
    "validation_dir = os.path.join(base_dir, 'validation')\n",
    "test_dir = os.path.join(base_dir, 'test')\n",
    "\n",
    "datagen = ImageDataGenerator(rescale=1./255)\n",
    "batch_size = 20\n",
    "\n",
    "def extract_features(directory, sample_count):\n",
    "    features = np.zeros(shape=(sample_count, 4, 4, 512))\n",
    "    labels = np.zeros(shape=(sample_count))\n",
    "    generator = datagen.flow_from_directory(\n",
    "        directory,\n",
    "        target_size=(150, 150),\n",
    "        batch_size=batch_size,\n",
    "        class_mode='binary')\n",
    "    i = 0\n",
    "    for inputs_batch, labels_batch in generator:\n",
    "        features_batch = conv_base.predict(inputs_batch)\n",
    "        features[i * batch_size : (i + 1) * batch_size] = features_batch\n",
    "        labels[i * batch_size : (i + 1) * batch_size] = labels_batch\n",
    "        i += 1\n",
    "        if i * batch_size >= sample_count:\n",
    "            # Note that since generators yield data indefinitely in a loop,\n",
    "            # we must `break` after every image has been seen once.\n",
    "            break\n",
    "    return features, labels\n",
    "\n",
    "train_features, train_labels = extract_features(train_dir, 2000)\n",
    "validation_features, validation_labels = extract_features(validation_dir, 1000)\n",
    "test_features, test_labels = extract_features(test_dir, 1000)"
   ]
  },
  {
   "cell_type": "markdown",
   "metadata": {},
   "source": [
    "The extracted features are currently of shape `(samples, 4, 4, 512)`. We will feed them to a densely-connected classifier, so first we must \n",
    "flatten them to `(samples, 8192)`:"
   ]
  },
  {
   "cell_type": "code",
   "execution_count": 5,
   "metadata": {},
   "outputs": [],
   "source": [
    "train_features = np.reshape(train_features, (2000, 4 * 4 * 512))\n",
    "validation_features = np.reshape(validation_features, (1000, 4 * 4 * 512))\n",
    "test_features = np.reshape(test_features, (1000, 4 * 4 * 512))"
   ]
  },
  {
   "cell_type": "markdown",
   "metadata": {},
   "source": [
    "At this point, we can define our densely-connected classifier (note the use of dropout for regularization), and train it on the data and \n",
    "labels that we just recorded:"
   ]
  },
  {
   "cell_type": "code",
   "execution_count": 6,
   "metadata": {},
   "outputs": [
    {
     "name": "stdout",
     "output_type": "stream",
     "text": [
      "Train on 2000 samples, validate on 1000 samples\n",
      "Epoch 1/30\n",
      "2000/2000 [==============================] - 2s 1ms/step - loss: 0.6002 - acc: 0.6675 - val_loss: 0.4399 - val_acc: 0.8460\n",
      "Epoch 2/30\n",
      "2000/2000 [==============================] - 1s 681us/step - loss: 0.4250 - acc: 0.8010 - val_loss: 0.3688 - val_acc: 0.8520\n",
      "Epoch 3/30\n",
      "2000/2000 [==============================] - 1s 693us/step - loss: 0.3672 - acc: 0.8395 - val_loss: 0.3238 - val_acc: 0.8710\n",
      "Epoch 4/30\n",
      "2000/2000 [==============================] - 1s 690us/step - loss: 0.3192 - acc: 0.8685 - val_loss: 0.2965 - val_acc: 0.8930\n",
      "Epoch 5/30\n",
      "2000/2000 [==============================] - 1s 694us/step - loss: 0.2951 - acc: 0.8840 - val_loss: 0.2820 - val_acc: 0.8920\n",
      "Epoch 6/30\n",
      "2000/2000 [==============================] - 1s 691us/step - loss: 0.2619 - acc: 0.8875 - val_loss: 0.2697 - val_acc: 0.8950\n",
      "Epoch 7/30\n",
      "2000/2000 [==============================] - 1s 696us/step - loss: 0.2468 - acc: 0.8970 - val_loss: 0.2603 - val_acc: 0.8950\n",
      "Epoch 8/30\n",
      "2000/2000 [==============================] - 1s 704us/step - loss: 0.2379 - acc: 0.9105 - val_loss: 0.2562 - val_acc: 0.9000\n",
      "Epoch 9/30\n",
      "2000/2000 [==============================] - 1s 696us/step - loss: 0.2207 - acc: 0.9160 - val_loss: 0.2536 - val_acc: 0.8990\n",
      "Epoch 10/30\n",
      "2000/2000 [==============================] - 1s 689us/step - loss: 0.2112 - acc: 0.9200 - val_loss: 0.2480 - val_acc: 0.9010\n",
      "Epoch 11/30\n",
      "2000/2000 [==============================] - 1s 687us/step - loss: 0.2000 - acc: 0.9215 - val_loss: 0.2417 - val_acc: 0.9060\n",
      "Epoch 12/30\n",
      "2000/2000 [==============================] - 1s 684us/step - loss: 0.1871 - acc: 0.9345 - val_loss: 0.2514 - val_acc: 0.8920\n",
      "Epoch 13/30\n",
      "2000/2000 [==============================] - 1s 708us/step - loss: 0.1773 - acc: 0.9385 - val_loss: 0.2375 - val_acc: 0.9050\n",
      "Epoch 14/30\n",
      "2000/2000 [==============================] - 1s 697us/step - loss: 0.1614 - acc: 0.9400 - val_loss: 0.2357 - val_acc: 0.9090\n",
      "Epoch 15/30\n",
      "2000/2000 [==============================] - 1s 686us/step - loss: 0.1617 - acc: 0.9445 - val_loss: 0.2420 - val_acc: 0.8960\n",
      "Epoch 16/30\n",
      "2000/2000 [==============================] - 1s 698us/step - loss: 0.1582 - acc: 0.9430 - val_loss: 0.2385 - val_acc: 0.8980\n",
      "Epoch 17/30\n",
      "2000/2000 [==============================] - 1s 690us/step - loss: 0.1509 - acc: 0.9460 - val_loss: 0.2390 - val_acc: 0.8980\n",
      "Epoch 18/30\n",
      "2000/2000 [==============================] - 1s 687us/step - loss: 0.1435 - acc: 0.9545 - val_loss: 0.2349 - val_acc: 0.9020\n",
      "Epoch 19/30\n",
      "2000/2000 [==============================] - 1s 698us/step - loss: 0.1366 - acc: 0.9510 - val_loss: 0.2471 - val_acc: 0.8940\n",
      "Epoch 20/30\n",
      "2000/2000 [==============================] - 1s 696us/step - loss: 0.1376 - acc: 0.9505 - val_loss: 0.2303 - val_acc: 0.9090\n",
      "Epoch 21/30\n",
      "2000/2000 [==============================] - 1s 691us/step - loss: 0.1266 - acc: 0.9565 - val_loss: 0.2347 - val_acc: 0.9030\n",
      "Epoch 22/30\n",
      "2000/2000 [==============================] - 1s 702us/step - loss: 0.1241 - acc: 0.9550 - val_loss: 0.2330 - val_acc: 0.9050\n",
      "Epoch 23/30\n",
      "2000/2000 [==============================] - 1s 687us/step - loss: 0.1179 - acc: 0.9590 - val_loss: 0.2307 - val_acc: 0.9110\n",
      "Epoch 24/30\n",
      "2000/2000 [==============================] - 1s 703us/step - loss: 0.1153 - acc: 0.9630 - val_loss: 0.2449 - val_acc: 0.8990\n",
      "Epoch 25/30\n",
      "2000/2000 [==============================] - 1s 690us/step - loss: 0.1103 - acc: 0.9620 - val_loss: 0.2334 - val_acc: 0.9060\n",
      "Epoch 26/30\n",
      "2000/2000 [==============================] - 1s 706us/step - loss: 0.1052 - acc: 0.9680 - val_loss: 0.2467 - val_acc: 0.8990\n",
      "Epoch 27/30\n",
      "2000/2000 [==============================] - 1s 702us/step - loss: 0.1026 - acc: 0.9675 - val_loss: 0.2373 - val_acc: 0.9040\n",
      "Epoch 28/30\n",
      "2000/2000 [==============================] - 1s 697us/step - loss: 0.0993 - acc: 0.9650 - val_loss: 0.2320 - val_acc: 0.9070\n",
      "Epoch 29/30\n",
      "2000/2000 [==============================] - 1s 700us/step - loss: 0.0920 - acc: 0.9735 - val_loss: 0.2335 - val_acc: 0.9060\n",
      "Epoch 30/30\n",
      "2000/2000 [==============================] - 1s 688us/step - loss: 0.0895 - acc: 0.9750 - val_loss: 0.2384 - val_acc: 0.9050\n"
     ]
    }
   ],
   "source": [
    "from keras import models\n",
    "from keras import layers\n",
    "from keras import optimizers\n",
    "\n",
    "model = models.Sequential()\n",
    "model.add(layers.Dense(256, activation='relu', input_dim=4 * 4 * 512))\n",
    "model.add(layers.Dropout(0.5))\n",
    "model.add(layers.Dense(1, activation='sigmoid'))\n",
    "\n",
    "model.compile(optimizer=optimizers.RMSprop(lr=2e-5),\n",
    "              loss='binary_crossentropy',\n",
    "              metrics=['acc'])\n",
    "\n",
    "history = model.fit(train_features, train_labels,\n",
    "                    epochs=30,\n",
    "                    batch_size=20,\n",
    "                    validation_data=(validation_features, validation_labels))"
   ]
  },
  {
   "cell_type": "markdown",
   "metadata": {},
   "source": [
    "Training is very fast, since we only have to deal with two `Dense` layers -- an epoch takes less than one second even on CPU.\n",
    "\n",
    "Let's take a look at the loss and accuracy curves during training:"
   ]
  },
  {
   "cell_type": "code",
   "execution_count": 7,
   "metadata": {},
   "outputs": [
    {
     "data": {
      "image/png": "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\n",
      "text/plain": [
       "<Figure size 432x288 with 1 Axes>"
      ]
     },
     "metadata": {
      "needs_background": "light"
     },
     "output_type": "display_data"
    },
    {
     "data": {
      "image/png": "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\n",
      "text/plain": [
       "<Figure size 432x288 with 1 Axes>"
      ]
     },
     "metadata": {
      "needs_background": "light"
     },
     "output_type": "display_data"
    }
   ],
   "source": [
    "import matplotlib.pyplot as plt\n",
    "\n",
    "acc = history.history['acc']\n",
    "val_acc = history.history['val_acc']\n",
    "loss = history.history['loss']\n",
    "val_loss = history.history['val_loss']\n",
    "\n",
    "epochs = range(len(acc))\n",
    "\n",
    "plt.plot(epochs, acc, 'bo', label='Training acc')\n",
    "plt.plot(epochs, val_acc, 'b', label='Validation acc')\n",
    "plt.title('Training and validation accuracy')\n",
    "plt.legend()\n",
    "\n",
    "plt.figure()\n",
    "\n",
    "plt.plot(epochs, loss, 'bo', label='Training loss')\n",
    "plt.plot(epochs, val_loss, 'b', label='Validation loss')\n",
    "plt.title('Training and validation loss')\n",
    "plt.legend()\n",
    "\n",
    "plt.show()"
   ]
  },
  {
   "cell_type": "markdown",
   "metadata": {},
   "source": [
    "\n",
    "We reach a validation accuracy of about 90%, much better than what we could achieve in the previous section with our small model trained from \n",
    "scratch. However, our plots also indicate that we are overfitting almost from the start -- despite using dropout with a fairly large rate. \n",
    "This is because this technique does not leverage data augmentation, which is essential to preventing overfitting with small image datasets.\n",
    "\n",
    "Now, let's review the second technique we mentioned for doing feature extraction, which is much slower and more expensive, but which allows \n",
    "us to leverage data augmentation during training: extending the `conv_base` model and running it end-to-end on the inputs. Note that this \n",
    "technique is in fact so expensive that you should only attempt it if you have access to a GPU: it is absolutely intractable on CPU. If you \n",
    "cannot run your code on GPU, then the previous technique is the way to go.\n",
    "\n",
    "Because models behave just like layers, you can add a model (like our `conv_base`) to a `Sequential` model just like you would add a layer. \n",
    "So you can do the following:"
   ]
  },
  {
   "cell_type": "code",
   "execution_count": 8,
   "metadata": {},
   "outputs": [],
   "source": [
    "from keras import models\n",
    "from keras import layers\n",
    "\n",
    "model = models.Sequential()\n",
    "model.add(conv_base)\n",
    "model.add(layers.Flatten())\n",
    "model.add(layers.Dense(256, activation='relu'))\n",
    "model.add(layers.Dense(1, activation='sigmoid'))"
   ]
  },
  {
   "cell_type": "markdown",
   "metadata": {},
   "source": [
    "This is what our model looks like now:"
   ]
  },
  {
   "cell_type": "code",
   "execution_count": 9,
   "metadata": {},
   "outputs": [
    {
     "name": "stdout",
     "output_type": "stream",
     "text": [
      "Model: \"sequential_2\"\n",
      "_________________________________________________________________\n",
      "Layer (type)                 Output Shape              Param #   \n",
      "=================================================================\n",
      "vgg16 (Model)                (None, 4, 4, 512)         14714688  \n",
      "_________________________________________________________________\n",
      "flatten_1 (Flatten)          (None, 8192)              0         \n",
      "_________________________________________________________________\n",
      "dense_3 (Dense)              (None, 256)               2097408   \n",
      "_________________________________________________________________\n",
      "dense_4 (Dense)              (None, 1)                 257       \n",
      "=================================================================\n",
      "Total params: 16,812,353\n",
      "Trainable params: 16,812,353\n",
      "Non-trainable params: 0\n",
      "_________________________________________________________________\n"
     ]
    }
   ],
   "source": [
    "model.summary()"
   ]
  },
  {
   "cell_type": "markdown",
   "metadata": {},
   "source": [
    "As you can see, the convolutional base of VGG16 has 14,714,688 parameters, which is very large. The classifier we are adding on top has 2 \n",
    "million parameters.\n",
    "\n",
    "Before we compile and train our model, a very important thing to do is to freeze the convolutional base. \"Freezing\" a layer or set of \n",
    "layers means preventing their weights from getting updated during training. If we don't do this, then the representations that were \n",
    "previously learned by the convolutional base would get modified during training. Since the `Dense` layers on top are randomly initialized, \n",
    "very large weight updates would be propagated through the network, effectively destroying the representations previously learned.\n",
    "\n",
    "In Keras, freezing a network is done by setting its `trainable` attribute to `False`:"
   ]
  },
  {
   "cell_type": "code",
   "execution_count": 10,
   "metadata": {},
   "outputs": [
    {
     "name": "stdout",
     "output_type": "stream",
     "text": [
      "This is the number of trainable weights before freezing the conv base: 30\n"
     ]
    }
   ],
   "source": [
    "print('This is the number of trainable weights '\n",
    "      'before freezing the conv base:', len(model.trainable_weights))"
   ]
  },
  {
   "cell_type": "code",
   "execution_count": 11,
   "metadata": {},
   "outputs": [],
   "source": [
    "conv_base.trainable = False"
   ]
  },
  {
   "cell_type": "code",
   "execution_count": 12,
   "metadata": {},
   "outputs": [
    {
     "name": "stdout",
     "output_type": "stream",
     "text": [
      "This is the number of trainable weights after freezing the conv base: 4\n"
     ]
    }
   ],
   "source": [
    "print('This is the number of trainable weights '\n",
    "      'after freezing the conv base:', len(model.trainable_weights))"
   ]
  },
  {
   "cell_type": "markdown",
   "metadata": {},
   "source": [
    "With this setup, only the weights from the two `Dense` layers that we added will be trained. That's a total of four weight tensors: two per \n",
    "layer (the main weight matrix and the bias vector). Note that in order for these changes to take effect, we must first compile the model. \n",
    "If you ever modify weight trainability after compilation, you should then re-compile the model, or these changes would be ignored.\n",
    "\n",
    "Now we can start training our model, with the same data augmentation configuration that we used in our previous example:"
   ]
  },
  {
   "cell_type": "code",
   "execution_count": 13,
   "metadata": {},
   "outputs": [
    {
     "name": "stdout",
     "output_type": "stream",
     "text": [
      "Found 2000 images belonging to 2 classes.\n",
      "Found 1000 images belonging to 2 classes.\n",
      "Epoch 1/30\n",
      " - 38s - loss: 0.6050 - acc: 0.6625 - val_loss: 0.3078 - val_acc: 0.8310\n",
      "Epoch 2/30\n",
      " - 34s - loss: 0.4955 - acc: 0.7740 - val_loss: 0.3246 - val_acc: 0.8460\n",
      "Epoch 3/30\n",
      " - 34s - loss: 0.4287 - acc: 0.8185 - val_loss: 0.2102 - val_acc: 0.8770\n",
      "Epoch 4/30\n",
      " - 34s - loss: 0.4010 - acc: 0.8270 - val_loss: 0.2016 - val_acc: 0.8880\n",
      "Epoch 5/30\n",
      " - 35s - loss: 0.3842 - acc: 0.8325 - val_loss: 0.3922 - val_acc: 0.8530\n",
      "Epoch 6/30\n",
      " - 34s - loss: 0.3645 - acc: 0.8335 - val_loss: 0.1472 - val_acc: 0.8880\n",
      "Epoch 7/30\n",
      " - 34s - loss: 0.3539 - acc: 0.8450 - val_loss: 0.5343 - val_acc: 0.8910\n",
      "Epoch 8/30\n",
      " - 34s - loss: 0.3454 - acc: 0.8420 - val_loss: 0.1756 - val_acc: 0.8940\n",
      "Epoch 9/30\n",
      " - 34s - loss: 0.3176 - acc: 0.8660 - val_loss: 0.0979 - val_acc: 0.9000\n",
      "Epoch 10/30\n",
      " - 35s - loss: 0.3418 - acc: 0.8490 - val_loss: 0.4265 - val_acc: 0.9030\n",
      "Epoch 11/30\n",
      " - 35s - loss: 0.3227 - acc: 0.8645 - val_loss: 0.3127 - val_acc: 0.9030\n",
      "Epoch 12/30\n",
      " - 33s - loss: 0.3226 - acc: 0.8640 - val_loss: 0.1868 - val_acc: 0.9010\n",
      "Epoch 13/30\n",
      " - 34s - loss: 0.3195 - acc: 0.8550 - val_loss: 0.2238 - val_acc: 0.9070\n",
      "Epoch 14/30\n",
      " - 34s - loss: 0.3132 - acc: 0.8595 - val_loss: 0.1506 - val_acc: 0.9060\n",
      "Epoch 15/30\n",
      " - 34s - loss: 0.3166 - acc: 0.8625 - val_loss: 0.2853 - val_acc: 0.8920\n",
      "Epoch 16/30\n",
      " - 35s - loss: 0.3022 - acc: 0.8640 - val_loss: 0.3011 - val_acc: 0.9020\n",
      "Epoch 17/30\n",
      " - 34s - loss: 0.2973 - acc: 0.8775 - val_loss: 0.1635 - val_acc: 0.9020\n",
      "Epoch 18/30\n",
      " - 34s - loss: 0.3087 - acc: 0.8660 - val_loss: 0.3060 - val_acc: 0.8990\n",
      "Epoch 19/30\n",
      " - 35s - loss: 0.3049 - acc: 0.8680 - val_loss: 0.3411 - val_acc: 0.9010\n",
      "Epoch 20/30\n",
      " - 64s - loss: 0.2974 - acc: 0.8710 - val_loss: 0.1353 - val_acc: 0.9000\n",
      "Epoch 21/30\n",
      " - 38s - loss: 0.2888 - acc: 0.8775 - val_loss: 0.1052 - val_acc: 0.8970\n",
      "Epoch 22/30\n",
      " - 35s - loss: 0.2824 - acc: 0.8800 - val_loss: 0.2977 - val_acc: 0.9080\n",
      "Epoch 23/30\n",
      " - 64s - loss: 0.2906 - acc: 0.8735 - val_loss: 0.2735 - val_acc: 0.9050\n",
      "Epoch 24/30\n",
      " - 35s - loss: 0.3123 - acc: 0.8655 - val_loss: 0.1859 - val_acc: 0.9100\n",
      "Epoch 25/30\n",
      " - 65s - loss: 0.2853 - acc: 0.8825 - val_loss: 0.2276 - val_acc: 0.8900\n",
      "Epoch 26/30\n",
      " - 35s - loss: 0.2954 - acc: 0.8730 - val_loss: 0.3580 - val_acc: 0.9020\n",
      "Epoch 27/30\n",
      " - 67s - loss: 0.2949 - acc: 0.8755 - val_loss: 0.7394 - val_acc: 0.9110\n",
      "Epoch 28/30\n",
      " - 35s - loss: 0.2782 - acc: 0.8795 - val_loss: 0.2253 - val_acc: 0.8990\n",
      "Epoch 29/30\n",
      " - 72s - loss: 0.2718 - acc: 0.8845 - val_loss: 0.0880 - val_acc: 0.9080\n",
      "Epoch 30/30\n",
      " - 72s - loss: 0.2805 - acc: 0.8775 - val_loss: 0.4137 - val_acc: 0.8930\n"
     ]
    }
   ],
   "source": [
    "from keras.preprocessing.image import ImageDataGenerator\n",
    "\n",
    "train_datagen = ImageDataGenerator(\n",
    "      rescale=1./255,\n",
    "      rotation_range=40,\n",
    "      width_shift_range=0.2,\n",
    "      height_shift_range=0.2,\n",
    "      shear_range=0.2,\n",
    "      zoom_range=0.2,\n",
    "      horizontal_flip=True,\n",
    "      fill_mode='nearest')\n",
    "\n",
    "# Note that the validation data should not be augmented!\n",
    "test_datagen = ImageDataGenerator(rescale=1./255)\n",
    "\n",
    "train_generator = train_datagen.flow_from_directory(\n",
    "        # This is the target directory\n",
    "        train_dir,\n",
    "        # All images will be resized to 150x150\n",
    "        target_size=(150, 150),\n",
    "        batch_size=20,\n",
    "        # Since we use binary_crossentropy loss, we need binary labels\n",
    "        class_mode='binary')\n",
    "\n",
    "validation_generator = test_datagen.flow_from_directory(\n",
    "        validation_dir,\n",
    "        target_size=(150, 150),\n",
    "        batch_size=20,\n",
    "        class_mode='binary')\n",
    "\n",
    "model.compile(loss='binary_crossentropy',\n",
    "              optimizer=optimizers.RMSprop(lr=2e-5),\n",
    "              metrics=['acc'])\n",
    "\n",
    "history = model.fit_generator(\n",
    "      train_generator,\n",
    "      steps_per_epoch=100,\n",
    "      epochs=30,\n",
    "      validation_data=validation_generator,\n",
    "      validation_steps=50,\n",
    "      verbose=2)"
   ]
  },
  {
   "cell_type": "code",
   "execution_count": 14,
   "metadata": {},
   "outputs": [],
   "source": [
    "model.save('saved_models/cats_and_dogs_small_3.h5')"
   ]
  },
  {
   "cell_type": "markdown",
   "metadata": {},
   "source": [
    "Let's plot our results again:"
   ]
  },
  {
   "cell_type": "code",
   "execution_count": 15,
   "metadata": {},
   "outputs": [
    {
     "data": {
      "image/png": "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\n",
      "text/plain": [
       "<Figure size 432x288 with 1 Axes>"
      ]
     },
     "metadata": {
      "needs_background": "light"
     },
     "output_type": "display_data"
    },
    {
     "data": {
      "image/png": "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\n",
      "text/plain": [
       "<Figure size 432x288 with 1 Axes>"
      ]
     },
     "metadata": {
      "needs_background": "light"
     },
     "output_type": "display_data"
    }
   ],
   "source": [
    "acc = history.history['acc']\n",
    "val_acc = history.history['val_acc']\n",
    "loss = history.history['loss']\n",
    "val_loss = history.history['val_loss']\n",
    "\n",
    "epochs = range(len(acc))\n",
    "\n",
    "plt.plot(epochs, acc, 'bo', label='Training acc')\n",
    "plt.plot(epochs, val_acc, 'b', label='Validation acc')\n",
    "plt.title('Training and validation accuracy')\n",
    "plt.legend()\n",
    "\n",
    "plt.figure()\n",
    "\n",
    "plt.plot(epochs, loss, 'bo', label='Training loss')\n",
    "plt.plot(epochs, val_loss, 'b', label='Validation loss')\n",
    "plt.title('Training and validation loss')\n",
    "plt.legend()\n",
    "\n",
    "plt.show()"
   ]
  },
  {
   "cell_type": "markdown",
   "metadata": {},
   "source": [
    "As you can see, we reach a validation accuracy of about 96%. This is much better than our small convnet trained from scratch."
   ]
  },
  {
   "cell_type": "markdown",
   "metadata": {},
   "source": [
    "## Fine-tuning\n",
    "\n",
    "Another widely used technique for model reuse, complementary to feature extraction, is _fine-tuning_. \n",
    "Fine-tuning consists in unfreezing a few of the top layers \n",
    "of a frozen model base used for feature extraction, and jointly training both the newly added part of the model (in our case, the \n",
    "fully-connected classifier) and these top layers. This is called \"fine-tuning\" because it slightly adjusts the more abstract \n",
    "representations of the model being reused, in order to make them more relevant for the problem at hand.\n",
    "\n",
    "![fine-tuning VGG16](https://s3.amazonaws.com/book.keras.io/img/ch5/vgg16_fine_tuning.png)"
   ]
  },
  {
   "cell_type": "markdown",
   "metadata": {},
   "source": [
    "We have stated before that it was necessary to freeze the convolution base of VGG16 in order to be able to train a randomly initialized \n",
    "classifier on top. For the same reason, it is only possible to fine-tune the top layers of the convolutional base once the classifier on \n",
    "top has already been trained. If the classified wasn't already trained, then the error signal propagating through the network during \n",
    "training would be too large, and the representations previously learned by the layers being fine-tuned would be destroyed. Thus the steps \n",
    "for fine-tuning a network are as follow:\n",
    "\n",
    "* 1) Add your custom network on top of an already trained base network.\n",
    "* 2) Freeze the base network.\n",
    "* 3) Train the part you added.\n",
    "* 4) Unfreeze some layers in the base network.\n",
    "* 5) Jointly train both these layers and the part you added.\n",
    "\n",
    "We have already completed the first 3 steps when doing feature extraction. Let's proceed with the 4th step: we will unfreeze our `conv_base`, \n",
    "and then freeze individual layers inside of it.\n",
    "\n",
    "As a reminder, this is what our convolutional base looks like:"
   ]
  },
  {
   "cell_type": "code",
   "execution_count": 16,
   "metadata": {},
   "outputs": [
    {
     "name": "stdout",
     "output_type": "stream",
     "text": [
      "Model: \"vgg16\"\n",
      "_________________________________________________________________\n",
      "Layer (type)                 Output Shape              Param #   \n",
      "=================================================================\n",
      "input_1 (InputLayer)         (None, 150, 150, 3)       0         \n",
      "_________________________________________________________________\n",
      "block1_conv1 (Conv2D)        (None, 150, 150, 64)      1792      \n",
      "_________________________________________________________________\n",
      "block1_conv2 (Conv2D)        (None, 150, 150, 64)      36928     \n",
      "_________________________________________________________________\n",
      "block1_pool (MaxPooling2D)   (None, 75, 75, 64)        0         \n",
      "_________________________________________________________________\n",
      "block2_conv1 (Conv2D)        (None, 75, 75, 128)       73856     \n",
      "_________________________________________________________________\n",
      "block2_conv2 (Conv2D)        (None, 75, 75, 128)       147584    \n",
      "_________________________________________________________________\n",
      "block2_pool (MaxPooling2D)   (None, 37, 37, 128)       0         \n",
      "_________________________________________________________________\n",
      "block3_conv1 (Conv2D)        (None, 37, 37, 256)       295168    \n",
      "_________________________________________________________________\n",
      "block3_conv2 (Conv2D)        (None, 37, 37, 256)       590080    \n",
      "_________________________________________________________________\n",
      "block3_conv3 (Conv2D)        (None, 37, 37, 256)       590080    \n",
      "_________________________________________________________________\n",
      "block3_pool (MaxPooling2D)   (None, 18, 18, 256)       0         \n",
      "_________________________________________________________________\n",
      "block4_conv1 (Conv2D)        (None, 18, 18, 512)       1180160   \n",
      "_________________________________________________________________\n",
      "block4_conv2 (Conv2D)        (None, 18, 18, 512)       2359808   \n",
      "_________________________________________________________________\n",
      "block4_conv3 (Conv2D)        (None, 18, 18, 512)       2359808   \n",
      "_________________________________________________________________\n",
      "block4_pool (MaxPooling2D)   (None, 9, 9, 512)         0         \n",
      "_________________________________________________________________\n",
      "block5_conv1 (Conv2D)        (None, 9, 9, 512)         2359808   \n",
      "_________________________________________________________________\n",
      "block5_conv2 (Conv2D)        (None, 9, 9, 512)         2359808   \n",
      "_________________________________________________________________\n",
      "block5_conv3 (Conv2D)        (None, 9, 9, 512)         2359808   \n",
      "_________________________________________________________________\n",
      "block5_pool (MaxPooling2D)   (None, 4, 4, 512)         0         \n",
      "=================================================================\n",
      "Total params: 14,714,688\n",
      "Trainable params: 0\n",
      "Non-trainable params: 14,714,688\n",
      "_________________________________________________________________\n"
     ]
    }
   ],
   "source": [
    "conv_base.summary()"
   ]
  },
  {
   "cell_type": "markdown",
   "metadata": {},
   "source": [
    "\n",
    "We will fine-tune the last 3 convolutional layers, which means that all layers up until `block4_pool` should be frozen, and the layers \n",
    "`block5_conv1`, `block5_conv2` and `block5_conv3` should be trainable.\n",
    "\n",
    "Why not fine-tune more layers? Why not fine-tune the entire convolutional base? We could. However, we need to consider that:\n",
    "\n",
    "* Earlier layers in the convolutional base encode more generic, reusable features, while layers higher up encode more specialized features. It is \n",
    "more useful to fine-tune the more specialized features, as these are the ones that need to be repurposed on our new problem. There would \n",
    "be fast-decreasing returns in fine-tuning lower layers.\n",
    "* The more parameters we are training, the more we are at risk of overfitting. The convolutional base has 15M parameters, so it would be \n",
    "risky to attempt to train it on our small dataset.\n",
    "\n",
    "Thus, in our situation, it is a good strategy to only fine-tune the top 2 to 3 layers in the convolutional base.\n",
    "\n",
    "Let's set this up, starting from where we left off in the previous example:"
   ]
  },
  {
   "cell_type": "code",
   "execution_count": 17,
   "metadata": {},
   "outputs": [],
   "source": [
    "conv_base.trainable = True\n",
    "\n",
    "set_trainable = False\n",
    "for layer in conv_base.layers:\n",
    "    if layer.name == 'block5_conv1':\n",
    "        set_trainable = True\n",
    "    if set_trainable:\n",
    "        layer.trainable = True\n",
    "    else:\n",
    "        layer.trainable = False"
   ]
  },
  {
   "cell_type": "markdown",
   "metadata": {},
   "source": [
    "Now we can start fine-tuning our network. We will do this with the RMSprop optimizer, using a very low learning rate. The reason for using \n",
    "a low learning rate is that we want to limit the magnitude of the modifications we make to the representations of the 3 layers that we are \n",
    "fine-tuning. Updates that are too large may harm these representations.\n",
    "\n",
    "Now let's proceed with fine-tuning:"
   ]
  },
  {
   "cell_type": "code",
   "execution_count": 18,
   "metadata": {},
   "outputs": [
    {
     "name": "stdout",
     "output_type": "stream",
     "text": [
      "Epoch 1/100\n",
      "100/100 [==============================] - 38s 377ms/step - loss: 0.2901 - acc: 0.8805 - val_loss: 0.4046 - val_acc: 0.9160\n",
      "Epoch 2/100\n",
      "100/100 [==============================] - 71s 709ms/step - loss: 0.2542 - acc: 0.8925 - val_loss: 0.0661 - val_acc: 0.9180\n",
      "Epoch 3/100\n",
      "100/100 [==============================] - 73s 726ms/step - loss: 0.2179 - acc: 0.9055 - val_loss: 0.0275 - val_acc: 0.9140\n",
      "Epoch 4/100\n",
      "100/100 [==============================] - 75s 752ms/step - loss: 0.2364 - acc: 0.9105 - val_loss: 0.2690 - val_acc: 0.9130\n",
      "Epoch 5/100\n",
      "100/100 [==============================] - 39s 385ms/step - loss: 0.1934 - acc: 0.9195 - val_loss: 0.0390 - val_acc: 0.9260\n",
      "Epoch 6/100\n",
      "100/100 [==============================] - 73s 730ms/step - loss: 0.1933 - acc: 0.9185 - val_loss: 0.4347 - val_acc: 0.9080\n",
      "Epoch 7/100\n",
      "100/100 [==============================] - 80s 795ms/step - loss: 0.2019 - acc: 0.9185 - val_loss: 0.2329 - val_acc: 0.9290\n",
      "Epoch 8/100\n",
      "100/100 [==============================] - 82s 819ms/step - loss: 0.1764 - acc: 0.9210 - val_loss: 0.4513 - val_acc: 0.9240\n",
      "Epoch 9/100\n",
      "100/100 [==============================] - 119s 1s/step - loss: 0.1714 - acc: 0.9305 - val_loss: 0.1325 - val_acc: 0.9290\n",
      "Epoch 10/100\n",
      "100/100 [==============================] - 125s 1s/step - loss: 0.1560 - acc: 0.9390 - val_loss: 0.0221 - val_acc: 0.9270\n",
      "Epoch 11/100\n",
      "100/100 [==============================] - 125s 1s/step - loss: 0.1412 - acc: 0.9445 - val_loss: 0.1016 - val_acc: 0.9260\n",
      "Epoch 12/100\n",
      "100/100 [==============================] - 125s 1s/step - loss: 0.1390 - acc: 0.9445 - val_loss: 0.0667 - val_acc: 0.9340\n