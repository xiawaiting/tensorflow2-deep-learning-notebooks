{
 "cells": [
  {
   "cell_type": "code",
   "execution_count": 1,
   "metadata": {},
   "outputs": [
    {
     "name": "stdout",
     "output_type": "stream",
     "text": [
      "Tensorflow :  2.0.0\n",
      " |-> Keras :  2.2.4-tf\n"
     ]
    }
   ],
   "source": [
    "import tensorflow as tf\n",
    "from tensorflow import keras\n",
    "print( 'Tensorflow : ',tf.__version__)\n",
    "print( ' |-> Keras : ',keras.__version__)"
   ]
  },
  {
   "cell_type": "markdown",
   "metadata": {},
   "source": [
    "# Using word embeddings\n",
    "\n",
    "This notebook contains the second code sample found in Chapter 6, Section 1 of [Deep Learning with Python](https://www.manning.com/books/deep-learning-with-python?a_aid=keras&a_bid=76564dff). Note that the original text features far more content, in particular further explanations and figures: in this notebook, you will only find source code and related comments.\n",
    "\n",
    "---\n",
    "\n",
    "\n",
    "Another popular and powerful way to associate a vector with a word is the use of dense \"word vectors\", also called \"word embeddings\". \n",
    "While the vectors obtained through one-hot encoding are binary, sparse (mostly made of zeros) and very high-dimensional (same dimensionality as the \n",
    "number of words in the vocabulary), \"word embeddings\" are low-dimensional floating point vectors \n",
    "(i.e. \"dense\" vectors, as opposed to sparse vectors). \n",
    "Unlike word vectors obtained via one-hot encoding, word embeddings are learned from data. \n",
    "It is common to see word embeddings that are 256-dimensional, 512-dimensional, or 1024-dimensional when dealing with very large vocabularies. \n",
    "On the other hand, one-hot encoding words generally leads to vectors that are 20,000-dimensional or higher (capturing a vocabulary of 20,000 \n",
    "token in this case). So, word embeddings pack more information into far fewer dimensions. "
   ]
  },
  {
   "cell_type": "markdown",
   "metadata": {},
   "source": [
    "![word embeddings vs. one hot encoding](https://s3.amazonaws.com/book.keras.io/img/ch6/word_embeddings.png)"
   ]
  },
  {
   "cell_type": "markdown",
   "metadata": {},
   "source": [
    "There are two ways to obtain word embeddings:\n",
    "\n",
    "* Learn word embeddings jointly with the main task you care about (e.g. document classification or sentiment prediction). \n",
    "In this setup, you would start with random word vectors, then learn your word vectors in the same way that you learn the weights of a neural network.\n",
    "* Load into your model word embeddings that were pre-computed using a different machine learning task than the one you are trying to solve. \n",
    "These are called \"pre-trained word embeddings\". \n",
    "\n",
    "Let's take a look at both."
   ]
  },
  {
   "cell_type": "markdown",
   "metadata": {},
   "source": [
    "## Learning word embeddings with the `Embedding` layer\n",
    "\n",
    "\n",
    "The simplest way to associate a dense vector to a word would be to pick the vector at random. The problem with this approach is that the \n",
    "resulting embedding space would have no structure: for instance, the words \"accurate\" and \"exact\" may end up with completely different \n",
    "embeddings, even though they are interchangeable in most sentences. It would be very difficult for a deep neural network to make sense of \n",
    "such a noisy, unstructured embedding space. \n",
    "\n",
    "To get a bit more abstract: the geometric relationships between word vectors should reflect the semantic relationships between these words. \n",
    "Word embeddings are meant to map human language into a geometric space. For instance, in a reasonable embedding space, we would expect \n",
    "synonyms to be embedded into similar word vectors, and in general we would expect the geometric distance (e.g. L2 distance) between any two \n",
    "word vectors to relate to the semantic distance of the associated words (words meaning very different things would be embedded to points \n",
    "far away from each other, while related words would be closer). Even beyond mere distance, we may want specific __directions__ in the \n",
    "embedding space to be meaningful. \n",
    "\n",
    "[...]\n",
    "\n",
    "\n",
    "In real-world word embedding spaces, common examples of meaningful geometric transformations are \"gender vectors\" and \"plural vector\". For \n",
    "instance, by adding a \"female vector\" to the vector \"king\", one obtain the vector \"queen\". By adding a \"plural vector\", one obtain \"kings\". \n",
    "Word embedding spaces typically feature thousands of such interpretable and potentially useful vectors.\n",
    "\n",
    "Is there some \"ideal\" word embedding space that would perfectly map human language and could be used for any natural language processing \n",
    "task? Possibly, but in any case, we have yet to compute anything of the sort. Also, there isn't such a thing as \"human language\", there are \n",
    "many different languages and they are not isomorphic, as a language is the reflection of a specific culture and a specific context. But more \n",
    "pragmatically, what makes a good word embedding space depends heavily on your task: the perfect word embedding space for an \n",
    "English-language movie review sentiment analysis model may look very different from the perfect embedding space for an English-language \n",
    "legal document classification model, because the importance of certain semantic relationships varies from task to task.\n",
    "\n",
    "It is thus reasonable to __learn__ a new embedding space with every new task. Thankfully, backpropagation makes this really easy, and Keras makes it \n",
    "even easier. It's just about learning the weights of a layer: the `Embedding` layer."
   ]
  },
  {
   "cell_type": "code",
   "execution_count": 2,
   "metadata": {},
   "outputs": [
    {
     "name": "stderr",
     "output_type": "stream",
     "text": [
      "Using TensorFlow backend.\n"
     ]
    }
   ],
   "source": [
    "from keras.layers import Embedding\n",
    "\n",
    "# The Embedding layer takes at least two arguments:\n",
    "# the number of possible tokens, here 1000 (1 + maximum word index),\n",
    "# and the dimensionality of the embeddings, here 64.\n",
    "embedding_layer = Embedding(1000, 64)"
   ]
  },
  {
   "cell_type": "markdown",
   "metadata": {},
   "source": [
    "\n",
    "The `Embedding` layer is best understood as a dictionary mapping integer indices (which stand for specific words) to dense vectors. It takes \n",
    "as input integers, it looks up these integers into an internal dictionary, and it returns the associated vectors. It's effectively a dictionary lookup."
   ]
  },
  {
   "cell_type": "markdown",
   "metadata": {},
   "source": [
    "\n",
    "The `Embedding` layer takes as input a 2D tensor of integers, of shape `(samples, sequence_length)`, where each entry is a sequence of \n",
    "integers. It can embed sequences of variable lengths, so for instance we could feed into our embedding layer above batches that could have \n",
    "shapes `(32, 10)` (batch of 32 sequences of length 10) or `(64, 15)` (batch of 64 sequences of length 15). All sequences in a batch must \n",
    "have the same length, though (since we need to pack them into a single tensor), so sequences that are shorter than others should be padded \n",
    "with zeros, and sequences that are longer should be truncated.\n",
    "\n",
    "This layer returns a 3D floating point tensor, of shape `(samples, sequence_length, embedding_dimensionality)`. Such a 3D tensor can then \n",
    "be processed by a RNN layer or a 1D convolution layer (both will be introduced in the next sections).\n",
    "\n",
    "When you instantiate an `Embedding` layer, its weights (its internal dictionary of token vectors) are initially random, just like with any \n",
    "other layer. During training, these word vectors will be gradually adjusted via backpropagation, structuring the space into something that the \n",
    "downstream model can exploit. Once fully trained, your embedding space will show a lot of structure -- a kind of structure specialized for \n",
    "the specific problem you were training your model for.\n",
    "\n",
    "Let's apply this idea to the IMDB movie review sentiment prediction task that you are already familiar with. Let's quickly prepare \n",
    "the data. We will restrict the movie reviews to the top 10,000 most common words (like we did the first time we worked with this dataset), \n",
    "and cut the reviews after only 20 words. Our network will simply learn 8-dimensional embeddings for each of the 10,000 words, turn the \n",
    "input integer sequences (2D integer tensor) into embedded sequences (3D float tensor), flatten the tensor to 2D, and train a single `Dense` \n",
    "layer on top for classification."
   ]
  },
  {
   "cell_type": "code",
   "execution_count": 3,
   "metadata": {},
   "outputs": [],
   "source": [
    "from keras.datasets import imdb\n",
    "from keras import preprocessing\n",
    "\n",
    "# Number of words to consider as features\n",
    "max_features = 10000\n",
    "# Cut texts after this number of words \n",
    "# (among top max_features most common words)\n",
    "maxlen = 20\n",
    "\n",
    "# Load the data as lists of integers.\n",
    "(x_train, y_train), (x_test, y_test) = imdb.load_data(num_words=max_features)\n",
    "\n",
    "# This turns our lists of integers\n",
    "# into a 2D integer tensor of shape `(samples, maxlen)`\n",
    "x_train = preprocessing.sequence.pad_sequences(x_train, maxlen=maxlen)\n",
    "x_test = preprocessing.sequence.pad_sequences(x_test, maxlen=maxlen)"
   ]
  },
  {
   "cell_type": "code",
   "execution_count": 4,
   "metadata": {},
   "outputs": [
    {
     "name": "stdout",
     "output_type": "stream",
     "text": [
      "Model: \"sequential_1\"\n",
      "_________________________________________________________________\n",
      "Layer (type)                 Output Shape              Param #   \n",
      "=================================================================\n",
      "embedding_2 (Embedding)      (None, 20, 8)             80000     \n",
      "_________________________________________________________________\n",
      "flatten_1 (Flatten)          (None, 160)               0         \n",
      "_________________________________________________________________\n",
      "dense_1 (Dense)              (None, 1)                 161       \n",
      "=================================================================\n",
      "Total params: 80,161\n",
      "Trainable params: 80,161\n",
      "Non-trainable params: 0\n",
      "_________________________________________________________________\n"
     ]
    },
    {
     "name": "stderr",
     "output_type": "stream",
     "text": [
      "C:\\Miniconda3\\envs\\tf2\\lib\\site-packages\\tensorflow_core\\python\\framework\\indexed_slices.py:424: UserWarning: Converting sparse IndexedSlices to a dense Tensor of unknown shape. This may consume a large amount of memory.\n",
      "  \"Converting sparse IndexedSlices to a dense Tensor of unknown shape. \"\n"
     ]
    },
    {
     "name": "stdout",
     "output_type": "stream",
     "text": [
      "Train on 20000 samples, validate on 5000 samples\n",
      "Epoch 1/10\n",
      "20000/20000 [==============================] - 2s 99us/step - loss: 0.6635 - acc: 0.6334 - val_loss: 0.6065 - val_acc: 0.7040\n",
      "Epoch 2/10\n",
      "20000/20000 [==============================] - 2s 76us/step - loss: 0.5307 - acc: 0.7558 - val_loss: 0.5188 - val_acc: 0.7360\n",
      "Epoch 3/10\n",
      "20000/20000 [==============================] - 2s 75us/step - loss: 0.4550 - acc: 0.7911 - val_loss: 0.4980 - val_acc: 0.7494\n",
      "Epoch 4/10\n",
      "20000/20000 [==============================] - 1s 74us/step - loss: 0.4181 - acc: 0.8108 - val_loss: 0.4911 - val_acc: 0.7594\n",
      "Epoch 5/10\n",
      "20000/20000 [==============================] - 1s 75us/step - loss: 0.3923 - acc: 0.8231 - val_loss: 0.4922 - val_acc: 0.7592\n",
      "Epoch 6/10\n",
      "20000/20000 [==============================] - 1s 75us/step - loss: 0.3707 - acc: 0.8361 - val_loss: 0.4947 - val_acc: 0.7584\n",
      "Epoch 7/10\n",
      "20000/20000 [==============================] - 1s 75us/step - loss: 0.3520 - acc: 0.8465 - val_loss: 0.4991 - val_acc: 0.7550\n",
      "Epoch 8/10\n",
      "20000/20000 [==============================] - 1s 75us/step - loss: 0.3342 - acc: 0.8573 - val_loss: 0.5061 - val_acc: 0.7558\n",
      "Epoch 9/10\n",
      "20000/20000 [==============================] - 1s 75us/step - loss: 0.3175 - acc: 0.8661 - val_loss: 0.5136 - val_acc: 0.7510\n",
      "Epoch 10/10\n",
      "20000/20000 [==============================] - 2s 78us/step - loss: 0.3011 - acc: 0.8752 - val_loss: 0.5214 - val_acc: 0.7488\n"
     ]
    }
   ],
   "source": [
    "from keras.models import Sequential\n",
    "from keras.layers import Flatten, Dense\n",
    "\n",
    "model = Sequential()\n",
    "# We specify the maximum input length to our Embedding layer\n",
    "# so we can later flatten the embedded inputs\n",
    "model.add(Embedding(10000, 8, input_length=maxlen))\n",
    "# After the Embedding layer, \n",
    "# our activations have shape `(samples, maxlen, 8)`.\n",
    "\n",
    "# We flatten the 3D tensor of embeddings \n",
    "# into a 2D tensor of shape `(samples, maxlen * 8)`\n",
    "model.add(Flatten())\n",
    "\n",
    "# We add the classifier on top\n",
    "model.add(Dense(1, activation='sigmoid'))\n",
    "model.compile(optimizer='rmsprop', loss='binary_crossentropy', metrics=['acc'])\n",
    "model.summary()\n",
    "\n",
    "history = model.fit(x_train, y_train,\n",
    "                    epochs=10,\n",
    "                    batch_size=32,\n",
    "                    validation_split=0.2)"
   ]
  },
  {
   "cell_type": "markdown",
   "metadata": {},
   "source": [
    "We get to a validation accuracy of ~76%, which is pretty good considering that we only look at the first 20 words in every review. But \n",
    "note that merely flattening the embedded sequences and training a single `Dense` layer on top leads to a model that treats each word in the \n",
    "input sequence separately, without considering inter-word relationships and structure sentence (e.g. it would likely treat both _\"this movie \n",
    "is shit\"_ and _\"this movie is the shit\"_ as being negative \"reviews\"). It would be much better to add recurrent layers or 1D convolutional \n",
    "layers on top of the embedded sequences to learn features that take into account each sequence as a whole. That's what we will focus on in \n",
    "the next few sections."
   ]
  },
  {
   "cell_type": "markdown",
   "metadata": {},
   "source": [
    "## Using pre-trained word embeddings\n",
    "\n",
    "\n",
    "Sometimes, you have so little training data available that could never use your data alone to learn an appropriate task-specific embedding \n",
    "of your vocabulary. What to do then?\n",
    "\n",
    "Instead of learning word embeddings jointly with the problem you want to solve, you could be loading embedding vectors from a pre-computed \n",
    "embedding space known to be highly structured and to exhibit useful properties -- that captures generic aspects of language structure. The \n",
    "rationale behind using pre-trained word embeddings in natural language processing is very much the same as for using pre-trained convnets \n",
    "in image classification: we don't have enough data available to learn truly powerful features on our own, but we expect the features that \n",
    "we need to be fairly generic, i.e. common visual features or semantic features. In this case it makes sense to reuse features learned on a \n",
    "different problem.\n",
    "\n",
    "Such word embeddings are generally computed using word occurrence statistics (observations about what words co-occur in sentences or \n",
    "documents), using a variety of techniques, some involving neural networks, others not. The idea of a dense, low-dimensional embedding space \n",
    "for words, computed in an unsupervised way, was initially explored by Bengio et al. in the early 2000s, but it only started really taking \n",
    "off in research and industry applications after the release of one of the most famous and successful word embedding scheme: the Word2Vec \n",
    "algorithm, developed by Mikolov at Google in 2013. Word2Vec dimensions capture specific semantic properties, e.g. gender.\n",
    "\n",
    "There are various pre-computed databases of word embeddings that can download and start using in a Keras `Embedding` layer. Word2Vec is one \n",
    "of them. Another popular one is called \"GloVe\", developed by Stanford researchers in 2014. It stands for \"Global Vectors for Word \n",
    "Representation\", and it is an embedding technique based on factorizing a matrix of word co-occurrence statistics. Its developers have made \n",
    "available pre-computed embeddings for millions of English tokens, obtained from Wikipedia data or from Common Crawl data.\n",
    "\n",
    "Let's take a look at how you can get started using GloVe embeddings in a Keras model. The same method will of course be valid for Word2Vec \n",
    "embeddings or any other word embedding database that you can download. We will also use this example to refresh the text tokenization \n",
    "techniques we introduced a few paragraphs ago: we will start from raw text, and work our way up."
   ]
  },
  {
   "cell_type": "markdown",
   "metadata": {},
   "source": [
    "## Putting it all together: from raw text to word embeddings\n",
    "\n",
    "\n",
    "We will be using a model similar to the one we just went over -- embedding sentences in sequences of vectors, flattening them and training a \n",
    "`Dense` layer on top. But we will do it using pre-trained word embeddings, and instead of using the pre-tokenized IMDB data packaged in \n",
    "Keras, we will start from scratch, by downloading the original text data."
   ]
  },
  {
   "cell_type": "markdown",
   "metadata": {},
   "source": [
    "### Download the IMDB data as raw text\n",
    "\n",
    "\n",
    "First, head to `http://ai.stanford.edu/~amaas/data/sentiment/` and download the raw IMDB dataset (if the URL isn't working anymore, just \n",
    "Google \"IMDB dataset\"). Uncompress it.\n",
    "\n",
    "Now let's collect the individual training reviews into a list of strings, one string per review, and let's also collect the review labels \n",
    "(positive / negative) into a `labels` list:"
   ]
  },
  {
   "cell_type": "code",
   "execution_count": 5,
   "metadata": {},
   "outputs": [],
   "source": [
    "import os\n",
    "\n",
    "imdb_dir = 'data/aclImdb'\n",
    "train_dir = os.path.join(imdb_dir, 'train')\n",
    "\n",
    "labels = []\n",
    "texts = []\n",
    "\n",
    "for label_type in ['neg', 'pos']:\n",
    "    dir_name = os.path.join(train_dir, label_type)\n",
    "    for fname in os.listdir(dir_name):\n",
    "        if fname[-4:] == '.txt':\n",
    "            f = open(os.path.join(dir_name, fname),encoding='utf8')\n",
    "            texts.append(f.read())\n",
    "            f.close()\n",
    "            if label_type == 'neg':\n",
    "                labels.append(0)\n",
    "            else:\n",
    "                labels.append(1)"
   ]
  },
  {
   "cell_type": "markdown",
   "metadata": {},
   "source": [
    "### Tokenize the data\n",
    "\n",
    "\n",
    "Let's vectorize the texts we collected, and prepare a training and validation split.\n",
    "We will merely be using the concepts we introduced earlier in this section.\n",
    "\n",
    "Because pre-trained word embeddings are meant to be particularly useful on problems where little training data is available (otherwise, \n",
    "task-specific embeddings are likely to outperform them), we will add the following twist: we restrict the training data to its first 200 \n",
    "samples. So we will be learning to classify movie reviews after looking at just 200 examples...\n"
   ]
  },
  {
   "cell_type": "code",
   "execution_count": 6,
   "metadata": {},
   "outputs": [
    {
     "name": "stdout",
     "output_type": "stream",
     "text": [
      "Found 88582 unique tokens.\n",
      "Shape of data tensor: (25000, 100)\n",
      "Shape of label tensor: (25000,)\n"
     ]
    }
   ],
   "source": [
    "from keras.preprocessing.text import Tokenizer\n",
    "from keras.preprocessing.sequence import pad_sequences\n",
    "import numpy as np\n",
    "\n",
    "maxlen = 100  # We will cut reviews after 100 words\n",
    "training_samples = 200  # We will be training on 200 samples\n",
    "validation_samples = 10000  # We will be validating on 10000 samples\n",
    "max_words = 10000  # We will only consider the top 10,000 words in the dataset\n",
    "\n",
    "tokenizer = Tokenizer(num_words=max_words)\n",
    "tokenizer.fit_on_texts(texts)\n",
    "sequences = tokenizer.texts_to_sequences(texts)\n",
    "\n",
    "word_index = tokenizer.word_index\n",
    "print('Found %s unique tokens.' % len(word_index))\n",
    "\n",
    "data = pad_sequences(sequences, maxlen=maxlen)\n",
    "\n",
    "labels = np.asarray(labels)\n",
    "print('Shape of data tensor:', data.shape)\n",
    "print('Shape of label tensor:', labels.shape)\n",
    "\n",
    "# Split the data into a training set and a validation set\n",
    "# But first, shuffle the data, since we started from data\n",
    "# where sample are ordered (all negative first, then all positive).\n",
    "indices = np.arange(data.shape[0])\n",
    "np.random.shuffle(indices)\n",
    "data = data[indices]\n",
    "labels = labels[indices]\n",
    "\n",
    "x_train = data[:training_samples]\n",
    "y_train = labels[:training_samples]\n",
    "x_val = data[training_samples: training_samples + validation_samples]\n",
    "y_val = labels[training_samples: training_samples + validation_samples]"
   ]
  },
  {
   "cell_type": "markdown",
   "metadata": {},
   "source": [
    "### Download the GloVe word embeddings\n",
    "\n",
    "\n",
    "Head to `https://nlp.stanford.edu/projects/glove/` (where you can learn more about the GloVe algorithm), and download the pre-computed \n",
    "embeddings from 2014 English Wikipedia. It's a 822MB zip file named `glove.6B.zip`, containing 100-dimensional embedding vectors for \n",
    "400,000 words (or non-word tokens). Un-zip it."
   ]
  },
  {
   "cell_type": "markdown",
   "metadata": {},
   "source": [
    "### Pre-process the embeddings\n",
    "\n",
    "\n",
    "Let's parse the un-zipped file (it's a `txt` file) to build an index mapping words (as strings) to their vector representation (as number \n",
    "vectors)."
   ]
  },
  {
   "cell_type": "code",
   "execution_count": 7,
   "metadata": {},
   "outputs": [
    {
     "name": "stdout",
     "output_type": "stream",
     "text": [
      "Found 400000 word vectors.\n"
     ]
    }
   ],
   "source": [
    "glove_dir = 'data/'\n",
    "\n",
    "embeddings_index = {}\n",
    "f = open(os.path.join(glove_dir, 'glove.6B.100d.txt'),encoding='utf8')\n",
    "for line in f:\n",
    "    values = line.split()\n",
    "    word = values[0]\n",
    "    coefs = np.asarray(values[1:], dtype='float32')\n",
    "    embeddings_index[word] = coefs\n",
    "f.close()\n",
    "\n",
    "print('Found %s word vectors.' % len(embeddings_index))"
   ]
  },
  {
   "cell_type": "markdown",
   "metadata": {},
   "source": [
    "\n",
    "Now let's build an embedding matrix that we will be able to load into an `Embedding` layer. It must be a matrix of shape `(max_words, \n",
    "embedding_dim)`, where each entry `i` contains the `embedding_dim`-dimensional vector for the word of index `i` in our reference word index \n",
    "(built during tokenization). Note that the index `0` is not supposed to stand for any word or token -- it's a placeholder."
   ]
  },
  {
   "cell_type": "code",
   "execution_count": 8,
   "metadata": {},
   "outputs": [],
   "source": [
    "embedding_dim = 100\n",
    "\n",
    "embedding_matrix = np.zeros((max_words, embedding_dim))\n",
    "for word, i in word_index.items():\n",
    "    embedding_vector = embeddings_index.get(word)\n",
    "    if i < max_words:\n",
    "        if embedding_vector is not None:\n",
    "            # Words not found in embedding index will be all-zeros.\n",
    "            embedding_matrix[i] = embedding_vector"
   ]
  },
  {
   "cell_type": "markdown",
   "metadata": {},
   "source": [
    "### Define a model\n",
    "\n",
    "We will be using the same model architecture as before:"
   ]
  },
  {
   "cell_type": "code",
   "execution_count": 9,
   "metadata": {},
   "outputs": [
    {
     "name": "stdout",
     "output_type": "stream",
     "text": [
      "Model: \"sequential_2\"\n",
      "_________________________________________________________________\n",
      "Layer (type)                 Output Shape              Param #   \n",
      "=================================================================\n",
      "embedding_3 (Embedding)      (None, 100, 100)          1000000   \n",
      "_________________________________________________________________\n",
      "flatten_2 (Flatten)          (None, 10000)             0         \n",
      "_________________________________________________________________\n",
      "dense_2 (Dense)              (None, 32)                320032    \n",
      "_________________________________________________________________\n",
      "dense_3 (Dense)              (None, 1)                 33        \n",
      "=================================================================\n",
      "Total params: 1,320,065\n",
      "Trainable params: 1,320,065\n",
      "Non-trainable params: 0\n",
      "_________________________________________________________________\n"
     ]
    }
   ],
   "source": [
    "from keras.models import Sequential\n",
    "from keras.layers import Embedding, Flatten, Dense\n",
    "\n",
    "model = Sequential()\n",
    "model.add(Embedding(max_words, embedding_dim, input_length=maxlen))\n",
    "model.add(Flatten())\n",
    "model.add(Dense(32, activation='relu'))\n",
    "model.add(Dense(1, activation='sigmoid'))\n",
    "model.summary()"
   ]
  },
  {
   "cell_type": "markdown",
   "metadata": {},
   "source": [
    "### Load the GloVe embeddings in the model\n",
    "\n",
    "\n",
    "The `Embedding` layer has a single weight matrix: a 2D float matrix where each entry `i` is the word vector meant to be associated with \n",
    "index `i`. Simple enough. Let's just load the GloVe matrix we prepared into our `Embedding` layer, the first layer in our model:"
   ]
  },
  {
   "cell_type": "code",
   "execution_count": 10,
   "metadata": {},
   "outputs": [],
   "source": [
    "model.layers[0].set_weights([embedding_matrix])\n",
    "model.layers[0].trainable = False"
   ]
  },
  {
   "cell_type": "markdown",
   "metadata": {},
   "source": [
    "\n",
    "Additionally, we freeze the embedding layer (we set its `trainable` attribute to `False`), following the same rationale as what you are \n",
    "already familiar with in the context of pre-trained convnet features: when parts of a model are pre-trained (like our `Embedding` layer), \n",
    "and parts are randomly initialized (like our classifier), the pre-trained parts should not be updated during training to avoid forgetting \n",
    "what they already know. The large gradient update triggered by the randomly initialized layers would be very disruptive to the already \n",
    "learned features."
   ]
  },
  {
   "cell_type": "markdown",
   "metadata": {},
   "source": [
    "### Train and evaluate\n",
    "\n",
    "Let's compile our model and train it:"
   ]
  },
  {
   "cell_type": "code",
   "execution_count": 11,
   "metadata": {},
   "outputs": [
    {
     "name": "stdout",
     "output_type": "stream",
     "text": [
      "Train on 200 samples, validate on 10000 samples\n",
      "Epoch 1/10\n",
      "200/200 [==============================] - 1s 3ms/step - loss: 1.2174 - acc: 0.5000 - val_loss: 0.8578 - val_acc: 0.5057\n",
      "Epoch 2/10\n",
      "200/200 [==============================] - 0s 2ms/step - loss: 0.6333 - acc: 0.6050 - val_loss: 0.8078 - val_acc: 0.5064\n",
      "Epoch 3/10\n",
      "200/200 [==============================] - 0s 2ms/step - loss: 0.4860 - acc: 0.6950 - val_loss: 0.7225 - val_acc: 0.5272\n",
      "Epoch 4/10\n",
      "200/200 [==============================] - 0s 2ms/step - loss: 0.3584 - acc: 0.9000 - val_loss: 0.6941 - val_acc: 0.5543\n",
      "Epoch 5/10\n",
      "200/200 [==============================] - 0s 2ms/step - loss: 0.2770 - acc: 0.9550 - val_loss: 0.8068 - val_acc: 0.5188\n",
      "Epoch 6/10\n",
      "200/200 [==============================] - 0s 2ms/step - loss: 0.2424 - acc: 0.9350 - val_loss: 0.6901 - val_acc: 0.5697\n",
      "Epoch 7/10\n",
      "200/200 [==============================] - 0s 2ms/step - loss: 0.1556 - acc: 0.9800 - val_loss: 0.7744 - val_acc: 0.5423\n",
      "Epoch 8/10\n",
      "200/200 [==============================] - 0s 2ms/step - loss: 0.1123 - acc: 1.0000 - val_loss: 0.7199 - val_acc: 0.5702\n",
      "Epoch 9/10\n",
      "200/200 [==============================] - 0s 2ms/step - loss: 0.0855 - acc: 0.9850 - val_loss: 1.1000 - val_acc: 0.5170\n",
      "Epoch 10/10\n",
      "200/200 [==============================] - 0s 2ms/step - loss: 0.0816 - acc: 1.0000 - val_loss: 0.7523 - val_acc: 0.5646\n"
     ]
    }
   ],
   "source": [
    "model.compile(optimizer='rmsprop',\n",
    "              loss='binary_crossentropy',\n",
    "              metrics=['acc'])\n",
    "history = model.fit(x_train, y_train,\n",
    "                    epochs=10,\n",
    "                    batch_size=32,\n",
    "                    validation_data=(x_val, y_val))\n",
    "model.save_weights('saved_models/pre_trained_glove_model.h5')"
   ]
  },
  {
   "cell_type": "markdown",
   "metadata": {},
   "source": [
    "Let's plot its performance over time:"
   ]
  },
  {
   "cell_type": "code",
   "execution_count": 12,
   "metadata": {},
   "outputs": [
    {
     "data": {
      "image/png": "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\n",
      "text/plain": [
       "<Figure size 432x288 with 1 Axes>"
      ]
     },
     "metadata": 