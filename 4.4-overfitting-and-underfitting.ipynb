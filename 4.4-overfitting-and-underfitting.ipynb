{
 "cells": [
  {
   "cell_type": "code",
   "execution_count": 1,
   "metadata": {},
   "outputs": [
    {
     "name": "stdout",
     "output_type": "stream",
     "text": [
      "Tensorflow :  2.0.0\n",
      " |-> Keras :  2.2.4-tf\n"
     ]
    }
   ],
   "source": [
    "import tensorflow as tf\n",
    "from tensorflow import keras\n",
    "print( 'Tensorflow : ',tf.__version__)\n",
    "print( ' |-> Keras : ',keras.__version__)"
   ]
  },
  {
   "cell_type": "markdown",
   "metadata": {},
   "source": [
    "# Overfitting and underfitting\n",
    "\n",
    "This notebook contains the code samples found in Chapter 3, Section 6 of [Deep Learning with Python](https://www.manning.com/books/deep-learning-with-python?a_aid=keras&a_bid=76564dff). Note that the original text features far more content, in particular further explanations and figures: in this notebook, you will only find source code and related comments.\n",
    "\n",
    "----\n",
    "\n",
    "\n",
    "In all the examples we saw in the previous chapter -- movie review sentiment prediction, topic classification, and house price regression -- \n",
    "we could notice that the performance of our model on the held-out validation data would always peak after a few epochs and would then start \n",
    "degrading, i.e. our model would quickly start to _overfit_ to the training data. Overfitting happens in every single machine learning \n",
    "problem. Learning how to deal with overfitting is essential to mastering machine learning.\n",
    "\n",
    "The fundamental issue in machine learning is the tension between optimization and generalization. \"Optimization\" refers to the process of \n",
    "adjusting a model to get the best performance possible on the training data (the \"learning\" in \"machine learning\"), while \"generalization\" \n",
    "refers to how well the trained model would perform on data it has never seen before. The goal of the game is to get good generalization, of \n",
    "course, but you do not control generalization; you can only adjust the model based on its training data.\n",
    "\n",
    "At the beginning of training, optimization and generalization are correlated: the lower your loss on training data, the lower your loss on \n",
    "test data. While this is happening, your model is said to be _under-fit_: there is still progress to be made; the network hasn't yet \n",
    "modeled all relevant patterns in the training data. But after a certain number of iterations on the training data, generalization stops \n",
    "improving, validation metrics stall then start degrading: the model is then starting to over-fit, i.e. is it starting to learn patterns \n",
    "that are specific to the training data but that are misleading or irrelevant when it comes to new data.\n",
    "\n",
    "To prevent a model from learning misleading or irrelevant patterns found in the training data, _the best solution is of course to get \n",
    "more training data_. A model trained on more data will naturally generalize better. When that is no longer possible, the next best solution \n",
    "is to modulate the quantity of information that your model is allowed to store, or to add constraints on what information it is allowed to \n",
    "store. If a network can only afford to memorize a small number of patterns, the optimization process will force it to focus on the most \n",
    "prominent patterns, which have a better chance of generalizing well.\n",
    "\n",
    "The processing of fighting overfitting in this way is called _regularization_. Let's review some of the most common regularization \n",
    "techniques, and let's apply them in practice to improve our movie classification model from  the previous chapter."
   ]
  },
  {
   "cell_type": "markdown",
   "metadata": {},
   "source": [
    "Note: in this notebook we will be using the IMDB test set as our validation set. It doesn't matter in this context.\n",
    "\n",
    "Let's prepare the data using the code from Chapter 3, Section 5:"
   ]
  },
  {
   "cell_type": "code",
   "execution_count": 2,
   "metadata": {},
   "outputs": [
    {
     "name": "stderr",
     "output_type": "stream",
     "text": [
      "Using TensorFlow backend.\n"
     ]
    }
   ],
   "source": [
    "from keras.datasets import imdb\n",
    "import numpy as np\n",
    "\n",
    "(train_data, train_labels), (test_data, test_labels) = imdb.load_data(num_words=10000)\n",
    "\n",
    "def vectorize_sequences(sequences, dimension=10000):\n",
    "    # Create an all-zero matrix of shape (len(sequences), dimension)\n",
    "    results = np.zeros((len(sequences), dimension))\n",
    "    for i, sequence in enumerate(sequences):\n",
    "        results[i, sequence] = 1.  # set specific indices of results[i] to 1s\n",
    "    return results\n",
    "\n",
    "# Our vectorized training data\n",
    "x_train = vectorize_sequences(train_data)\n",
    "# Our vectorized test data\n",
    "x_test = vectorize_sequences(test_data)\n",
    "# Our vectorized labels\n",
    "y_train = np.asarray(train_labels).astype('float32')\n",
    "y_test = np.asarray(test_labels).astype('float32')"
   ]
  },
  {
   "cell_type": "markdown",
   "metadata": {},
   "source": [
    "# Fighting overfitting\n",
    "\n",
    "## Reducing the network's size\n",
    "\n",
    "\n",
    "The simplest way to prevent overfitting is to reduce the size of the model, i.e. the number of learnable parameters in the model (which is \n",
    "determined by the number of layers and the number of units per layer). In deep learning, the number of learnable parameters in a model is \n",
    "often referred to as the model's \"capacity\". Intuitively, a model with more parameters will have more \"memorization capacity\" and therefore \n",
    "will be able to easily learn a perfect dictionary-like mapping between training samples and their targets, a mapping without any \n",
    "generalization power. For instance, a model with 500,000 binary parameters could easily be made to learn the class of every digits in the \n",
    "MNIST training set: we would only need 10 binary parameters for each of the 50,000 digits. Such a model would be useless for classifying \n",
    "new digit samples. Always keep this in mind: deep learning models tend to be good at fitting to the training data, but the real challenge \n",
    "is generalization, not fitting.\n",
    "\n",
    "On the other hand, if the network has limited memorization resources, it will not be able to learn this mapping as easily, and thus, in \n",
    "order to minimize its loss, it will have to resort to learning compressed representations that have predictive power regarding the targets \n",
    "-- precisely the type of representations that we are interested in. At the same time, keep in mind that you should be using models that have \n",
    "enough parameters that they won't be underfitting: your model shouldn't be starved for memorization resources. There is a compromise to be \n",
    "found between \"too much capacity\" and \"not enough capacity\".\n",
    "\n",
    "Unfortunately, there is no magical formula to determine what the right number of layers is, or what the right size for each layer is. You \n",
    "will have to evaluate an array of different architectures (on your validation set, not on your test set, of course) in order to find the \n",
    "right model size for your data. The general workflow to find an appropriate model size is to start with relatively few layers and \n",
    "parameters, and start increasing the size of the layers or adding new layers until you see diminishing returns with regard to the \n",
    "validation loss.\n",
    "\n",
    "Let's try this on our movie review classification network. Our original network was as such:"
   ]
  },
  {
   "cell_type": "code",
   "execution_count": 3,
   "metadata": {},
   "outputs": [],
   "source": [
    "from keras import models\n",
    "from keras import layers\n",
    "\n",
    "original_model = models.Sequential()\n",
    "original_model.add(layers.Dense(16, activation='relu', input_shape=(10000,)))\n",
    "original_model.add(layers.Dense(16, activation='relu'))\n",
    "original_model.add(layers.Dense(1, activation='sigmoid'))\n",
    "\n",
    "original_model.compile(optimizer='rmsprop',\n",
    "                       loss='binary_crossentropy',\n",
    "                       metrics=['acc'])"
   ]
  },
  {
   "cell_type": "markdown",
   "metadata": {},
   "source": [
    "Now let's try to replace it with this smaller network:"
   ]
  },
  {
   "cell_type": "code",
   "execution_count": 4,
   "metadata": {},
   "outputs": [],
   "source": [
    "smaller_model = models.Sequential()\n",
    "smaller_model.add(layers.Dense(4, activation='relu', input_shape=(10000,)))\n",
    "smaller_model.add(layers.Dense(4, activation='relu'))\n",
    "smaller_model.add(layers.Dense(1, activation='sigmoid'))\n",
    "\n",
    "smaller_model.compile(optimizer='rmsprop',\n",
    "                      loss='binary_crossentropy',\n",
    "                      metrics=['acc'])"
   ]
  },
  {
   "cell_type": "markdown",
   "metadata": {},
   "source": [
    "\n",
    "Here's a comparison of the validation losses of the original network and the smaller network. The dots are the validation loss values of \n",
    "the smaller network, and the crosses are the initial network (remember: a lower validation loss signals a better model)."
   ]
  },
  {
   "cell_type": "code",
   "execution_count": 5,
   "metadata": {},
   "outputs": [
    {
     "name": "stdout",
     "output_type": "stream",
     "text": [
      "Train on 25000 samples, validate on 25000 samples\n",
      "Epoch 1/20\n",
      "25000/25000 [==============================] - 4s 177us/step - loss: 0.4612 - acc: 0.8193 - val_loss: 0.3579 - val_acc: 0.8612\n",
      "Epoch 2/20\n",
      "25000/25000 [==============================] - 4s 150us/step - loss: 0.2639 - acc: 0.9074 - val_loss: 0.2946 - val_acc: 0.8830\n",
      "Epoch 3/20\n",
      "25000/25000 [==============================] - 4s 150us/step - loss: 0.2027 - acc: 0.9276 - val_loss: 0.2801 - val_acc: 0.8890\n",
      "Epoch 4/20\n",
      "25000/25000 [==============================] - 4s 150us/step - loss: 0.1696 - acc: 0.9395 - val_loss: 0.2936 - val_acc: 0.8835\n",
      "Epoch 5/20\n",
      "25000/25000 [==============================] - 4s 158us/step - loss: 0.1462 - acc: 0.9480 - val_loss: 0.3066 - val_acc: 0.8806\n",
      "Epoch 6/20\n",
      "25000/25000 [==============================] - 4s 158us/step - loss: 0.1261 - acc: 0.9558 - val_loss: 0.3705 - val_acc: 0.8669\n",
      "Epoch 7/20\n",
      "25000/25000 [==============================] - 4s 160us/step - loss: 0.1108 - acc: 0.9622 - val_loss: 0.3722 - val_acc: 0.8697\n",
      "Epoch 8/20\n",
      "25000/25000 [==============================] - 4s 164us/step - loss: 0.0993 - acc: 0.9669 - val_loss: 0.3738 - val_acc: 0.8704\n",
      "Epoch 9/20\n",
      "25000/25000 [==============================] - 4s 148us/step - loss: 0.0840 - acc: 0.9729 - val_loss: 0.4048 - val_acc: 0.8690\n",
      "Epoch 10/20\n",
      "25000/25000 [==============================] - 4s 163us/step - loss: 0.0758 - acc: 0.9758 - val_loss: 0.4367 - val_acc: 0.8632\n",
      "Epoch 11/20\n",
      "25000/25000 [==============================] - 4s 163us/step - loss: 0.0645 - acc: 0.9799 - val_loss: 0.4684 - val_acc: 0.8599\n",
      "Epoch 12/20\n",
      "25000/25000 [==============================] - 4s 153us/step - loss: 0.0562 - acc: 0.9834 - val_loss: 0.5197 - val_acc: 0.8534\n",
      "Epoch 13/20\n",
      "25000/25000 [==============================] - 4s 155us/step - loss: 0.0479 - acc: 0.9861 - val_loss: 0.5409 - val_acc: 0.8538\n",
      "Epoch 14/20\n",
      "25000/25000 [==============================] - 4s 151us/step - loss: 0.0427 - acc: 0.9876 - val_loss: 0.5708 - val_acc: 0.8545\n",
      "Epoch 15/20\n",
      "25000/25000 [==============================] - 4s 155us/step - loss: 0.0350 - acc: 0.9909 - val_loss: 0.6020 - val_acc: 0.8563\n",
      "Epoch 16/20\n",
      "25000/25000 [==============================] - 4s 149us/step - loss: 0.0308 - acc: 0.9914 - val_loss: 0.6416 - val_acc: 0.8526\n",
      "Epoch 17/20\n",
      "25000/25000 [==============================] - 4s 149us/step - loss: 0.0238 - acc: 0.9940 - val_loss: 0.6783 - val_acc: 0.8519\n",
      "Epoch 18/20\n",
      "25000/25000 [==============================] - 4s 154us/step - loss: 0.0212 - acc: 0.9950 - val_loss: 0.7204 - val_acc: 0.8510\n",
      "Epoch 19/20\n",
      "25000/25000 [==============================] - 4s 152us/step - loss: 0.0177 - acc: 0.9957 - val_loss: 0.7566 - val_acc: 0.8512\n",
      "Epoch 20/20\n",
      "25000/25000 [==============================] - 4s 168us/step - loss: 0.0128 - acc: 0.9974 - val_loss: 0.8030 - val_acc: 0.8508\n"
     ]
    }
   ],
   "source": [
    "original_hist = original_model.fit(x_train, y_train,\n",
    "                                   epochs=20,\n",
    "                                   batch_size=512,\n",
    "                                   validation_data=(x_test, y_test))"
   ]
  },
  {
   "cell_type": "code",
   "execution_count": 6,
   "metadata": {},
   "outputs": [
    {
     "name": "stdout",
     "output_type": "stream",
     "text": [
      "Train on 25000 samples, validate on 25000 samples\n",
      "Epoch 1/20\n",
      "25000/25000 [==============================] - 4s 162us/step - loss: 0.5685 - acc: 0.8077 - val_loss: 0.4828 - val_acc: 0.8568\n",
      "Epoch 2/20\n",
      "25000/25000 [==============================] - 4s 154us/step - loss: 0.3994 - acc: 0.8864 - val_loss: 0.3738 - val_acc: 0.8777\n",
      "Epoch 3/20\n",
      "25000/25000 [==============================] - 4s 152us/step - loss: 0.3035 - acc: 0.9064 - val_loss: 0.3181 - val_acc: 0.8862\n",
      "Epoch 4/20\n",
      "25000/25000 [==============================] - 4s 154us/step - loss: 0.2463 - acc: 0.9218 - val_loss: 0.2942 - val_acc: 0.8866\n",
      "Epoch 5/20\n",
      "25000/25000 [==============================] - 4s 151us/step - loss: 0.2094 - acc: 0.9300 - val_loss: 0.2812 - val_acc: 0.8893\n",
      "Epoch 6/20\n",
      "25000/25000 [==============================] - 4s 149us/step - loss: 0.1847 - acc: 0.9378 - val_loss: 0.2810 - val_acc: 0.8880\n",
      "Epoch 7/20\n",
      "25000/25000 [==============================] - 4s 150us/step - loss: 0.1660 - acc: 0.9440 - val_loss: 0.2815 - val_acc: 0.8876\n",
      "Epoch 8/20\n",
      "25000/25000 [==============================] - 4s 149us/step - loss: 0.1512 - acc: 0.9492 - val_loss: 0.2890 - val_acc: 0.8854\n",
      "Epoch 9/20\n",
      "25000/25000 [==============================] - 4s 152us/step - loss: 0.1383 - acc: 0.9540 - val_loss: 0.3093 - val_acc: 0.8799\n",
      "Epoch 10/20\n",
      "25000/25000 [==============================] - 4s 154us/step - loss: 0.1272 - acc: 0.9584 - val_loss: 0.3110 - val_acc: 0.8797\n",
      "Epoch 11/20\n",
      "25000/25000 [==============================] - 4s 171us/step - loss: 0.1173 - acc: 0.9621 - val_loss: 0.3217 - val_acc: 0.8781\n",
      "Epoch 12/20\n",
      "25000/25000 [==============================] - 4s 151us/step - loss: 0.1082 - acc: 0.9658 - val_loss: 0.3479 - val_acc: 0.8725\n",
      "Epoch 13/20\n",
      "25000/25000 [==============================] - 4s 148us/step - loss: 0.1006 - acc: 0.9682 - val_loss: 0.3492 - val_acc: 0.8744\n",
      "Epoch 14/20\n",
      "25000/25000 [==============================] - 4s 148us/step - loss: 0.0931 - acc: 0.9709 - val_loss: 0.3656 - val_acc: 0.8730\n",
      "Epoch 15/20\n",
      "25000/25000 [==============================] - 4s 149us/step - loss: 0.0870 - acc: 0.9727 - val_loss: 0.3875 - val_acc: 0.8675\n",
      "Epoch 16/20\n",
      "25000/25000 [==============================] - 4s 149us/step - loss: 0.0800 - acc: 0.9757 - val_loss: 0.3982 - val_acc: 0.8691\n",
      "Epoch 17/20\n",
      "25000/25000 [==============================] - 4s 149us/step - loss: 0.0744 - acc: 0.9784 - val_loss: 0.4325 - val_acc: 0.8633\n",
      "Epoch 18/20\n",
      "25000/25000 [==============================] - 4s 152us/step - loss: 0.0692 - acc: 0.9791 - val_loss: 0.4305 - val_acc: 0.8657\n",
      "Epoch 19/20\n",
      "25000/25000 [==============================] - 4s 149us/step - loss: 0.0640 - acc: 0.9815 - val_loss: 0.4523 - val_acc: 0.8618\n",
      "Epoch 20/20\n",
      "25000/25000 [==============================] - 4s 148us/step - loss: 0.0588 - acc: 0.9833 - val_loss: 0.4698 - val_acc: 0.8627\n"
     ]
    }
   ],
   "source": [
    "smaller_model_hist = smaller_model.fit(x_train, y_train,\n",
    "                                       epochs=20,\n",
    "                                       batch_size=512,\n",
    "                                       validation_data=(x_test, y_test))"
   ]
  },
  {
   "cell_type": "code",
   "execution_count": 7,
   "metadata": {},
   "outputs": [],
   "source": [
    "epochs = range(1, 21)\n",
    "original_val_loss = original_hist.history['val_loss']\n",
    "smaller_model_val_loss = smaller_model_hist.history['val_loss']"
   ]
  },
  {
   "cell_type": "code",
   "execution_count": 8,
   "metadata": {},
   "outputs": [
    {
     "data": {
      "image/png": "[encoded data removed]",
      "text/plain": [
       "<Figure size 432x288 with 1 Axes>"
      ]
     },
     "metadata": {
      "needs_background": "light"
     },
     "output_type": "display_data"
    }
   ],
   "source": [
    "import matplotlib.pyplot as plt\n",
    "\n",
    "# b+ is for \"blue cross\"\n",
    "plt.plot(epochs, original_val_loss, 'b+', label='Original model')\n",
    "# \"bo\" is for \"blue dot\"\n",
    "plt.plot(epochs, smaller_model_val_loss, 'bo', label='Smaller model')\n",
    "plt.xlabel('Epochs')\n",
    "plt.ylabel('Validation loss')\n",
    "plt.legend()\n",
    "\n",
    "plt.show()"
   ]
  },
  {
   "cell_type": "markdown",
   "metadata": {},
   "source": [
    "\n",
    "As you can see, the smaller network starts overfitting later than the reference one (after 6 epochs rather than 4) and its performance \n",
    "degrades much more slowly once it starts overfitting.\n",
    "\n",
    "Now, for kicks, let's add to this benchmark a network that has much more capacity, far more than the problem would warrant:"
   ]
  },
  {
   "cell_type": "code",
   "execution_count": 9,
   "metadata": {},
   "outputs": [],
   "source": [
    "bigger_model = models.Sequential()\n",
    "bigger_model.add(layers.Dense(512, activation='relu', input_shape=(10000,)))\n",
    "bigger_model.add(layers.Dense(512, activation='relu'))\n",
    "bigger_model.add(layers.Dense(1, activation='sigmoid'))\n",
    "\n",
    "bigger_model.compile(optimizer='rmsprop',\n",
    "                     loss='binary_crossentropy',\n",
    "                     metrics=['acc'])"
   ]
  },
  {
   "cell_type": "code",
   "execution_count": 10,
   "metadata": {},
   "outputs": [
    {
     "name": "stdout",
     "output_type": "stream",
     "text": [
      "Train on 25000 samples, validate on 25000 samples\n",
      "Epoch 1/20\n",
      "25000/25000 [==============================] - 5s 196us/step - loss: 0.4619 - acc: 0.8020 - val_loss: 0.3206 - val_acc: 0.8654\n",
      "Epoch 2/20\n",
      "25000/25000 [==============================] - 5s 182us/step - loss: 0.2158 - acc: 0.9138 - val_loss: 0.5072 - val_acc: 0.7928\n",
      "Epoch 3/20\n",
      "25000/25000 [==============================] - 5s 191us/step - loss: 0.1273 - acc: 0.9532 - val_loss: 0.3568 - val_acc: 0.8825\n",
      "Epoch 4/20\n",
      "25000/25000 [==============================] - 5s 194us/step - loss: 0.0710 - acc: 0.9811 - val_loss: 0.5847 - val_acc: 0.8499\n",
      "Epoch 5/20\n",
      "25000/25000 [==============================] - 5s 184us/step - loss: 0.0703 - acc: 0.9867 - val_loss: 0.5014 - val_acc: 0.8808\n",
      "Epoch 6/20\n",
      "25000/25000 [==============================] - 5s 184us/step - loss: 0.0022 - acc: 0.9998 - val_loss: 0.7573 - val_acc: 0.8792\n",
      "Epoch 7/20\n",
      "25000/25000 [==============================] - 5s 189us/step - loss: 0.1526 - acc: 0.9884 - val_loss: 0.5973 - val_acc: 0.8766\n",
      "Epoch 8/20\n",
      "25000/25000 [==============================] - 5s 186us/step - loss: 4.5174e-04 - acc: 1.0000 - val_loss: 0.7800 - val_acc: 0.8783\n",
      "Epoch 9/20\n",
      "25000/25000 [==============================] - 5s 185us/step - loss: 6.5493e-05 - acc: 1.0000 - val_loss: 0.9560 - val_acc: 0.8784\n",
      "Epoch 10/20\n",
      "25000/25000 [==============================] - 5s 190us/step - loss: 0.1610 - acc: 0.9893 - val_loss: 0.8217 - val_acc: 0.8632\n",
      "Epoch 11/20\n",
      "25000/25000 [==============================] - 5s 192us/step - loss: 1.3739e-04 - acc: 1.0000 - val_loss: 0.8471 - val_acc: 0.8744\n",
      "Epoch 12/20\n",
      "25000/25000 [==============================] - 5s 185us/step - loss: 1.8979e-05 - acc: 1.0000 - val_loss: 0.9247 - val_acc: 0.8755\n",
      "Epoch 13/20\n",
      "25000/25000 [==============================] - 5s 184us/step - loss: 5.0410e-06 - acc: 1.0000 - val_loss: 1.0771 - val_acc: 0.8764\n",
      "Epoch 14/20\n",
      "25000/25000 [==============================] - 5s 189us/step - loss: 9.6674e-07 - acc: 1.0000 - val_loss: 1.2187 - val_acc: 0.8754\n",
      "Epoch 15/20\n",
      "25000/25000 [==============================] - 5s 194us/step - loss: 1.9466e-07 - acc: 1.0000 - val_loss: 1.3664 - val_acc: 0.8756\n",
      "Epoch 16/20\n",
      "25000/25000 [==============================] - 5s 195us/step - loss: 5.0694e-08 - acc: 1.0000 - val_loss: 1.4614 - val_acc: 0.8757\n",
      "Epoch 17/20\n",
      "25000/25000 [==============================] - 5s 192us/step - loss: 2.1714e-08 - acc: 1.0000 - val_loss: 1.5120 - val_acc: 0.8756\n",
      "Epoch 18/20\n",
      "25000/25000 [==============================] - 5s 199us/step - loss: 1.3539e-08 - acc: 1.0000 - val_loss: 1.5443 - val_acc: 0.8757\n",
      "Epoch 19/20\n",
      "25000/25000 [==============================] - 5s 188us/step - loss: 9.8249e-09 - acc: 1.0000 - val_loss: 1.5684 - val_acc: 0.8756\n",
      "Epoch 20/20\n",
      "25000/25000 [==============================] - 5s 190us/step - loss: 7.7432e-09 - acc: 1.0000 - val_loss: 1.5855 - val_acc: 0.8757\n"
     ]
    }
   ],
   "source": [
    "bigger_model_hist = bigger_model.fit(x_train, y_train,\n",
    "                                     epochs=20,\n",
    "                                     batch_size=512,\n",
    "                                     validation_data=(x_test, y_test))"
   ]
  },
  {
   "cell_type": "markdown",
   "metadata": {},
   "source": [
    "Here's how the bigger network fares compared to the reference one. The dots are the validation loss values of the bigger network, and the \n",
    "crosses are the initial network."
   ]
  },
  {
   "cell_type": "code",
   "execution_count": 11,
   "metadata": {},
   "outputs": [
    {
     "data": {
      "image/png": "[encoded data removed]",
      "text/plain": [
       "<Figure size 432x288 with 1 Axes>"
      ]
     },
     "metadata": {
      "needs_background": "light"
     },
     "output_type": "display_data"
    }
   ],
   "source": [
    "bigger_model_val_loss = bigger_model_hist.history['val_loss']\n",
    "\n",
    "plt.plot(epochs, original_val_loss, 'b+', label='Original model')\n",
    "plt.plot(epochs, bigger_model_val_loss, 'bo', label='Bigger model')\n",
    "plt.xlabel('Epochs')\n",
    "plt.ylabel('Validation loss')\n",
    "plt.legend()\n",
    "\n",
    "plt.show()"
   ]
  },
  {
   "cell_type": "markdown",
   "metadata": {},
   "source": [
    "\n",
    "The bigger network starts overfitting almost right away, after just one epoch, and overfits much more severely. Its validation loss is also \n",
    "more noisy.\n",
    "\n",
    "Meanwhile, here are the training losses for our two networks:"
   ]
  },
  {
   "cell_type": "code",
   "execution_count": 12,
   "metadata": {},
   "outputs": [
    {
     "data": {
      "image/png": "[encoded data removed]",
      "text/plain": [
       "<Figure size 432x288 with 1 Axes>"
      ]
     },
     "metadata": {
      "needs_background": "light"
     },
     "output_type": "display_data"
    }
   ],
   "source": [
    "original_train_loss = original_hist.history['loss']\n",
    "bigger_model_train_loss = bigger_model_hist.history['loss']\n",
    "\n",
    "plt.plot(epochs, original_train_loss, 'b+', label='Original model')\n",
    "plt.plot(epochs, bigger_model_train_loss, 'bo', label='Bigger model')\n",
    "plt.xlabel('Epochs')\n",
    "plt.ylabel('Training loss')\n",
    "plt.legend()\n",
    "\n",
    "plt.show()"
   ]
  },
  {
   "cell_type": "markdown",
   "metadata": {},
   "source": [
    "As you can see, the bigger network gets its training loss near zero very quickly. The more capacity the network has, the quicker it will be \n",
    "able to model the training data (resulting in a low training loss), but the more susceptible it is to overfitting (resulting in a large \n",
    "difference between the training and validation loss)."
   ]
  },
  {
   "cell_type": "markdown",
   "metadata": {},
   "source": [
    "## Adding weight regularization\n",
    "\n",
    "\n",
    "You may be familiar with _Occam's Razor_ principle: given two explanations for something, the explanation most likely to be correct is the \n",
    "\"simplest\" one, the one that makes the least amount of assumptions. This also applies to the models learned by neural networks: given some \n",
    "training data and a network architecture, there are multiple sets of weights values (multiple _models_) that could explain the data, and \n",
    "simpler models are less likely to overfit than complex ones.\n",
    "\n",
    "A \"simple model\" in this context is a model where the distribution of parameter values has less entropy (or a model with fewer \n",
    "parameters altogether, as we saw in the section above). Thus a common way to mitigate overfitting is to put constraints on the complexity \n",
    "of a network by forcing its weights to only take small values, which makes the distribution of weight values more \"regular\". This is called \n",
    "\"weight regularization\", and it is done by adding to the loss function of the network a _cost_ associated with having large weights. This \n",
    "cost comes in two flavors:\n",
    "\n",
    "* L1 regularization, where the cost added is proportional to the _absolute value of the weights coefficients_ (i.e. to what is called the \n",
    "\"L1 norm\" of the weights).\n",
    "* L2 regularization, where the cost added is proportional to the _square of the value of the weights coefficients_ (i.e. to what is called \n",
    "the \"L2 norm\" of the weights). L2 regularization is also called _weight decay_ in the context of neural networks. Don't let the different \n",
    "name confuse you: weight decay is mathematically the exact same as L2 regularization.\n",
    "\n",
    "In Keras, weight regularization is added by passing _weight regularizer instances_ to layers as keyword arguments. Let's add L2 weight \n",
    "regularization to our movie review classification network:"
   ]
  },
  {
   "cell_type": "code",
   "execution_count": 13,
   "metadata": {},
   "outputs": [],
   "source": [
    "from keras import regularizers\n",
    "\n",
    "l2_model = models.Sequential()\n",
    "l2_model.add(layers.Dense(16, kernel_regularizer=regularizers.l2(0.001),\n",
    "                          activation='relu', input_shape=(10000,)))\n",
    "l2_model.add(layers.Dense(16, kernel_regularizer=regularizers.l2(0.001),\n",
    "                          activation='relu'))\n",
    "l2_model.add(layers.Dense(1, activation='sigmoid'))"
   ]
  },
  {
   "cell_type": "code",
   "execution_count": 14,
   "metadata": {},
   "outputs": [],
   "source": [
    "l2_model.compile(optimizer='rmsprop',\n",
    "                 loss='binary_crossentropy',\n",
    "                 metrics=['acc'])"
   ]
  },
  {
   "cell_type": "markdown",
   "metadata": {},
   "source": [
    "`l2(0.001)` means that every coefficient in the weight matrix of the layer will add `0.001 * weight_coefficient_value` to the total loss of \n",
    "the network. Note that because this penalty is _only added at training time_, the loss for this network will be much higher at training \n",
    "than at test time.\n",
    "\n",
    "Here's the impact of our L2 regularization penalty:"
   ]
  },
  {
   "cell_type": "code",
   "execution_count": 15,
   "metadata": {},
   "outputs": [
    {
     "name": "stdout",
     "output_type": "stream",
     "text": [
      "Train on 25000 samples, validate on 25000 samples\n",
      "Epoch 1/20\n",
      "25000/25000 [==============================] - 4s 164us/step - loss: 0.5141 - acc: 0.8166 - val_loss: 0.3975 - val_acc: 0.8797\n",
      "Epoch 2/20\n",
      "25000/25000 [==============================] - 4s 150us/step - loss: 0.3270 - acc: 0.9034 - val_loss: 0.3440 - val_acc: 0.8839\n",
      "Epoch 3/20\n",
      "25000/25000 [==============================] - 4s 151us/step - loss: 0.2762 - acc: 0.9168 - val_loss: 0.3351 - val_acc: 0.8844\n",
      "Epoch 4/20\n",
      "25000/25000 [==============================] - 4s 150us/step - loss: 0.2532 - acc: 0.9264 - val_loss: 0.3285 - val_acc: 0.8877\n",
      "Epoch 5/20\n",
      "25000/25000 [==============================] - 4s 171us/step - loss: 0.2384 - acc: 0.9330 - val_loss: 0.3384 - val_acc: 0.8834\n",
      "Epoch 6/20\n",
      "25000/25000 [==============================] - 4s 154us/step - loss: 0.2288 - acc: 0.9372 - val_loss: 0.3826 - val_acc: 0.8675\n",
      "Epoch 7/20\n",
      "25000/25000 [==============================] - 4s 152us/step - loss: 0.2214 - acc: 0.9403 - val_loss: 0.3534 - val_acc: 0.8788\n",
      "Epoch 8/20\n",
      "25000/25000 [==============================] - 4s 148us/step - loss: 0.2145 - acc: 0.9423 - val_loss: 0.3679 - val_acc: 0.8755\n",
      "Epoch 9/20\n",
      "25000/25000 [==============================] - 4s 147us/step - loss: 0.2071 - acc: 0.9463 - val_loss: 0.3708 - val_acc: 0.8754\n",
      "Epoch 10/20\n",
      "25000/25000 [==============================] - 4s 153us/step - loss: 0.2077 - acc: 0.9452 - val_loss: 0.3776 - val_acc: 0.8733\n",
      "Epoch 11/20\n",
      "25000/25000 [==============================] - 4s 169us/step - loss: 0.1987 - acc: 0.9503 - val_loss: 0.3907 - val_acc: 0.8719\n",
      "Epoch 12/20\n",
      "25000/25000 [==============================] - 4s 164us/step - loss: 0.1976 - acc: 0.9486 - val_loss: 0.3796 - val_acc: 0.8757\n",
      "Epoch 13/20\n",
      "25000/25000 [==============================] - 4s 161us/step - loss: 0.1946 - acc: 0.9510 - val_loss: 0.4030 - val_acc: 0.8684\n",
      "Epoch 14/20\n",
      "25000/25000 [==============================] - 4s 155us/step - loss: 0.1909 - acc: 0.9521 - val_loss: 0.3955 - val_acc: 0.8732\n",
      "Epoch 15/20\n",
      "25000/25000 [==============================] - 4s 149us/step - loss: 0.1882 - acc: 0.9532 - val_loss: 0.4124 - val_acc: 0.8664\n",
      "Epoch 16/20\n",
      "25000/25000 [==============================] - 4s 152us/step - loss: 0.1845 - acc: 0.9548 - val_loss: 0.3981 - val_acc: 0.8734\n",
      "Epoch 17/20\n",
      "25000/25000 [==============================] - 4s 148us/step - loss: 0.1842 - acc: 0.9552 - val_loss: 0.4032 - val_acc: 0.8724\n",
      "Epoch 18/20\n",
      "25000/25000 [==============================] - 4s 148us/step - loss: 0.1783 - acc: 0.9570 - val_loss: 0.4181 - val_acc: 0.8711\n",
      "Epoch 19/20\n",
      "25000/25000 [==============================] - 4s 149us/step - loss: 0.1764 - acc: 0.9592 - val_loss: 0.4109 - val_acc: 0.8698\n",
      "Epoch 20/20\n",
      "25000/25000 [==============================] - 4s 153us/step - loss: 0.1707 - acc: 0.9602 - val_loss: 0.4745 - val_acc: 0.8514\n"
     ]
    }
   ],
   "source": [
    "l2_model_hist = l2_model.fit(x_train, y_train,\n",
    "                             epochs=20,\n",
    "                             batch_size=512,\n",
    "                             validation_data=(x_test, y_test))"
   ]
  },
  {
   "cell_type": "code",
   "execution_count": 16,
   "metadata": {},
   "outputs": [
    {
     "data": {
      "image/png": "[encoded data removed]",
      "text/plain": [
       "<Figure size 432x288 with 1 Axes>"
      ]
     },
     "metadata": {
      "needs_background": "light"
     },
     "output_type": "display_data"
    }
   ],
   "source": [
    "l2_model_val_loss = l2_model_hist.history['val_loss']\n",
    "\n",
    "plt.plot(epochs, original_val_loss, 'b+', label='Original model')\n",
    "plt.plot(epochs, l2_model_val_loss, 'bo', label='L2-regularized model')\n",
    "plt.xlabel('Epochs')\n",
    "plt.ylabel('Validation loss')\n",
    "plt.legend()\n",
    "\n",
    "plt.show()"
   ]
  },
  {
   "cell_type": "markdown",
   "metadata": {},
   "source": [
    "\n",
    "\n",
    "As you can see, the model with L2 regularization (dots) has become much more resistant to overfitting than the reference model (crosses), \n",
    "even though both models have the same number of parameters.\n",
    "\n",
    "As alternatives to L2 regularization, you could use one of the following Keras weight regularizers:"
   ]
  },
  {
   "cell_type": "code",
   "execution_count": 17,
   "metadata": {},
   "outputs": [
    {
     "data": {
      "text/plain": [
       "<keras.regularizers.L1L2 at 0x260e12209c8>"
      ]
     },
     "execution_count": 17,
     "metadata": {},
     "output_type": "execute_result"
    }
   ],
   "source": [
    "from keras import regularizers\n",
    "\n",
    "# L1 regularization\n",
    "regularizers.l1(0.001)\n",
    "\n",
    "# L1 and L2 regularization at the same time\n",
    "regularizers.l1_l2(l1=0.001, l2=0.001)"
   ]
  },
  {
   "cell_type": "markdown",
   "metadata": {},
   "source": [
    "## Adding dropout\n",
    "\n",
    "\n",
    "Dropout is one of the most effective and most commonly used regularization techniques for neural networks, developed by Hinton and his \n",
    "students at the University of Toronto. Dropout, applied to a layer, consists of randomly \"dropping out\" (i.e. setting to zero) a number of \n",
    "output features of the layer during training. Let's say a given layer would normally have returned a vector `[0.2, 0.5, 1.3, 0.8, 1.1]` for a \n",
    "given input sample during training; after applying dropout, this vector will have a few zero entries distributed at random, e.g. `[0, 0.5, \n",
    "1.3, 0, 1.1]`. The \"dropout rate\" is the fraction of the features that are being zeroed-out; it is usually set between 0.2 and 0.5. At test \n",
    "time, no units are dropped out, and instead the layer's output values are scaled down by a factor equal to the dropout rate, so as to \n",
    "balance for the fact that more units are active than at training time.\n",
    "\n",
    "Consider a Numpy matrix containing the output of a layer, `layer_output`, of shape `(batch_size, features)`. At training time, we would be \n",
    "zero-ing out at random a fraction of the values in the matrix:"
   ]
  },
  {
   "cell_type": "code",
   "execution_count": 18,
   "metadata": {},
   "outputs": [],
   "source": [
    "batch_size = 512\n",
    "features =  16\n",
    "layer_output = np.random.random_sample((batch_size, features))"
   ]
  },
  {
   "cell_type": "code",
   "execution_count": 19,
   "metadata": {},
   "outputs": [],
   "source": [
    "# At training time: we drop out 50% of the units in the output\n",
    "layer_output *= np.random.randint(0, high=2, size=layer_output.shape)"
   ]
  },
  {
   "cell_type": "markdown",
   "metadata": {},
   "source": [
    "\n",
    "At test time, we would be scaling the output down by the dropout rate. Here we scale by 0.5 (because we were previous dropping half the \n",
    "units):"
   ]
  },
  {
   "cell_type": "code",
   "execution_count": 20,
   "metadata": {},
   "outputs": [],
   "source": [
    "# At test time:\n",
    "layer_output *= 0.5"
   ]
  },
  {
   "cell_type": "markdown",
   "metadata": {},
   "source": [
    "\n",
    "Note that this process can be implemented by doing both operations at training time and leaving the output unchanged at test time, which is \n",
    "often the way it is implemented in practice:"
   ]
  },
  {
   "cell_type": "code",
   "execution_count": 21,
   "metadata": {},
   "outputs": [],
   "source": [
    "# At training time:\n",
    "layer_output *= np.random.randint(0, high=2, size=layer_output.shape)\n",
    "# Note that we are scaling *up* rather scaling *down* in this case\n",
    "layer_output /= 0.5"
   ]
  },
  {
   "cell_type": "markdown",
   "metadata": {},
   "source": [
    "\n",
    "This technique may seem strange and arbitrary. Why would this help reduce overfitting? Geoff Hinton has said that he was inspired, among \n",
    "other things, by a fraud prevention mechanism used by banks -- in his own words: _\"I went to my bank. The tellers kept changing and I asked \n",
    "one of them why. He said he didn’t know but they got moved around a lot. I figured it must be because it would require cooperation \n",
    "between employees to successfully defraud the bank. This made me realize that randomly removing a different subset of neurons on each \n",
    "example would prevent conspiracies and thus reduce overfitting\"_.\n",
    "\n",
    "The core idea is that introducing noise in the output values of a layer can break up happenstance patterns that are not significant (what \n",
    "Hinton refers to as \"conspiracies\"), which the network would start memorizing if no noise was present. \n",
    "\n",
    "In Keras you can introduce dropout in a network via the `Dropout` layer, which gets applied to the output of layer right before it, e.g.:"
   ]
  },
  {
   "cell_type": "code",
   "execution_count": 22,
   "metadata": {},
   "outputs": [],
   "source": [
    "# model.add(layers.Dropout(0.5))"
   ]
  },
  {
   "cell_type": "markdown",
   "metadata": {},
   "source": [
    "Let's add two `Dropout` layers in our IMDB network to see how well they do at reducing overfitting:"
   ]
  },
  {
   "cell_type": "code",
   "execution_count": 23,
   "metadata": {},
   "outputs": [],
   "source": [
    "dpt_model = models.Sequential()\n",
    "dpt_model.add(layers.Dense(16, activation='relu', input_shape=(10000,)))\n",
    "dpt_model.add(layers.Dropout(0.5))\n",
    "dpt_model.add(layers.Dense(16, activation='relu'))\n",
    "dpt_model.add(layers.Dropout(0.5))\n",
    "dpt_model.add(layers.Dense(1, activation='sigmoid'))\n",
    "\n",
    "dpt_model.compile(optimizer='rmsprop',\n",
    "                  loss='binary_crossentropy',\n",
    "                  metrics=['acc'])"
   ]
  },
  {
   "cell_type": "code",
   "execution_count": 24,
   "metadata": {},
   "outputs": [
    {
     "name": "stdout",
     "output_type": "stream",
     "text": [
      "Train on 25000 samples, validate on 25000 samples\n",
      "Epoch 1/20\n",
      "25000/25000 [==============================] - 4s 168us/step - loss: 0.5881 - acc: 0.6853 - val_loss: 0.4385 - val_acc: 0.8578\n",
      "Epoch 2/20\n",
      "25000/25000 [==============================] - 4s 147us/step - loss: 0.4338 - acc: 0.8166 - val_loss: 0.3312 - val_acc: 0.8836\n",
      "Epoch 3/20\n",
      "25000/25000 [==============================] - 4s 149us/step - loss: 0.3517 - acc: 0.8673 - val_loss: 0.2908 - val_acc: 0.8877\n",
      "Epoch 4/20\n",
      "25000/25000 [==============================] - 4s 150us/step - loss: 0.2986 - acc: 0.8932 - val_loss: 0.2801 - val_acc: 0.8894\n",
      "Epoch 5/20\n",
      "25000/25000 [==============================] - 4s 163us/step - loss: 0.2594 - acc: 0.9108 - val_loss: 0.2775 - val_acc: 0.8902\n",
      "Epoch 6/20\n",
      "25000/25000 [==============================] - 4s 155us/step - loss: 0.2303 - acc: 0.9214 - val_loss: 0.2867 - val_acc: 0.8875\n",
      "Epoch 7/20\n",
      "25000/25000 [==============================] - 4s 157us/step - loss: 0.2065 - acc: 0.9308 - val_loss: 0.3118 - val_acc: 0.8865\n",
      "Epoch 8/20\n",
      "25000/25000 [==============================] - 4s 150us/step - loss: 0.1894 - acc: 0.9352 - val_loss: 0.3367 - val_acc: 0.8838\n",
      "Epoch 9/20\n",
      "25000/25000 [==============================] - 4s 150us/step - loss: 0.1744 - acc: 0.9395 - val_loss: 0.3582 - val_acc: 0.8830\n",
      "Epoch 10/20\n",
      "25000/25000 [==============================] - 4s 150us/step - loss: 0.1648 - acc: 0.9442 - val_loss: 0.3630 - val_acc: 0.8824\n",
      "Epoch 11/20\n",
      "25000/25000 [==============================] - 4s 157us/step - loss: 0.1504 - acc: 0.9494 - val_loss: 0.4007 - val_acc: 0.8821\n",
      "Epoch 12/20\n",
      "25000/25000 [==============================] - 4s 164us/step - loss: 0.1471 - acc: 0.9503 - val_loss: 0.4101 - val_acc: 0.8806\n",
      "Epoch 13/20\n",
      "25000/25000 [==============================] - 4s 168us/step - loss: 0.1417 - acc: 0.9518 - val_loss: 0.4331 - val_acc: 0.8814\n",
      "Epoch 14/20\n",
      "25000/25000 [==============================] - 4s 164us/step - loss: 0.1343 - acc: 0.9534 - val_loss: 0.4599 - val_acc: 0.8792\n",
      "Epoch 15/20\n",
      "25000/25000 [==============================] - 4s 174us/step - loss: 0.1255 - acc: 0.9541 - val_loss: 0.4744 - val_acc: 0.8785\n",
      "Epoch 16/20\n",
      "25000/25000 [==============================] - 4s 179us/step - loss: 0.1243 - acc: 0.9559 - val_loss: 0.4800 - val_acc: 0.8756\n",
      "Epoch 17/20\n",
      "25000/25000 [==============================] - 4s 160us/step - loss: 0.1203 - acc: 0.9568 - val_loss: 0.5074 - val_acc: 0.8775\n",
      "Epoch 18/20\n",
      "25000/25000 [==============================] - 4s 166us/step - loss: 0.1160 - acc: 0.9614 - val_loss: 0.5347 - val_acc: 0.8768\n",
      "Epoch 19/20\n",
      "25000/25000 [==============================] - 4s 156us/step - loss: 0.1130 - acc: 0.9592 - val_loss: 0.5572 - val_acc: 0.8737\n",
      "Epoch 20/20\n",
      "25000/25000 [==============================] - 4s 159us/step - loss: 0.1166 - acc: 0.9585 - val_loss: 0.5693 - val_acc: 0.8747\n"
     ]
    }
   ],
   "source": [
    "dpt_model_hist = dpt_model.fit(x_train, y_train,\n",
    "                               epochs=20,\n",
    "                               batch_size=512,\n",
    "                               validation_data=(x_test, y_test))"
   ]
  },
  {
   "cell_type": "markdown",
   "metadata": {},
   "source": [
    "Let's plot the results:"
   ]
  },
  {
   "cell_type": "code",
   "execution_count": 25,
   "metadata": {},
   "outputs": [
    {
     "data": {
      "image/png": "[encoded data removed]",
      "text/plain": [
       "<Figure size 432x288 with 1 Axes>"
      ]
     },
     "metadata": {
      "needs_background": "light"
     },
     "output_type": "display_data"
    }
   ],
   "source": [
    "dpt_model_val_loss = dpt_model_hist.history['val_loss']\n",
    "\n",
    "plt.plot(epochs, original_val_loss, 'b+', label='Original model')\n",
    "plt.plot(epochs, dpt_model_val_loss, 'bo', label='Dropout-regularized model')\n",
    "plt.xlabel('Epochs')\n",
    "plt.ylabel('Validation loss')\n",
    "plt.legend()\n",
    "\n",
    "plt.show()"
   ]
  },
  {
   "cell_type": "markdown",
   "metadata": {},
   "source": [
    "\n",
    "Again, a clear improvement over the reference network.\n",
    "\n",
    "To recap: here the most common ways to prevent overfitting in neural networks:\n",
    "\n",
    "* Getting more training data.\n",
    "* Reducing the capacity of the network.\n",
    "* Adding weight regularization.\n",
    "* Adding dropout."
   ]
  },
  {
   "cell_type": "code",
   "execution_count": null,
   "metadata": {},
   "outputs": [],
   "source": []
  }
 ],
 "metadata": {
  "kernelspec": {
   "display_name": "Python 3",
   "language": "python",
   "name": "python3"
  },
  "language_info": {
   "codemirror_mode": {
    "name": "ipython",
    "version": 3
   },
   "file_extension": ".py",
   "mimetype": "text/x-python",
   "name": "python",
   "nbconvert_exporter": "python",
   "pygments_lexer": "ipython3",
   "version": "3.7.6"
  }
 },
 "nbformat": 4,
 "nbformat_minor": 2
}
