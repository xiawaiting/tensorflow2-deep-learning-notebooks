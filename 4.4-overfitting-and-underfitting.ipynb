{
 "cells": [
  {
   "cell_type": "code",
   "execution_count": 1,
   "metadata": {},
   "outputs": [
    {
     "name": "stdout",
     "output_type": "stream",
     "text": [
      "Tensorflow :  2.0.0\n",
      " |-> Keras :  2.2.4-tf\n"
     ]
    }
   ],
   "source": [
    "import tensorflow as tf\n",
    "from tensorflow import keras\n",
    "print( 'Tensorflow : ',tf.__version__)\n",
    "print( ' |-> Keras : ',keras.__version__)"
   ]
  },
  {
   "cell_type": "markdown",
   "metadata": {},
   "source": [
    "# Overfitting and underfitting\n",
    "\n",
    "This notebook contains the code samples found in Chapter 3, Section 6 of [Deep Learning with Python](https://www.manning.com/books/deep-learning-with-python?a_aid=keras&a_bid=76564dff). Note that the original text features far more content, in particular further explanations and figures: in this notebook, you will only find source code and related comments.\n",
    "\n",
    "----\n",
    "\n",
    "\n",
    "In all the examples we saw in the previous chapter -- movie review sentiment prediction, topic classification, and house price regression -- \n",
    "we could notice that the performance of our model on the held-out validation data would always peak after a few epochs and would then start \n",
    "degrading, i.e. our model would quickly start to _overfit_ to the training data. Overfitting happens in every single machine learning \n",
    "problem. Learning how to deal with overfitting is essential to mastering machine learning.\n",
    "\n",
    "The fundamental issue in machine learning is the tension between optimization and generalization. \"Optimization\" refers to the process of \n",
    "adjusting a model to get the best performance possible on the training data (the \"learning\" in \"machine learning\"), while \"generalization\" \n",
    "refers to how well the trained model would perform on data it has never seen before. The goal of the game is to get good generalization, of \n",
    "course, but you do not control generalization; you can only adjust the model based on its training data.\n",
    "\n",
    "At the beginning of training, optimization and generalization are correlated: the lower your loss on training data, the lower your loss on \n",
    "test data. While this is happening, your model is said to be _under-fit_: there is still progress to be made; the network hasn't yet \n",
    "modeled all relevant patterns in the training data. But after a certain number of iterations on the training data, generalization stops \n",
    "improving, validation metrics stall then start degrading: the model is then starting to over-fit, i.e. is it starting to learn patterns \n",
    "that are specific to the training data but that are misleading or irrelevant when it comes to new data.\n",
    "\n",
    "To prevent a model from learning misleading or irrelevant patterns found in the training data, _the best solution is of course to get \n",
    "more training data_. A model trained on more data will naturally generalize better. When that is no longer possible, the next best solution \n",
    "is to modulate the quantity of information that your model is allowed to store, or to add constraints on what information it is allowed to \n",
    "store. If a network can only afford to memorize a small number of patterns, the optimization process will force it to focus on the most \n",
    "prominent patterns, which have a better chance of generalizing well.\n",
    "\n",
    "The processing of fighting overfitting in this way is called _regularization_. Let's review some of the most common regularization \n",
    "techniques, and let's apply them in practice to improve our movie classification model from  the previous chapter."
   ]
  },
  {
   "cell_type": "markdown",
   "metadata": {},
   "source": [
    "Note: in this notebook we will be using the IMDB test set as our validation set. It doesn't matter in this context.\n",
    "\n",
    "Let's prepare the data using the code from Chapter 3, Section 5:"
   ]
  },
  {
   "cell_type": "code",
   "execution_count": 2,
   "metadata": {},
   "outputs": [
    {
     "name": "stderr",
     "output_type": "stream",
     "text": [
      "Using TensorFlow backend.\n"
     ]
    }
   ],
   "source": [
    "from keras.datasets import imdb\n",
    "import numpy as np\n",
    "\n",
    "(train_data, train_labels), (test_data, test_labels) = imdb.load_data(num_words=10000)\n",
    "\n",
    "def vectorize_sequences(sequences, dimension=10000):\n",
    "    # Create an all-zero matrix of shape (len(sequences), dimension)\n",
    "    results = np.zeros((len(sequences), dimension))\n",
    "    for i, sequence in enumerate(sequences):\n",
    "        results[i, sequence] = 1.  # set specific indices of results[i] to 1s\n",
    "    return results\n",
    "\n",
    "# Our vectorized training data\n",
    "x_train = vectorize_sequences(train_data)\n",
    "# Our vectorized test data\n",
    "x_test = vectorize_sequences(test_data)\n",
    "# Our vectorized labels\n",
    "y_train = np.asarray(train_labels).astype('float32')\n",
    "y_test = np.asarray(test_labels).astype('float32')"
   ]
  },
  {
   "cell_type": "markdown",
   "metadata": {},
   "source": [
    "# Fighting overfitting\n",
    "\n",
    "## Reducing the network's size\n",
    "\n",
    "\n",
    "The simplest way to prevent overfitting is to reduce the size of the model, i.e. the number of learnable parameters in the model (which is \n",
    "determined by the number of layers and the number of units per layer). In deep learning, the number of learnable parameters in a model is \n",
    "often referred to as the model's \"capacity\". Intuitively, a model with more parameters will have more \"memorization capacity\" and therefore \n",
    "will be able to easily learn a perfect dictionary-like mapping between training samples and their targets, a mapping without any \n",
    "generalization power. For instance, a model with 500,000 binary parameters could easily be made to learn the class of every digits in the \n",
    "MNIST training set: we would only need 10 binary parameters for each of the 50,000 digits. Such a model would be useless for classifying \n",
    "new digit samples. Always keep this in mind: deep learning models tend to be good at fitting to the training data, but the real challenge \n",
    "is generalization, not fitting.\n",
    "\n",
    "On the other hand, if the network has limited memorization resources, it will not be able to learn this mapping as easily, and thus, in \n",
    "order to minimize its loss, it will have to resort to learning compressed representations that have predictive power regarding the targets \n",
    "-- precisely the type of representations that we are interested in. At the same time, keep in mind that you should be using models that have \n",
    "enough parameters that they won't be underfitting: your model shouldn't be starved for memorization resources. There is a compromise to be \n",
    "found between \"too much capacity\" and \"not enough capacity\".\n",
    "\n",
    "Unfortunately, there is no magical formula to determine what the right number of layers is, or what the right size for each layer is. You \n",
    "will have to evaluate an array of different architectures (on your validation set, not on your test set, of course) in order to find the \n",
    "right model size for your data. The general workflow to find an appropriate model size is to start with relatively few layers and \n",
    "parameters, and start increasing the size of the layers or adding new layers until you see diminishing returns with regard to the \n",
    "validation loss.\n",
    "\n",
    "Let's try this on our movie review classification network. Our original network was as such:"
   ]
  },
  {
   "cell_type": "code",
   "execution_count": 3,
   "metadata": {},
   "outputs": [],
   "source": [
    "from keras import models\n",
    "from keras import layers\n",
    "\n",
    "original_model = models.Sequential()\n",
    "original_model.add(layers.Dense(16, activation='relu', input_shape=(10000,)))\n",
    "original_model.add(layers.Dense(16, activation='relu'))\n",
    "original_model.add(layers.Dense(1, activation='sigmoid'))\n",
    "\n",
    "original_model.compile(optimizer='rmsprop',\n",
    "                       loss='binary_crossentropy',\n",
    "                       metrics=['acc'])"
   ]
  },
  {
   "cell_type": "markdown",
   "metadata": {},
   "source": [
    "Now let's try to replace it with this smaller network:"
   ]
  },
  {
   "cell_type": "code",
   "execution_count": 4,
   "metadata": {},
   "outputs": [],
   "source": [
    "smaller_model = models.Sequential()\n",
    "smaller_model.add(layers.Dense(4, activation='relu', input_shape=(10000,)))\n",
    "smaller_model.add(layers.Dense(4, activation='relu'))\n",
    "smaller_model.add(layers.Dense(1, activation='sigmoid'))\n",
    "\n",
    "smaller_model.compile(optimizer='rmsprop',\n",
    "                      loss='binary_crossentropy',\n",
    "                      metrics=['acc'])"
   ]
  },
  {
   "cell_type": "markdown",
   "metadata": {},
   "source": [
    "\n",
    "Here's a comparison of the validation losses of the original network and the smaller network. The dots are the validation loss values of \n",
    "the smaller network, and the crosses are the initial network (remember: a lower validation loss signals a better model)."
   ]
  },
  {
   "cell_type": "code",
   "execution_count": 5,
   "metadata": {},
   "outputs": [
    {
     "name": "stdout",
     "output_type": "stream",
     "text": [
      "Train on 25000 samples, validate on 25000 samples\n",
      "Epoch 1/20\n",
      "25000/25000 [==============================] - 4s 177us/step - loss: 0.4612 - acc: 0.8193 - val_loss: 0.3579 - val_acc: 0.8612\n",
      "Epoch 2/20\n",
      "25000/25000 [==============================] - 4s 150us/step - loss: 0.2639 - acc: 0.9074 - val_loss: 0.2946 - val_acc: 0.8830\n",
      "Epoch 3/20\n",
      "25000/25000 [==============================] - 4s 150us/step - loss: 0.2027 - acc: 0.9276 - val_loss: 0.2801 - val_acc: 0.8890\n",
      "Epoch 4/20\n",
      "25000/25000 [==============================] - 4s 150us/step - loss: 0.1696 - acc: 0.9395 - val_loss: 0.2936 - val_acc: 0.8835\n",
      "Epoch 5/20\n",
      "25000/25000 [==============================] - 4s 158us/step - loss: 0.1462 - acc: 0.9480 - val_loss: 0.3066 - val_acc: 0.8806\n",
      "Epoch 6/20\n",
      "25000/25000 [==============================] - 4s 158us/step - loss: 0.1261 - acc: 0.9558 - val_loss: 0.3705 - val_acc: 0.8669\n",
      "Epoch 7/20\n",
      "25000/25000 [==============================] - 4s 160us/step - loss: 0.1108 - acc: 0.9622 - val_loss: 0.3722 - val_acc: 0.8697\n",
      "Epoch 8/20\n",
      "25000/25000 [==============================] - 4s 164us/step - loss: 0.0993 - acc: 0.9669 - val_loss: 0.3738 - val_acc: 0.8704\n",
      "Epoch 9/20\n",
      "25000/25000 [==============================] - 4s 148us/step - loss: 0.0840 - acc: 0.9729 - val_loss: 0.4048 - val_acc: 0.8690\n",
      "Epoch 10/20\n",
      "25000/25000 [==============================] - 4s 163us/step - loss: 0.0758 - acc: 0.9758 - val_loss: 0.4367 - val_acc: 0.8632\n",
      "Epoch 11/20\n",
      "25000/25000 [==============================] - 4s 163us/step - loss: 0.0645 - acc: 0.9799 - val_loss: 0.4684 - val_acc: 0.8599\n",
      "Epoch 12/20\n",
      "25000/25000 [==============================] - 4s 153us/step - loss: 0.0562 - acc: 0.9834 - val_loss: 0.5197 - val_acc: 0.8534\n",
      "Epoch 13/20\n",
      "25000/25000 [==============================] - 4s 155us/step - loss: 0.0479 - acc: 0.9861 - val_loss: 0.5409 - val_acc: 0.8538\n",
      "Epoch 14/20\n",
      "25000/25000 [==============================] - 4s 151us/step - loss: 0.0427 - acc: 0.9876 - val_loss: 0.5708 - val_acc: 0.8545\n",
      "Epoch 15/20\n",
      "25000/25000 [==============================] - 4s 155us/step - loss: 0.0350 - acc: 0.9909 - val_loss: 0.6020 - val_acc: 0.8563\n",
      "Epoch 16/20\n",
      "25000/25000 [==============================] - 4s 149us/step - loss: 0.0308 - acc: 0.9914 - val_loss: 0.6416 - val_acc: 0.8526\n",
      "Epoch 17/20\n",
      "25000/25000 [==============================] - 4s 149us/step - loss: 0.0238 - acc: 0.9940 - val_loss: 0.6783 - val_acc: 0.8519\n",
      "Epoch 18/20\n",
      "25000/25000 [==============================] - 4s 154us/step - loss: 0.0212 - acc: 0.9950 - val_loss: 0.7204 - val_acc: 0.8510\n",
      "Epoch 19/20\n",
      "25000/25000 [==============================] - 4s 152us/step - loss: 0.0177 - acc: 0.9957 - val_loss: 0.7566 - val_acc: 0.8512\n",
      "Epoch 20/20\n",
      "25000/25000 [==============================] - 4s 168us/step - loss: 0.0128 - acc: 0.9974 - val_loss: 0.8030 - val_acc: 0.8508\n"
     ]
    }
   ],
   "source": [
    "original_hist = original_model.fit(x_train, y_train,\n",
    "                                   epochs=20,\n",
    "                                   batch_size=512,\n",
    "                                   validation_data=(x_test, y_test))"
   ]
  },
  {
   "cell_type": "code",
   "execution_count": 6,
   "metadata": {},
   "outputs": [
    {
     "name": "stdout",
     "output_type": "stream",
     "text": [
      "Train on 25000 samples, validate on 25000 samples\n",
      "Epoch 1/20\n",
      "25000/25000 [==============================] - 4s 162us/step - loss: 0.5685 - acc: 0.8077 - val_loss: 0.4828 - val_acc: 0.8568\n",
      "Epoch 2/20\n",
      "25000/25000 [==============================] - 4s 154us/step - loss: 0.3994 - acc: 0.8864 - val_loss: 0.3738 - val_acc: 0.8777\n",
      "Epoch 3/20\n",
      "25000/25000 [==============================] - 4s 152us/step - loss: 0.3035 - acc: 0.9064 - val_loss: 0.3181 - val_acc: 0.8862\n",
      "Epoch 4/20\n",
      "25000/25000 [==============================] - 4s 154us/step - loss: 0.2463 - acc: 0.9218 - val_loss: 0.2942 - val_acc: 0.8866\n",
      "Epoch 5/20\n",
      "25000/25000 [==============================] - 4s 151us/step - loss: 0.2094 - acc: 0.9300 - val_loss: 0.2812 - val_acc: 0.8893\n",
      "Epoch 6/20\n",
      "25000/25000 [==============================] - 4s 149us/step - loss: 0.1847 - acc: 0.9378 - val_loss: 0.2810 - val_acc: 0.8880\n",
      "Epoch 7/20\n",
      "25000/25000 [==============================] - 4s 150us/step - loss: 0.1660 - acc: 0.9440 - val_loss: 0.2815 - val_acc: 0.8876\n",
      "Epoch 8/20\n",
      "25000/25000 [==============================] - 4s 149us/step - loss: 0.1512 - acc: 0.9492 - val_loss: 0.2890 - val_acc: 0.8854\n",
      "Epoch 9/20\n",
      "25000/25000 [==============================] - 4s 152us/step - loss: 0.1383 - acc: 0.9540 - val_loss: 0.3093 - val_acc: 0.8799\n",
      "Epoch 10/20\n",
      "25000/25000 [==============================] - 4s 154us/step - loss: 0.1272 - acc: 0.9584 - val_loss: 0.3110 - val_acc: 0.8797\n",
      "Epoch 11/20\n",
      "25000/25000 [==============================] - 4s 171us/step - loss: 0.1173 - acc: 0.9621 - val_loss: 0.3217 - val_acc: 0.8781\n",
      "Epoch 12/20\n",
      "25000/25000 [==============================] - 4s 151us/step - loss: 0.1082 - acc: 0.9658 - val_loss: 0.3479 - val_acc: 0.8725\n",
      "Epoch 13/20\n",
      "25000/25000 [==============================] - 4s 148us/step - loss: 0.1006 - acc: 0.9682 - val_loss: 0.3492 - val_acc: 0.8744\n",
      "Epoch 14/20\n",
      "25000/25000 [==============================] - 4s 148us/step - loss: 0.0931 - acc: 0.9709 - val_loss: 0.3656 - val_acc: 0.8730\n",
      "Epoch 15/20\n",
      "25000/25000 [==============================] - 4s 149us/step - loss: 0.0870 - acc: 0.9727 - val_loss: 0.3875 - val_acc: 0.8675\n",
      "Epoch 16/20\n",
      "25000/25000 [==============================] - 4s 149us/step - loss: 0.0800 - acc: 0.9757 - val_loss: 0.3982 - val_acc: 0.8691\n",
      "Epoch 17/20\n",
      "25000/25000 [==============================] - 4s 149us/step - loss: 0.0744 - acc: 0.9784 - val_loss: 0.4325 - val_acc: 0.8633\n",
      "Epoch 18/20\n",
      "25000/25000 [==============================] - 4s 152us/step - loss: 0.0692 - acc: 0.9791 - val_loss: 0.4305 - val_acc: 0.8657\n",
      "Epoch 19/20\n",
      "25000/25000 [==============================] - 4s 149us/step - loss: 0.0640 - acc: 0.9815 - val_loss: 0.4523 - val_acc: 0.8618\n",
      "Epoch 20/20\n",
      "25000/25000 [==============================] - 4s 148us/step - loss: 0.0588 - acc: 0.9833 - val_loss: 0.4698 - val_acc: 0.8627\n"
     ]
    }
   ],
   "source": [
    "smaller_model_hist = smaller_model.fit(x_train, y_train,\n",
    "                                       epochs=20,\n",
    "                                       batch_size=512,\n",
    "                                       validation_data=(x_test, y_test))"
   ]
  },
  {
   "cell_type": "code",
   "execution_count": 7,
   "metadata": {},
   "outputs": [],
   "source": [
    "epochs = range(1, 21)\n",
    "original_val_loss = original_hist.history['val_loss']\n",
    "smaller_model_val_loss = smaller_model_hist.history['val_loss']"
   ]
  },
  {
   "cell_type": "code",
   "execution_count": 8,
   "metadata": {},
   "outputs": [
    {
     "data": {
      "image/png": "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\n",
      "text/plain": [
       "<Figure size 432x288 with 1 Axes>"
      ]
     },
     "metadata": {
      "needs_background": "light"
     },
     "output_type": "display_data"
    }
   ],
   "source": [
    "import matplotlib.pyplot as plt\n",
    "\n",
    "# b+ is for \"blue cross\"\n",
    "plt.plot(epochs, original_val_loss, 'b+', label='Original model')\n",
    "# \"bo\" is for \"blue dot\"\n",
    "plt.plot(epochs, smaller_model_val_loss, 'bo', label='Smaller model')\n",
    "plt.xlabel('Epochs')\n",
    "plt.ylabel('Validation loss')\n",
    "plt.legend()\n",
    "\n",
    "plt.show()"
   ]
  },
  {
   "cell_type": "markdown",
   "metadata": {},
   "source": [
    "\n",
    "As you can see, the smaller network starts overfitting later than the reference one (after 6 epochs rather than 4) and its performance \n",
    "degrades much more slowly once it starts overfitting.\n",
    "\n",
    "Now, for kicks, let's add to this benchmark a network that has much more capacity, far more than the problem would warrant:"
   ]
  },
  {
   "cell_type": "code",
   "execution_count": 9,
   "metadata": {},
   "outputs": [],
   "source": [
    "bigger_model = models.Sequential()\n",
    "bigger_model.add(layers.Dense(512, activation='relu', input_shape=(10000,)))\n",
    "bigger_model.add(layers.Dense(512, activation='relu'))\n",
    "bigger_model.add(layers.Dense(1, activation='sigmoid'))\n",
    "\n",
    "bigger_model.compile(optimizer='rmsprop',\n",
    "                     loss='binary_crossentropy',\n",
    "                     metrics=['acc'])"
   ]
  },
  {
   "cell_type": "code",
   "execution_count": 10,
   "metadata": {},
   "outputs": [
    {
     "name": "stdout",
     "output_type": "stream",
     "text": [
      "Train on 25000 samples, validate on 25000 samples\n",
      "Epoch 1/20\n",
      "25000/25000 [==============================] - 5s 196us/step - loss: 0.4619 - acc: 0.8020 - val_loss: 0.3206 - val_acc: 0.8654\n",
      "Epoch 2/20\n",
      "25000/25000 [==============================] - 5s 182us/step - loss: 0.2158 - acc: 0.9138 - val_loss: 0.5072 - val_acc: 0.7928\n",
      "Epoch 3/20\n",
      "25000/25000 [==============================] - 5s 191us/step - loss: 0.1273 - acc: 0.9532 - val_loss: 0.3568 - val_acc: 0.8825\n",
      "Epoch 4/20\n",
      "25000/25000 [==============================] - 5s 194us/step - loss: 0.0710 - acc: 0.9811 - val_loss: 0.5847 - val_acc: 0.8499\n",
      "Epoch 5/20\n",
      "25000/25000 [==============================] - 5s 184us/step - loss: 0.0703 - acc: 0.9867 - val_loss: 0.5014 - val_acc: 0.8808\n",
      "Epoch 6/20\n",
      "25000/25000 [==============================] - 5s 184us/step - loss: 0.0022 - acc: 0.9998 - val_loss: 0.7573 - val_acc: 0.8792\n",
      "Epoch 7/20\n",
      "25000/25000 [==============================] - 5s 189us/step - loss: 0.1526 - acc: 0.9884 - val_loss: 0.5973 - val_acc: 0.8766\n",
      "Epoch 8/20\n",
      "25000/25000 [==============================] - 5s 186us/step - loss: 4.5174e-04 - acc: 1.0000 - val_loss: 0.7800 - val_acc: 0.8783\n",
      "Epoch 9/20\n",
      "25000/25000 [==============================] - 5s 185us/step - loss: 6.5493e-05 - acc: 1.0000 - val_loss: 0.9560 - val_acc: 0.8784\n",
      "Epoch 10/20\n",
      "25000/25000 [==============================] - 5s 190us/step - loss: 0.1610 - acc: 0.9893 - val_loss: 0.8217 - val_acc: 0.8632\n",
      "Epoch 11/20\n",
      "25000/25000 [==============================] - 5s 192us/step - loss: 1.3739e-04 - acc: 1.0000 - val_loss: 0.8471 - val_acc: 0.8744\n",
      "Epoch 12/20\n",
      "25000/25000 [==============================] - 5s 185us/step - loss: 1.8979e-05 - acc: 1.0000 - val_loss: 0.9247 - val_acc: 0.8755\n",
      "Epoch 13/20\n",
      "25000/25000 [==============================] - 5s 184us/step - loss: 5.0410e-06 - acc: 1.0000 - val_loss: 1.0771 - val_acc: 0.8764\n",
      "Epoch 14/20\n",
      "25000/25000 [==============================] - 5s 189us/step - loss: 9.6674e-07 - acc: 1.0000 - val_loss: 1.2187 - val_acc: 0.8754\n",
      "Epoch 15/20\n",
      "25000/25000 [==============================] - 5s 194us/step - loss: 1.9466e-07 - acc: 1.0000 - val_loss: 1.3664 - val_acc: 0.8756\n",
      "Epoch 16/20\n",
      "25000/25000 [==============================] - 5s 195us/step - loss: 5.0694e-08 - acc: 1.0000 - val_loss: 1.4614 - val_acc: 0.8757\n",
      "Epoch 17/20\n",
      "25000/25000 [==============================] - 5s 192us/step - loss: 2.1714e-08 - acc: 1.0000 - val_loss: 1.5120 - val_acc: 0.8756\n",
      "Epoch 18/20\n",
      "25000/25000 [==============================] - 5s 199us/step - loss: 1.3539e-08 - acc: 1.0000 - val_loss: 1.5443 - val_acc: 0.8757\n",
      "Epoch 19/20\n",
      "25000/25000 [==============================] - 5s 188us/step - loss: 9.8249e-09 - acc: 1.0000 - val_loss: 1.5684 - val_acc: 0.8756\n",
      "Epoch 20/20\n",
      "25000/25000 [==============================] - 5s 190us/step - loss: 7.7432e-09 - acc: 1.0000 - val_loss: 1.5855 - val_acc: 0.8757\n"
     ]
    }
   ],
   "source": [
    "bigger_model_hist = bigger_model.fit(x_train, y_train,\n",
    "                                     epochs=20,\n",
    "                                     batch_size=512,\n",
    "                                     validation_data=(x_test, y_test))"
   ]
  },
  {
   "cell_type": "markdown",
   "metadata": {},
   "source": [
    "Here's how the bigger network fares compared to the reference one. The dots are the validation loss values of the bigger network, and the \n",
    "crosses are the initial network."
   ]
  },
  {
   "cell_type": "code",
   "execution_count": 11,
   "metadata": {},
   "outputs": [
    {
     "data": {
      "image/png": "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