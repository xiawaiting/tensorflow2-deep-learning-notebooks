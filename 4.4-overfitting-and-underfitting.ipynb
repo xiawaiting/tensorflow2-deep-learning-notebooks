{
 "cells": [
  {
   "cell_type": "code",
   "execution_count": 1,
   "metadata": {},
   "outputs": [
    {
     "name": "stdout",
     "output_type": "stream",
     "text": [
      "Tensorflow :  2.0.0\n",
      " |-> Keras :  2.2.4-tf\n"
     ]
    }
   ],
   "source": [
    "import tensorflow as tf\n",
    "from tensorflow import keras\n",
    "print( 'Tensorflow : ',tf.__version__)\n",
    "print( ' |-> Keras : ',keras.__version__)"
   ]
  },
  {
   "cell_type": "markdown",
   "metadata": {},
   "source": [
    "# Overfitting and underfitting\n",
    "\n",
    "This notebook contains the code samples found in Chapter 3, Section 6 of [Deep Learning with Python](https://www.manning.com/books/deep-learning-with-python?a_aid=keras&a_bid=76564dff). Note that the original text features far more content, in particular further explanations and figures: in this notebook, you will only find source code and related comments.\n",
    "\n",
    "----\n",
    "\n",
    "\n",
    "In all the examples we saw in the previous chapter -- movie review sentiment prediction, topic classification, and house price regression -- \n",
    "we could notice that the performance of our model on the held-out validation data would always peak after a few epochs and would then start \n",
    "degrading, i.e. our model would quickly start to _overfit_ to the training data. Overfitting happens in every single machine learning \n",
    "problem. Learning how to deal with overfitting is essential to mastering machine learning.\n",
    "\n",
    "The fundamental issue in machine learning is the tension between optimization and generalization. \"Optimization\" refers to the process of \n",
    "adjusting a model to get the best performance possible on the training data (the \"learning\" in \"machine learning\"), while \"generalization\" \n",
    "refers to how well the trained model would perform on data it has never seen before. The goal of the game is to get good generalization, of \n",
    "course, but you do not control generalization; you can only adjust the model based on its training data.\n",
    "\n",
    "At the beginning of training, optimization and generalization are correlated: the lower your loss on training data, the lower your loss on \n",
    "test data. While this is happening, your model is said to be _under-fit_: there is still progress to be made; the network hasn't yet \n",
    "modeled all relevant patterns in the training data. But after a certain number of iterations on the training data, generalization stops \n",
    "improving, validation metrics stall then start degrading: the model is then starting to over-fit, i.e. is it starting to learn patterns \n",
    "that are specific to the training data but that are misleading or irrelevant when it comes to new data.\n",
    "\n",
    "To prevent a model from learning misleading or irrelevant patterns found in the training data, _the best solution is of course to get \n",
    "more training data_. A model trained on more data will naturally generalize better. When that is no longer possible, the next best solution \n",
    "is to modulate the quantity of information that your model is allowed to store, or to add constraints on what information it is allowed to \n",
    "store. If a network can only afford to memorize a small number of patterns, the optimization process will force it to focus on the most \n",
    "prominent patterns, which have a better chance of generalizing well.\n",
    "\n",
    "The processing of fighting overfitting in this way is called _regularization_. Let's review some of the most common regularization \n",
    "techniques, and let's apply them in practice to improve our movie classification model from  the previous chapter."
   ]
  },
  {
   "cell_type": "markdown",
   "metadata": {},
   "source": [
    "Note: in this notebook we will be using the IMDB test set as our validation set. It doesn't matter in this context.\n",
    "\n",
    "Let's prepare the data using the code from Chapter 3, Section 5:"
   ]
  },
  {
   "cell_type": "code",
   "execution_count": 2,
   "metadata": {},
   "outputs": [
    {
     "name": "stderr",
     "output_type": "stream",
     "text": [
      "Using TensorFlow backend.\n"
     ]
    }
   ],
   "source": [
    "from keras.datasets import imdb\n",
    "import numpy as np\n",
    "\n",
    "(train_data, train_labels), (test_data, test_labels) = imdb.load_data(num_words=10000)\n",
    "\n",
    "def vectorize_sequences(sequences, dimension=10000):\n",
    "    # Create an all-zero matrix of shape (len(sequences), dimension)\n",
    "    results = np.zeros((len(sequences), dimension))\n",
    "    for i, sequence in enumerate(sequences):\n",
    "        results[i, sequence] = 1.  # set specific indices of results[i] to 1s\n",
    "    return results\n",
    "\n",
    "# Our vectorized training data\n",
    "x_train = vectorize_sequences(train_data)\n",
    "# Our vectorized test data\n",
    "x_test = vectorize_sequences(test_data)\n",
    "# Our vectorized labels\n",
    "y_train = np.asarray(train_labels).astype('float32')\n",
    "y_test = np.asarray(test_labels).astype('float32')"
   ]
  },
  {
   "cell_type": "markdown",
   "metadata": {},
   "source": [
    "# Fighting overfitting\n",
    "\n",
    "## Reducing the network's size\n",
    "\n",
    "\n",
    "The simplest way to prevent overfitting is to reduce the size of the model, i.e. the number of learnable parameters in the model (which is \n",
    "determined by the number of layers and the number of units per layer). In deep learning, the number of learnable parameters in a model is \n",
    "often referred to as the model's \"capacity\". Intuitively, a model with more parameters will have more \"memorization capacity\" and therefore \n",
    "will be able to easily learn a perfect dictionary-like mapping between training samples and their targets, a mapping without any \n",
    "generalization power. For instance, a model with 500,000 binary parameters could easily be made to learn the class of every digits in the \n",
    "MNIST training set: we would only need 10 binary parameters for each of the 50,000 digits. Such a model would be useless for classifying \n",
    "new digit samples. Always keep this in mind: deep learning models tend to be good at fitting to the training data, but the real challenge \n",
    "is generalization, not fitting.\n",
    "\n",
    "On the other hand, if the network has limited memorization resources, it will not be able to learn this mapping as easily, and thus, in \n",
    "order to minimize its loss, it will have to resort to learning compressed representations that have predictive power regarding the targets \n",
    "-- precisely the type of representations that we are interested in. At the same time, keep in mind that you should be using models that have \n",
    "enough parameters that they won't be underfitting: your model shouldn't be starved for memorization resources. There is a compromise to be \n",
    "found between \"too much capacity\" and \"not enough capacity\".\n",
    "\n",
    "Unfortunately, there is no magical formula to determine what the right number of layers is, or what the right size for each layer is. You \n",
    "will have to evaluate an array of different architectures (on your validation set, not on your test set, of course) in order to find the \n",
    "right model size for your data. The general workflow to find an appropriate model size is to start with relatively few layers and \n",
    "parameters, and start increasing the size of the layers or adding new layers until you see diminishing returns with regard to the \n",
    "validation loss.\n",
    "\n",
    "Let's try this on our movie review classification network. Our original network was as such:"
   ]
  },
  {
   "cell_type": "code",
   "execution_count": 3,
   "metadata": {},
   "outputs": [],
   "source": [
    "from keras import models\n",
    "from keras import layers\n",
    "\n",
    "original_model = models.Sequential()\n",
    "original_model.add(layers.Dense(16, activation='relu', input_shape=(10000,)))\n",
    "original_model.add(layers.Dense(16, activation='relu'))\n",
    "original_model.add(layers.Dense(1, activation='sigmoid'))\n",
    "\n",
    "original_model.compile(optimizer='rmsprop',\n",
    "                       loss='binary_crossentropy',\n",
    "                       metrics=['acc'])"
   ]
  },
  {
   "cell_type": "markdown",
   "metadata": {},
   "source": [
    "Now let's try to replace it with this smaller network:"
   ]
  },
  {
   "cell_type": "code",
   "execution_count": 4,
   "metadata": {},
   "outputs": [],
   "source": [
    "smaller_model = models.Sequential()\n",
    "smaller_model.add(layers.Dense(4, activation='relu', input_shape=(10000,)))\n",
    "smaller_model.add(layers.Dense(4, activation='relu'))\n",
    "smaller_model.add(layers.Dense(1, activation='sigmoid'))\n",
    "\n",
    "smaller_model.compile(optimizer='rmsprop',\n",
    "                      loss='binary_crossentropy',\n",
    "                      metrics=['acc'])"
   ]
  },
  {
   "cell_type": "markdown",
   "metadata": {},
   "source": [
    "\n",
    "Here's a comparison of the validation losses of the original network and the smaller network. The dots are the validation loss values of \n",
    "the smaller network, and the crosses are the initial network (remember: a lower validation loss signals a better model)."
   ]
  },
  {
   "cell_type": "code",
   "execution_count": 5,
   "metadata": {},
   "outputs": [
    {
     "name": "stdout",
     "output_type": "stream",
     "text": [
      "Train on 25000 samples, validate on 25000 samples\n",
      "Epoch 1/20\n",
      "25000/25000 [==============================] - 4s 177us/step - loss: 0.4612 - acc: 0.8193 - val_loss: 0.3579 - val_acc: 0.8612\n",
      "Epoch 2/20\n",
      "25000/25000 [==============================] - 4s 150us/step - loss: 0.2639 - acc: 0.9074 - val_loss: 0.2946 - val_acc: 0.8830\n",
      "Epoch 3/20\n",
      "25000/25000 [==============================] - 4s 150us/step - loss: 0.2027 - acc: 0.9276 - val_loss: 0.2801 - val_acc: 0.8890\n",
      "Epoch 4/20\n",
      "25000/25000 [==============================] - 4s 150us/step - loss: 0.1696 - acc: 0.9395 - val_loss: 0.2936 - val_acc: 0.8835\n",
      "Epoch 5/20\n",
      "25000/25000 [==============================] - 4s 158us/step - loss: 0.1462 - acc: 0.9480 - val_loss: 0.3066 - val_acc: 0.8806\n",
      "Epoch 6/20\n",
      "25000/25000 [==============================] - 4s 158us/step - loss: 0.1261 - acc: 0.9558 - val_loss: 0.3705 - val_acc: 0.8669\n",
      "Epoch 7/20\n",
      "25000/25000 [==============================] - 4s 160us/step - loss: 0.1108 - acc: 0.9622 - val_loss: 0.3722 - val_acc: 0.8697\n",
      "Epoch 8/20\n",
      "25000/25000 [==============================] - 4s 164us/step - loss: 0.0993 - acc: 0.9669 - val_loss: 0.3738 - val_acc: 0.8704\n",
      "Epoch 9/20\n",
      "25000/25000 [==============================] - 4s 148us/step - loss: 0.0840 - acc: 0.9729 - val_loss: 0.4048 - val_acc: 0.8690\n",
      "Epoch 10/20\n",
      "25000/25000 [==============================] - 4s 163us/step - loss: 0.0758 - acc: 0.9758 - val_loss: 0.4367 - val_acc: 0.8632\n",
      "Epoch 11/20\n",
      "25000/25000 [==============================] - 4s 163us/step - loss: 0.0645 - acc: 0.9799 - val_loss: 0.4684 - val_acc: 0.8599\n",
      "Epoch 12/20\n",
      "25000/25000 [==============================] - 4s 153us/step - loss: 0.0562 - acc: 0.9834 - val_loss: 0.5197 - val_acc: 0.8534\n",
      "Epoch 13/20\n",
      "25000/25000 [==============================] - 4s 155us/step - loss: 0.0479 - acc: 0.9861 - val_loss: 0.5409 - val_acc: 0.8538\n",
      "Epoch 14/20\n",
      "25000/25000 [==============================] - 4s 151us/step - loss: 0.0427 - acc: 0.9876 - val_loss: 0.5708 - val_acc: 0.8545\n",
      "Epoch 15/20\n",
      "25000/25000 [==============================] - 4s 155us/step - loss: 0.0350 - acc: 0.9909 - val_loss: 0.6020 - val_acc: 0.8563\n",
      "Epoch 16/20\n",
      "25000/25000 [==============================] - 4s 149us/step - loss: 0.0308 - acc: 0.9914 - val_loss: 0.6416 - val_acc: 0.8526\n",
      "Epoch 17/20\n",
      "25000/25000 [==============================] - 4s 149us/step - loss: 0.0238 - acc: 0.9940 - val_loss: 0.6783 - val_acc: 0.8519\n",
      "Epoch 18/20\n",
      "25000/25000 [==============================] - 4s 154us/step - loss: 0.0212 - acc: 0.9950 - val_loss: 0.7204 - val_acc: 0.8510\n",
      "Epoch 19/20\n",
      "25000/25000 [==============================] - 4s 152us/step - loss: 0.0177 - acc: 0.9957 - val_loss: 0.7566 - val_acc: 0.8512\n",
      "Epoch 20/20\n",
      "25000/25000 [==============================] - 4s 168us/step - loss: 0.0128 - acc: 0.9974 - val_loss: 0.8030 - val_acc: 0.8508\n"
     ]
    }
   ],
   "source": [
    "original_hist = original_model.fit(x_train, y_train,\n",
    "                                   epochs=20,\n",
    "                                   batch_size=512,\n",
    "                                   validation_data=(x_test, y_test))"
   ]
  },
  {
   "cell_type": "code",
   "execution_count": 6,
   "metadata": {},
   "outputs": [
    {
     "name": "stdout",
     "output_type": "stream",
     "text": [
      "Train on 25000 samples, validate on 25000 samples\n",
      "Epoch 1/20\n",
      "25000/25000 [==============================] - 4s 162us/step - loss: 0.5685 - acc: 0.8077 - val_loss: 0.4828 - val_acc: 0.8568\n",
      "Epoch 2/20\n",
      "25000/25000 [==============================] - 4s 154us/step - loss: 0.3994 - acc: 0.8864 - val_loss: 0.3738 - val_acc: 0.8777\n",
      "Epoch 3/20\n",
      "25000/25000 [==============================] - 4s 152us/step - loss: 0.3035 - acc: 0.9064 - val_loss: 0.3181 - val_acc: 0.8862\n",
      "Epoch 4/20\n",
      "25000/25000 [==============================] - 4s 154us/step - loss: 0.2463 - acc: 0.9218 - val_loss: 0.2942 - val_acc: 0.8866\n",
      "Epoch 5/20\n",
      "25000/25000 [==============================] - 4s 151us/step - loss: 0.2094 - acc: 0.9300 - val_loss: 0.2812 - val_acc: 0.8893\n",
      "Epoch 6/20\n",
      "25000/25000 [==============================] - 4s 149us/step - loss: 0.1847 - acc: 0.9378 - val_loss: 0.2810 - val_acc: 0.8880\n",
      "Epoch 7/20\n",
      "25000/25000 [==============================] - 4s 150us/step - loss: 0.1660 - acc: 0.9440 - val_loss: 0.2815 - val_acc: 0.8876\n",
      "Epoch 8/20\n",
      "25000/25000 [==============================] - 4s 149us/step - loss: 0.1512 - acc: 0.9492 - val_loss: 0.2890 - val_acc: 0.8854\n",
      "Epoch 9/20\n",
      "25000/25000 [==============================] - 4s 152us/step - loss: 0.1383 - acc: 0.9540 - val_loss: 0.3093 - val_acc: 0.8799\n",
      "Epoch 10/20\n",
      "25000/25000 [==============================] - 4s 154us/step - loss: 0.1272 - acc: 0.9584 - val_loss: 0.3110 - val_acc: 0.8797\n",
      "Epoch 11/20\n",
      "25000/25000 [==============================] - 4s 171us/step - loss: 0.1173 - acc: 0.9621 - val_loss: 0.3217 - val_acc: 0.8781\n",
      "Epoch 12/20\n",
      "25000/25000 [==============================] - 4s 151us/step - loss: 0.1082 - acc: 0.9658 - val_loss: 0.3479 - val_acc: 0.8725\n",
      "Epoch 13/20\n",
      "25000/25000 [==============================] - 4s 148us/step - loss: 0.1006 - acc: 0.9682 - val_loss: 0.3492 - val_acc: 0.8744\n",
      "Epoch 14/20\n",
      "25000/25000 [==============================] - 4s 148us/step - loss: 0.0931 - acc: 0.9709 - val_loss: 0.3656 - val_acc: 0.8730\n",
      "Epoch 15/20\n",
      "25000/25000 [==============================] - 4s 149us/step - loss: 0.0870 - acc: 0.9727 - val_loss: 0.3875 - val_acc: 0.8675\n",
      "Epoch 16/20\n",
      "25000/25000 [==============================] - 4s 149us/step - loss: 0.0800 - acc: 0.9757 - val_loss: 0.3982 - val_acc: 0.8691\n",
      "Epoch 17/20\n",
      "25000/25000 [==============================] - 4s 149us/step - loss: 0.0744 - acc: 0.9784 - val_loss: 0.4325 - val_acc: 0.8633\n",
      "Epoch 18/20\n",
      "25000/25000 [==============================] - 4s 152us/step - loss: 0.0692 - acc: 0.9791 - val_loss: 0.4305 - val_acc: 0.8657\n",
      "Epoch 19/20\n",
      "25000/25000 [==============================] - 4s 149us/step - loss: 0.0640 - acc: 0.9815 - val_loss: 0.4523 - val_acc: 0.8618\n",
      "Epoch 20/20\n",
      "25000/25000 [==============================] - 4s 148us/step - loss: 0.0588 - acc: 0.9833 - val_loss: 0.4698 - val_acc: 0.8627\n"
     ]
    }
   ],
   "source": [
    "smaller_model_hist = smaller_model.fit(x_train, y_train,\n",
    "                                       epochs=20,\n",
    "                                       batch_size=512,\n",
    "                                       validation_data=(x_test, y_test))"
   ]
  },
  {
   "cell_type": "code",
   "execution_count": 7,
   "metadata": {},
   "outputs": [],
   "source": [
    "epochs = range(1, 21)\n",
    "original_val_loss = original_hist.history['val_loss']\n",
    "smaller_model_val_loss = smaller_model_hist.history['val_loss']"
   ]
  },
  {
   "cell_type": "code",
   "execution_count": 8,
   "metadata": {},
   "outputs": [
    {
     "data": {
      "image/png": "iVBORw0KGgoAAAANSUhEUgAAAYIAAAEGCAYAAABo25JHAAAABHNCSVQICAgIfAhkiAAAAAlwSFlzAAALEgAACxIB0t1+/AAAADh0R