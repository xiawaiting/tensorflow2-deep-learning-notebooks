{
 "cells": [
  {
   "cell_type": "code",
   "execution_count": 1,
   "metadata": {},
   "outputs": [
    {
     "name": "stdout",
     "output_type": "stream",
     "text": [
      "Tensorflow :  2.0.0\n",
      " |-> Keras :  2.2.4-tf\n"
     ]
    }
   ],
   "source": [
    "import tensorflow as tf\n",
    "from tensorflow import keras\n",
    "print( 'Tensorflow : ',tf.__version__)\n",
    "print( ' |-> Keras : ',keras.__version__)"
   ]
  },
  {
   "cell_type": "markdown",
   "metadata": {},
   "source": [
    "# Classifying movie reviews: a binary classification example\n",
    "\n",
    "This notebook contains the code samples found in Chapter 3, Section 5 of [Deep Learning with Python](https://www.manning.com/books/deep-learning-with-python?a_aid=keras&a_bid=76564dff). Note that the original text features far more content, in particular further explanations and figures: in this notebook, you will only find source code and related comments.\n",
    "\n",
    "----\n",
    "\n",
    "\n",
    "Two-class classification, or binary classification, may be the most widely applied kind of machine learning problem. In this example, we \n",
    "will learn to classify movie reviews into \"positive\" reviews and \"negative\" reviews, just based on the text content of the reviews."
   ]
  },
  {
   "cell_type": "markdown",
   "metadata": {},
   "source": [
    "## The IMDB dataset\n",
    "\n",
    "\n",
    "We'll be working with \"IMDB dataset\", a set of 50,000 highly-polarized reviews from the Internet Movie Database. They are split into 25,000 \n",
    "reviews for training and 25,000 reviews for testing, each set consisting in 50% negative and 50% positive reviews.\n",
    "\n",
    "Why do we have these two separate training and test sets? You should never test a machine learning model on the same data that you used to \n",
    "train it! Just because a model performs well on its training data doesn't mean that it will perform well on data it has never seen, and \n",
    "what you actually care about is your model's performance on new data (since you already know the labels of your training data -- obviously \n",
    "you don't need your model to predict those). For instance, it is possible that your model could end up merely _memorizing_ a mapping between \n",
    "your training samples and their targets -- which would be completely useless for the task of predicting targets for data never seen before. \n",
    "We will go over this point in much more detail in the next chapter.\n",
    "\n",
    "Just like the MNIST dataset, the IMDB dataset comes packaged with Keras. It has already been preprocessed: the reviews (sequences of words) \n",
    "have been turned into sequences of integers, where each integer stands for a specific word in a dictionary.\n",
    "\n",
    "The following code will load the dataset (when you run it for the first time, about 80MB of data will be downloaded to your machine):"
   ]
  },
  {
   "cell_type": "code",
   "execution_count": 2,
   "metadata": {},
   "outputs": [
    {
     "name": "stderr",
     "output_type": "stream",
     "text": [
      "Using TensorFlow backend.\n"
     ]
    },
    {
     "name": "stdout",
     "output_type": "stream",
     "text": [
      "Downloading data from https://s3.amazonaws.com/text-datasets/imdb.npz\n",
      "17465344/17464789 [==============================] - 12s 1us/step\n"
     ]
    }
   ],
   "source": [
    "from keras.datasets import imdb\n",
    "\n",
    "(train_data, train_labels), (test_data, test_labels) = imdb.load_data(num_words=10000)"
   ]
  },
  {
   "cell_type": "markdown",
   "metadata": {},
   "source": [
    "\n",
    "The argument `num_words=10000` means that we will only keep the top 10,000 most frequently occurring words in the training data. Rare words \n",
    "will be discarded. This allows us to work with vector data of manageable size.\n",
    "\n",
    "The variables `train_data` and `test_data` are lists of reviews, each review being a list of word indices (encoding a sequence of words). \n",
    "`train_labels` and `test_labels` are lists of 0s and 1s, where 0 stands for \"negative\" and 1 stands for \"positive\":"
   ]
  },
  {
   "cell_type": "code",
   "execution_count": 3,
   "metadata": {},
   "outputs": [
    {
     "data": {
      "text/plain": [
       "[1,\n",
       " 14,\n",
       " 22,\n",
       " 16,\n",
       " 43,\n",
       " 530,\n",
       " 973,\n",
       " 1622,\n",
       " 1385,\n",
       " 65,\n",
       " 458,\n",
       " 4468,\n",
       " 66,\n",
       " 3941,\n",
       " 4,\n",
       " 173,\n",
       " 36,\n",
       " 256,\n",
       " 5,\n",
       " 25,\n",
       " 100,\n",
       " 43,\n",
       " 838,\n",
       " 112,\n",
       " 50,\n",
       " 670,\n",
       " 2,\n",
       " 9,\n",
       " 35,\n",
       " 480,\n",
       " 284,\n",
       " 5,\n",
       " 150,\n",
       " 4,\n",
       " 172,\n",
       " 112,\n",
       " 167,\n",
       " 2,\n",
       " 336,\n",
       " 385,\n",
       " 39,\n",
       " 4,\n",
       " 172,\n",
       " 4536,\n",
       " 1111,\n",
       " 17,\n",
       " 546,\n",
       " 38,\n",
       " 13,\n",
       " 447,\n",
       " 4,\n",
       " 192,\n",
       " 50,\n",
       " 16,\n",
       " 6,\n",
       " 147,\n",
       " 2025,\n",
       " 19,\n",
       " 14,\n",
       " 22,\n",
       " 4,\n",
       " 1920,\n",
       " 4613,\n",
       " 469,\n",
       " 4,\n",
       " 22,\n",
       " 71,\n",
       " 87,\n",
       " 12,\n",
       " 16,\n",
       " 43,\n",
       " 530,\n",
       " 38,\n",
       " 76,\n",
       " 15,\n",
       " 13,\n",
       " 1247,\n",
       " 4,\n",
       " 22,\n",
       " 17,\n",
       " 515,\n",
       " 17,\n",
       " 12,\n",
       " 16,\n",
       " 626,\n",
       " 18,\n",
       " 2,\n",
       " 5,\n",
       " 62,\n",
       " 386,\n",
       " 12,\n",
       " 8,\n",
       " 316,\n",
       " 8,\n",
       " 106,\n",
       " 5,\n",
       " 4,\n",
       " 2223,\n",
       " 5244,\n",
       " 16,\n",
       " 480,\n",
       " 66,\n",
       " 3785,\n",
       " 33,\n",
       " 4,\n",
       " 130,\n",
       " 12,\n",
       " 16,\n",
       " 38,\n",
       " 619,\n",
       " 5,\n",
       " 25,\n",
       " 124,\n",
       " 51,\n",
       " 36,\n",
       " 135,\n",
       " 48,\n",
       " 25,\n",
       " 1415,\n",
       " 33,\n",
       " 6,\n",
       " 22,\n",
       " 12,\n",
       " 215,\n",
       " 28,\n",
       " 77,\n",
       " 52,\n",
       " 5,\n",
       " 14,\n",
       " 407,\n",
       " 16,\n",
       " 82,\n",
       " 2,\n",
       " 8,\n",
       " 4,\n",
       " 107,\n",
       " 117,\n",
       " 5952,\n",
       " 15,\n",
       " 256,\n",
       " 4,\n",
       " 2,\n",
       " 7,\n",
       " 3766,\n",
       " 5,\n",
       " 723,\n",
       " 36,\n",
       " 71,\n",
       " 43,\n",
       " 530,\n",
       " 476,\n",
       " 26,\n",
       " 400,\n",
       " 317,\n",
       " 46,\n",
       " 7,\n",
       " 4,\n",
       " 2,\n",
       " 1029,\n",
       " 13,\n",
       " 104,\n",
       " 88,\n",
       " 4,\n",
       " 381,\n",
       " 15,\n",
       " 297,\n",
       " 98,\n",
       " 32,\n",
       " 2071,\n",
       " 56,\n",
       " 26,\n",
       " 141,\n",
       " 6,\n",
       " 194,\n",
       " 7486,\n",
       " 18,\n",
       " 4,\n",
       " 226,\n",
       " 22,\n",
       " 21,\n",
       " 134,\n",
       " 476,\n",
       " 26,\n",
       " 480,\n",
       " 5,\n",
       " 144,\n",
       " 30,\n",
       " 5535,\n",
       " 18,\n",
       " 51,\n",
       " 36,\n",
       " 28,\n",
       " 224,\n",
       " 92,\n",
       " 25,\n",
       " 104,\n",
       " 4,\n",
       " 226,\n",
       " 65,\n",
       " 16,\n",
       " 38,\n",
       " 1334,\n",
       " 88,\n",
       " 12,\n",
       " 16,\n",
       " 283,\n",
       " 5,\n",
       " 16,\n",
       " 4472,\n",
       " 113,\n",
       " 103,\n",
       " 32,\n",
       " 15,\n",
       " 16,\n",
       " 5345,\n",
       " 19,\n",
       " 178,\n",
       " 32]"
      ]
     },
     "execution_count": 3,
     "metadata": {},
     "output_type": "execute_result"
    }
   ],
   "source": [
    "train_data[0]"
   ]
  },
  {
   "cell_type": "code",
   "execution_count": 4,
   "metadata": {},
   "outputs": [
    {
     "data": {
      "text/plain": [
       "1"
      ]
     },
     "execution_count": 4,
     "metadata": {},
     "output_type": "execute_result"
    }
   ],
   "source": [
    "train_labels[0]"
   ]
  },
  {
   "cell_type": "markdown",
   "metadata": {},
   "source": [
    "Since we restricted ourselves to the top 10,000 most frequent words, no word index will exceed 10,000:"
   ]
  },
  {
   "cell_type": "code",
   "execution_count": 5,
   "metadata": {},
   "outputs": [
    {
     "data": {
      "text/plain": [
       "9999"
      ]
     },
     "execution_count": 5,
     "metadata": {},
     "output_type": "execute_result"
    }
   ],
   "source": [
    "max([max(sequence) for sequence in train_data])"
   ]
  },
  {
   "cell_type": "markdown",
   "metadata": {},
   "source": [
    "For kicks, here's how you can quickly decode one of these reviews back to English words:"
   ]
  },
  {
   "cell_type": "code",
   "execution_count": 6,
   "metadata": {},
   "outputs": [
    {
     "name": "stdout",
     "output_type": "stream",
     "text": [
      "Downloading data from https://s3.amazonaws.com/text-datasets/imdb_word_index.json\n",
      "1646592/1641221 [==============================] - 2s 1us/step\n"
     ]
    }
   ],
   "source": [
    "# word_index is a dictionary mapping words to an integer index\n",
    "word_index = imdb.get_word_index()\n",
    "# We reverse it, mapping integer indices to words\n",
    "reverse_word_index = dict([(value, key) for (key, value) in word_index.items()])\n",
    "# We decode the review; note that our indices were offset by 3\n",
    "# because 0, 1 and 2 are reserved indices for \"padding\", \"start of sequence\", and \"unknown\".\n",
    "decoded_review = ' '.join([reverse_word_index.get(i - 3, '?') for i in train_data[0]])"
   ]
  },
  {
   "cell_type": "code",
   "execution_count": 7,
   "metadata": {},
   "outputs": [
    {
     "data": {
      "text/plain": [
       "\"? this film was just brilliant casting location scenery story direction everyone's really suited the part they played and you could just imagine being there robert ? is an amazing actor and now the same being director ? father came from the same scottish island as myself so i loved the fact there was a real connection with this film the witty remarks throughout the film were great it was just brilliant so much that i bought the film as soon as it was released for ? and would recommend it to everyone to watch and the fly fishing was amazing really cried at the end it was so sad and you know what they say if you cry at a film it must have been good and this definitely was also ? to the two little boy's that played the ? of norman and paul they were just brilliant children are often left out of the ? list i think because the stars that play them all grown up are such a big profile for the whole film but these children are amazing and should be praised for what they have done don't you think the whole story was so lovely because it was true and was someone's life after all that was shared with us all\""
      ]
     },
     "execution_count": 7,
     "metadata": {},
     "output_type": "execute_result"
    }
   ],
   "source": [
    "decoded_review"
   ]
  },
  {
   "cell_type": "markdown",
   "metadata": {},
   "source": [
    "## Preparing the data\n",
    "\n",
    "\n",
    "We cannot feed lists of integers into a neural network. We have to turn our lists into tensors. There are two ways we could do that:\n",
    "\n",
    "* We could pad our lists so that they all have the same length, and turn them into an integer tensor of shape `(samples, word_indices)`, \n",
    "then use as first layer in our network a layer capable of handling such integer tensors (the `Embedding` layer, which we will cover in \n",
    "detail later in the book).\n",
    "* We could one-hot-encode our lists to turn them into vectors of 0s and 1s. Concretely, this would mean for instance turning the sequence \n",
    "`[3, 5]` into a 10,000-dimensional vector that would be all-zeros except for indices 3 and 5, which would be ones. Then we could use as \n",
    "first layer in our network a `Dense` layer, capable of handling floating point vector data.\n",
    "\n",
    "We will go with the latter solution. Let's vectorize our data, which we will do manually for maximum clarity:"
   ]
  },
  {
   "cell_type": "code",
   "execution_count": 8,
   "metadata": {},
   "outputs": [],
   "source": [
    "import numpy as np\n",
    "\n",
    "def vectorize_sequences(sequences, dimension=10000):\n",
    "    # Create an all-zero matrix of shape (len(sequences), dimension)\n",
    "    results = np.zeros((len(sequences), dimension))\n",
    "    for i, sequence in enumerate(sequences):\n",
    "        results[i, sequence] = 1.  # set specific indices of results[i] to 1s\n",
    "    return results\n",
    "\n",
    "# Our vectorized training data\n",
    "x_train = vectorize_sequences(train_data)\n",
    "# Our vectorized test data\n",
    "x_test = vectorize_sequences(test_data)"
   ]
  },
  {
   "cell_type": "markdown",
   "metadata": {},
   "source": [
    "Here's what our samples look like now:"
   ]
  },
  {
   "cell_type": "code",
   "execution_count": 9,
   "metadata": {},
   "outputs": [
    {
     "data": {
      "text/plain": [
       "array([0., 1., 1., ..., 0., 0., 0.])"
      ]
     },
     "execution_count": 9,
     "metadata": {},
     "output_type": "execute_result"
    }
   ],
   "source": [
    "x_train[0]"
   ]
  },
  {
   "cell_type": "markdown",
   "metadata": {},
   "source": [
    "We should also vectorize our labels, which is straightforward:"
   ]
  },
  {
   "cell_type": "code",
   "execution_count": 10,
   "metadata": {},
   "outputs": [],
   "source": [
    "# Our vectorized labels\n",
    "y_train = np.asarray(train_labels).astype('float32')\n",
    "y_test = np.asarray(test_labels).astype('float32')"
   ]
  },
  {
   "cell_type": "markdown",
   "metadata": {},
   "source": [
    "Now our data is ready to be fed into a neural network."
   ]
  },
  {
   "cell_type": "markdown",
   "metadata": {},
   "source": [
    "## Building our network\n",
    "\n",
    "\n",
    "Our input data is simply vectors, and our labels are scalars (1s and 0s): this is the easiest setup you will ever encounter. A type of \n",
    "network that performs well on such a problem would be a simple stack of fully-connected (`Dense`) layers with `relu` activations: `Dense(16, \n",
    "activation='relu')`\n",
    "\n",
    "The argument being passed to each `Dense` layer (16) is the number of \"hidden units\" of the layer. What's a hidden unit? It's a dimension \n",
    "in the representation space of the layer. You may remember from the previous chapter that each such `Dense` layer with a `relu` activation implements \n",
    "the following chain of tensor operations:\n",
    "\n",
    "`output = relu(dot(W, input) + b)`\n",
    "\n",
    "Having 16 hidden units means that the weight matrix `W` will have shape `(input_dimension, 16)`, i.e. the dot product with `W` will project the \n",
    "input data onto a 16-dimensional representation space (and then we would add the bias vector `b` and apply the `relu` operation). You can \n",
    "intuitively understand the dimensionality of your representation space as \"how much freedom you are allowing the network to have when \n",
    "learning internal representations\". Having more hidden units (a higher-dimensional representation space) allows your network to learn more \n",
    "complex representations, but it makes your network more computationally expensive and may lead to learning unwanted patterns (patterns that \n",
    "will improve performance on the training data but not on the test data).\n",
    "\n",
    "There are two key architecture decisions to be made about such stack of dense layers:\n",
    "\n",
    "* How many layers to use.\n",
    "* How many \"hidden units\" to chose for each layer.\n",
    "\n",
    "In the next chapter, you will learn formal principles to guide you in making these choices. \n",
    "For the time being, you will have to trust us with the following architecture choice: \n",
    "two intermediate layers with 16 hidden units each, \n",
    "and a third layer which will output the scalar prediction regarding the sentiment of the current review. \n",
    "The intermediate layers will use `relu` as their \"activation function\", \n",
    "and the final layer will use a sigmoid activation so as to output a probability \n",
    "(a score between 0 and 1, indicating how likely the sample is to have the target \"1\", i.e. how likely the review is to be positive). \n",
    "A `relu` (rectified linear unit) is a function meant to zero-out negative values, \n",
    "while a sigmoid \"squashes\" arbitrary values into the `[0, 1]` interval, thus outputting something that can be interpreted as a probability."
   ]
  },
  {
   "cell_type": "markdown",
   "metadata": {},
   "source": [
    "Here's what our network looks like:\n",
    "\n",
    "![3-layer network](https://s3.amazonaws.com/book.keras.io/img/ch3/3_layer_network.png)"
   ]
  },
  {
   "cell_type": "markdown",
   "metadata": {},
   "source": [
    "And here's the Keras implementation, very similar to the MNIST example you saw previously:"
   ]
  },
  {
   "cell_type": "code",
   "execution_count": 11,
   "metadata": {},
   "outputs": [],
   "source": [
    "from keras import models\n",
    "from keras import layers\n",
    "\n",
    "model = models.Sequential()\n",
    "model.add(layers.Dense(16, activation='relu', input_shape=(10000,)))\n",
    "model.add(layers.Dense(16, activation='relu'))\n",
    "model.add(layers.Dense(1, activation='sigmoid'))"
   ]
  },
  {
   "cell_type": "markdown",
   "metadata": {},
   "source": [
    "\n",
    "Lastly, we need to pick a loss function and an optimizer. Since we are facing a binary classification problem and the output of our network \n",
    "is a probability (we end our network with a single-unit layer with a sigmoid activation), is it best to use the `binary_crossentropy` loss. \n",
    "It isn't the only viable choice: you could use, for instance, `mean_squared_error`. But crossentropy is usually the best choice when you \n",
    "are dealing with models that output probabilities. Crossentropy is a quantity from the field of Information Theory, that measures the \"distance\" \n",
    "between probability distributions, or in our case, between the ground-truth distribution and our predictions.\n",
    "\n",
    "Here's the step where we configure our model with the `rmsprop` optimizer and the `binary_crossentropy` loss function. Note that we will \n",
    "also monitor accuracy during training."
   ]
  },
  {
   "cell_type": "code",
   "execution_count": 12,
   "metadata": {},
   "outputs": [],
   "source": [
    "model.compile(optimizer='rmsprop',\n",
    "              loss='binary_crossentropy',\n",
    "              metrics=['accuracy'])"
   ]
  },
  {
   "cell_type": "markdown",
   "metadata": {},
   "source": [
    "We are passing our optimizer, loss function and metrics as strings, which is possible because `rmsprop`, `binary_crossentropy` and \n",
    "`accuracy` are packaged as part of Keras. Sometimes you may want to configure the parameters of your optimizer, or pass a custom loss \n",
    "function or metric function. This former can be done by passing an optimizer class instance as the `optimizer` argument:"
   ]
  },
  {
   "cell_type": "code",
   "execution_count": 13,
   "metadata": {},
   "outputs": [],
   "source": [
    "from keras import optimizers\n",
    "\n",
    "model.compile(optimizer=optimizers.RMSprop(lr=0.001),\n",
    "              loss='binary_crossentropy',\n",
    "              metrics=['accuracy'])"
   ]
  },
  {
   "cell_type": "markdown",
   "metadata": {},
   "source": [
    "The latter can be done by passing function objects as the `loss` or `metrics` arguments:"
   ]
  },
  {
   "cell_type": "code",
   "execution_count": 14,
   "metadata": {},
   "outputs": [],
   "source": [
    "from keras import losses\n",
    "from keras import metrics\n",
    "\n",
    "model.compile(optimizer=optimizers.RMSprop(lr=0.001),\n",
    "              loss=losses.binary_crossentropy,\n",
    "              metrics=[metrics.binary_accuracy])"
   ]
  },
  {
   "cell_type": "markdown",
   "metadata": {},
   "source": [
    "## Validating our approach\n",
    "\n",
    "In order to monitor during training the accuracy of the model on data that it has never seen before, we will create a \"validation set\" by \n",
    "setting apart 10,000 samples from the original training data:"
   ]
  },
  {
   "cell_type": "code",
   "execution_count": 15,
   "metadata": {},
   "outputs": [],
   "source": [
    "x_val = x_train[:10000]\n",
    "partial_x_train = x_train[10000:]\n",
    "\n",
    "y_val = y_train[:10000]\n",
    "partial_y_train = y_train[10000:]"
   ]
  },
  {
   "cell_type": "markdown",
   "metadata": {
    "collapsed": true
   },
   "source": [
    "We will now train our model for 20 epochs (20 iterations over all samples in the `x_train` and `y_train` tensors), in mini-batches of 512 \n",
    "samples. At this same time we will monitor loss and accuracy on the 10,000 samples that we set apart. This is done by passing the \n",
    "validation data as the `validation_data` argument:"
   ]
  },
  {
   "cell_type": "code",
   "execution_count": 16,
   "metadata": {},
   "outputs": [
    {
     "name": "stdout",
     "output_type": "stream",
     "text": [
      "Train on 15000 samples, validate on 10000 samples\n",
      "Epoch 1/20\n",
      "15000/15000 [==============================] - 12s 781us/step - loss: 0.4991 - binary_accuracy: 0.7967 - val_loss: 0.3775 - val_binary_accuracy: 0.8717\n",
      "Epoch 2/20\n",
      "15000/15000 [==============================] - 4s 235us/step - loss: 0.2999 - binary_accuracy: 0.9031 - val_loss: 0.3150 - val_binary_accuracy: 0.8782\n",
      "Epoch 3/20\n",
      "15000/15000 [==============================] - 3s 218us/step - loss: 0.2187 - binary_accuracy: 0.9298 - val_loss: 0.2769 - val_binary_accuracy: 0.8904\n",
      "Epoch 4/20\n",
      "15000/15000 [==============================] - 3s 217us/step - loss: 0.1747 - binary_accuracy: 0.9426 - val_loss: 0.2777 - val_binary_accuracy: 0.8888\n",
      "Epoch 5/20\n",
      "15000/15000 [==============================] - 3s 219us/step - loss: 0.1394 - binary_accuracy: 0.9554 - val_loss: 0.2804 - val_binary_accuracy: 0.8872\n",
      "Epoch 6/20\n",
      "15000/15000 [==============================] - 3s 217us/step - loss: 0.1155 - binary_accuracy: 0.9657 - val_loss: 0.3009 - val_binary_accuracy: 0.8825\n",
      "Epoch 7/20\n",
      "15000/15000 [==============================] - 3s 220us/step - loss: 0.0959 - binary_accuracy: 0.9722 - val_loss: 0.3192 - val_binary_accuracy: 0.8819\n",
      "Epoch 8/20\n",
      "15000/15000 [==============================] - 3s 222us/step - loss: 0.0804 - binary_accuracy: 0.9758 - val_loss: 0.3625 - val_binary_accuracy: 0.8749\n",
      "Epoch 9/20\n",
      "15000/15000 [==============================] - 3s 230us/step - loss: 0.0642 - binary_accuracy: 0.9827 - val_loss: 0.3592 - val_binary_accuracy: 0.8768\n",
      "Epoch 10/20\n",
      "15000/15000 [==============================] - 3s 223us/step - loss: 0.0556 - binary_accuracy: 0.9852 - val_loss: 0.3776 - val_binary_accuracy: 0.8766\n",
      "Epoch 11/20\n",
      "15000/15000 [==============================] - 3s 226us/step - loss: 0.0432 - binary_accuracy: 0.9895 - val_loss: 0.4054 - val_binary_accuracy: 0.8767\n",
      "Epoch 12/20\n",
      "15000/15000 [==============================] - 3s 219us/step - loss: 0.0344 - binary_accuracy: 0.9931 - val_loss: 0.4330 - val_binary_accuracy: 0.8745\n",
      "Epoch 13/20\n",
      "15000/15000 [==============================] - 3s 217us/step - loss: 0.0286 - binary_accuracy: 0.9940 - val_loss: 0.4635 - val_binary_accuracy: 0.8742\n",
      "Epoch 14/20\n",
      "15000/15000 [==============================] - 3s 219us/step - loss: 0.0240 - binary_accuracy: 0.9945 - val_loss: 0.4959 - val_binary_accuracy: 0.8718\n",
      "Epoch 15/20\n",
      "15000/15000 [==============================] - 3s 218us/step - loss: 0.0194 - binary_accuracy: 0.9965 - val_loss: 0.5265 - val_binary_accuracy: 0.8708\n",
      "Epoch 16/20\n",
      "15000/15000 [==============================] - 3s 217us/step - loss: 0.0105 - binary_accuracy: 0.9994 - val_loss: 0.5594 - val_binary_accuracy: 0.8689\n",
      "Epoch 17/20\n",
      "15000/15000 [==============================] - 3s 218us/step - loss: 0.0134 - binary_accuracy: 0.9980 - val_loss: 0.5911 - val_binary_accuracy: 0.8693\n",
      "Epoch 18/20\n",
      "15000/15000 [==============================] - 3s 219us/step - loss: 0.0063 - binary_accuracy: 0.9998 - val_loss: 0.6330 - val_binary_accuracy: 0.8677\n",
      "Epoch 19/20\n",
      "15000/15000 [==============================] - 3s 217us/step - loss: 0.0069 - binary_accuracy: 0.9995 - val_loss: 0.6634 - val_binary_accuracy: 0.8681\n",
      "Epoch 20/20\n",
      "15000/15000 [==============================] - 3s 216us/step - loss: 0.0071 - binary_accuracy: 0.9989 - val_loss: 0.7030 - val_binary_accuracy: 0.8668\n"
     ]
    }
   ],
   "source": [
    "history = model.fit(partial_x_train,\n",
    "                    partial_y_train,\n",
    "                    epochs=20,\n",
    "                    batch_size=512,\n",
    "                    validation_data=(x_val, y_val))"
   ]
  },
  {
   "cell_type": "markdown",
   "metadata": {},
   "source": [
    "On CPU, this will take less than two seconds per epoch -- training is over in 20 seconds. At the end of every epoch, there is a slight pause \n",
    "as the model computes its loss and accuracy on the 10,000 samples of the validation data.\n",
    "\n",
    "Note that the call to `model.fit()` returns a `History` object. This object has a member `history`, which is a dictionary containing data \n",
    "about everything that happened during training. Let's take a look at it:"
   ]
  },
  {
   "cell_type": "code",
   "execution_count": 17,
   "metadata": {},
   "outputs": [
    {
     "data": {
      "text/plain": [
       "dict_keys(['val_loss', 'val_binary_accuracy', 'loss', 'binary_accuracy'])"
      ]
     },
     "execution_count": 17,
     "metadata": {},
     "output_type": "execute_result"
    }
   ],
   "source": [
    "history_dict = history.history\n",
    "history_dict.keys()"
   ]
  },
  {
   "cell_type": "markdown",
   "metadata": {},
   "source": [
    "It contains 4 entries: one per metric that was being monitored, during training and during validation. Let's use Matplotlib to plot the \n",
    "training and validation loss side by side, as well as the training and validation accuracy:"
   ]
  },
  {
   "cell_type": "code",
   "execution_count": 21,
   "metadata": {},
   "outputs": [
    {
     "data": {
      "image/png": "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